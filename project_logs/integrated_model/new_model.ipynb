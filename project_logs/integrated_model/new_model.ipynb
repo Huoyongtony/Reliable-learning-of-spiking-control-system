{
 "cells": [
  {
   "cell_type": "code",
   "execution_count": 10,
   "metadata": {},
   "outputs": [],
   "source": [
    "import numpy as np\n",
    "import matplotlib.pyplot as plt\n",
    "import time\n",
    "from numba import jit,njit\n",
    "from numba import int32, float32 ,float64   # import the types\n",
    "from numba.experimental import jitclass\n",
    "from numba.typed import List as NumbaList\n",
    "from scipy.integrate import solve_ivp\n",
    "from typing import List\n",
    "exp=np.exp\n",
    "\n",
    "@jit\n",
    "def alpha_m (V):\n",
    "    return -0.025*(V+40.)/( exp(-(V+40)/10) - 1.0 )\n",
    "@jit\n",
    "def beta_m(V):\n",
    "    return exp(-(V+65)/18)\n",
    "@jit\n",
    "def mNa_inf(V):\n",
    "    return alpha_m(V) / (alpha_m(V) + beta_m(V))\n",
    "@jit\n",
    "def tau_mNa(V):\n",
    "    return 1 / (alpha_m(V) + beta_m(V))/5\n",
    "@jit\n",
    "def alpha_h(V):\n",
    "    return 0.0175*exp(-(V+65)/20)\n",
    "@jit\n",
    "def beta_h(V):\n",
    "    return 0.25/(1.0 + exp(-(V+35)/10) )\n",
    "@jit\n",
    "def hNa_inf(V):\n",
    "    return alpha_h(V) / (alpha_h(V) + beta_h(V))\n",
    "@jit\n",
    "def tau_hNa (V):\n",
    "    return 1 / (alpha_h(V) + beta_h(V))/5\n",
    "Kdshift=10.0\n",
    "@jit\n",
    "def alpha_mKd(V):\n",
    "    return 0.0025*(V+55.)/(1. - exp(-(V+55.)/10.))\n",
    "\n",
    "@jit\n",
    "def beta_mKd(V):\n",
    "    return 0.03125*exp(-(V+65.)/80.)\n",
    "\n",
    "@jit\n",
    "def mKd_inf (V):\n",
    "    return alpha_mKd(V-Kdshift) / (alpha_mKd(V-Kdshift) + beta_mKd(V-Kdshift))\n",
    "@jit\n",
    "def tau_mKd (V):\n",
    "    return 1 / (alpha_mKd(V-Kdshift) + beta_mKd(V-Kdshift))/5 \n",
    "\n",
    "@jit\n",
    "def mA_inf (V):\n",
    "    return 1/(1+exp(-(V+90)/8.5))\n",
    "@jit\n",
    "def tau_mA (V):\n",
    "    return 0.37 + 1/(exp((V+35.82)/19.697)+exp((V+79.69)/-12.7))/5\n",
    "@jit\n",
    "def hA_inf (V):\n",
    "    return 1/(1+exp((V+78)/6))\n",
    "\n",
    "@jit\n",
    "def tau_hA(V): # Inactivation time-constant\n",
    "    if (V < -63):\n",
    "        tau_hA = 1/(exp((V+46.05)/5)+exp((V+238.4)/-37.45))\n",
    "    else:\n",
    "        tau_hA = 19\n",
    "    return tau_hA/5\n",
    "\n",
    "@jit\n",
    "def mKir_inf (V):\n",
    "    return 1/(1+exp((V+97.9+10)/9.7))\n",
    "\n",
    "# T-type Ca-current (mt=activation variable, ht=inactivation variable)\n",
    "@jit\n",
    "def mt_inf (V):\n",
    "    return 1/(1+exp(-(V+57)/6.2)) # Activation function\n",
    "@jit\n",
    "def tau_mt (V):\n",
    "    return 0.612 + 1/(exp(-(V+131.6)/16.7)+exp((V+16.8)/18.2)) # Activation time-constant\n",
    "@jit\n",
    "def ht_inf(V):\n",
    "    return 1/(1+exp((V+81)/4.03))# Inactivation function\n",
    "@jit\n",
    "def tau_ht(V): # Inactivation time-constant\n",
    "    if (V < -80):\n",
    "        tau_ht = exp((V+467)/66.6)\n",
    "    else:\n",
    "        tau_ht = (exp(-(V+21.88)/10.2)+28)\n",
    "    return tau_ht\n",
    "\n",
    "\n",
    "# L-type Ca-current (mL=activation variable)\n",
    "@jit\n",
    "def mL_inf (V):\n",
    "    return 1/(1+exp(-(V+55.)/3)) # Activation function\n",
    "@jit\n",
    "def tau_mL(V):\n",
    "    return (72*exp(-(V+45.)**2/400)+6.)# Activation time-constant\n",
    "\n",
    "# H-current (mH=activation variable)\n",
    "@jit\n",
    "def alpha_mH (V):\n",
    "    return exp(-14.59-(0.086*V))\n",
    "@jit\n",
    "def beta_mH (V):\n",
    "    return exp(-1.87+(0.0701*V))\n",
    "@jit\n",
    "def mH_inf (V):\n",
    "    return  alpha_mH(V) /(alpha_mH(V) + beta_mH(V)) # Activation function\n",
    "@jit \n",
    "def tau_mH (V):\n",
    "    return 1/(alpha_mH(V) + beta_mH(V)) # Activation time-constant\n",
    "@jit \n",
    "def heaviside (t):\n",
    "    return (1+np.sign(t))/2\n",
    "@jit \n",
    "def pulse (t,ti,tf):\n",
    "    return heaviside(t-ti)-heaviside(t-tf)\n",
    "\n",
    "sin=np.sin\n",
    "pi=np.pi\n",
    "\n",
    "@jit \n",
    "def Syn_sigm(V):\n",
    "    rSyn = -45;\n",
    "    kSyn = 2;\n",
    "    return 1/(1+exp(-(V-rSyn)/kSyn))\n",
    "@jit \n",
    "def Syn_inf(V,a,b):\n",
    "    return a*Syn_sigm(V)/(a*Syn_sigm(V)+b)\n",
    " \n",
    "@jit \n",
    "def max_abs(a,b):\n",
    "    if abs(a)>abs(b):\n",
    "        return a\n",
    "    else:\n",
    "        return b"
   ]
  },
  {
   "cell_type": "code",
   "execution_count": 11,
   "metadata": {},
   "outputs": [],
   "source": [
    "@jitclass([( \"gSyn\", float64[:]),( \"mask\", float64[:]),( \"gamma_mask\", float64[:])])\n",
    "class neuron:\n",
    "    \n",
    "    min_num:float\n",
    "    Iapp:float\n",
    "    I1:float # Amplitude of first step input\n",
    "    I2:float # Amplitude of second step input\n",
    "    ti1:float # Starting time of first step input\n",
    "    tf1:float # Ending time of first step input\n",
    "    ti2:float # Starting time of second step input\n",
    "    tf2:float # Ending time of second step input\n",
    "    taunoise:float# Cutoff frequency for low-pass filtered Gaussian noise\n",
    "    Ain:float# Amplitude of sinusoïdal inut\n",
    "    Win:float # Frequency of  sinusoïdal inut\n",
    "    gSyn:np.ndarray\n",
    "    syn_num:int\n",
    "    VNa:float# Sodium reversal potential 45\n",
    "    VCa:float # Calcium reversal potential\n",
    "    VK:float # Potassium reversal potential -90\n",
    "    VH:float# Reversal potential for the H-current (permeable to both sodium and potassium ions) -43\n",
    "    Vleak:float # Reversal potential of leak channels\n",
    "    VSyn:float\n",
    "    gT:float # T-type calcium current maximal conductance\n",
    "    gKd:float  # Delayed-rectifier potassium current maximal conductance\n",
    "    gH:float# H-current maximal conductance\n",
    "    gNa:float # Sodium current maximal conductance\n",
    "    gA:float # A-type potassium current maximal conductance\n",
    "    gKir:float  # Inward-rectifier potassium current maximal conductance\n",
    "    gL:float # L-type calcium current maximal conductance\n",
    "    gKCa:float # Calcium-activated potassium current maximal conductance\n",
    "    a:float\n",
    "    b:float\n",
    "    C:float # Membrane capacitance\n",
    "    gLeak:float # Leak current maximal conductance\n",
    "    num_phi:int\n",
    "    num_dinamics:int\n",
    "    num_Theta:int\n",
    "    pos_dinamics:int\n",
    "    pos_Theta:int\n",
    "    pos_phi:int\n",
    "    pos_p:int\n",
    "    pos_u_sys:int\n",
    "    gamma:float\n",
    "    mask:np.ndarray #freeze variable by setting 0 in the mask\n",
    "    gamma_mask:np.ndarray\n",
    "    alpha:float\n",
    "    \n",
    "    def __init__(self,p:List[float]):\n",
    "        \n",
    "        self.min_num=1e-60 \n",
    "        self.Iapp=0. # Amplitude of constant applied current\n",
    "        self.I1=0. # Amplitude of first step input\n",
    "        self.I2=0. # Amplitude of second step input\n",
    "        self.ti1=0. # Starting time of first step input\n",
    "        self.tf1=0. # Ending time of first step input\n",
    "        self.ti2=0. # Starting time of second step input\n",
    "        self.tf2=0. # Ending time of second step input\n",
    "        self.taunoise=0.# Cutoff frequency for low-pass filtered Gaussian noise\n",
    "        self.Ain=0. # Amplitude of sinusoïdal inut\n",
    "        self.Win=0. # Frequency of  sinusoïdal inut\n",
    "        self.syn_num=0\n",
    "        self.VNa = 45; # Sodium reversal potential 45\n",
    "        self.VCa = 120.; # Calcium reversal potential\n",
    "        self.VK = -90.; # Potassium reversal potential -90\n",
    "        self.VH= -43.; # Reversal potential for the H-current (permeable to both sodium and potassium ions) -43\n",
    "        self.Vleak = -55.; # Reversal potential of leak channels\n",
    "        self.VSyn=-120.\n",
    "        \n",
    "        self.gT=p[0] # T-type calcium current maximal conductance\n",
    "        self.gKd=p[1]  # Delayed-rectifier potassium current maximal conductance\n",
    "        self.gH=p[2] # H-current maximal conductance\n",
    "        self.gNa=p[3] # Sodium current maximal conductance\n",
    "        self.gA=p[4] # A-type potassium current maximal conductance\n",
    "        self.gKir=p[5]  # Inward-rectifier potassium current maximal conductance\n",
    "        self.gL=p[6] # L-type calcium current maximal conductance\n",
    "        self.gKCa=p[7] # Calcium-activated potassium current maximal conductance\n",
    "        self.a=p[8]\n",
    "        self.b=p[9]\n",
    "        self.C=p[10] # Membrane capacitance\n",
    "        self.gLeak=p[11] # Leak current maximal conductance\n",
    "        self.num()\n",
    "        \n",
    "    def set_rev(self,p):\n",
    "        self.VNa = p[0] # Sodium reversal potential 45\n",
    "        self.VCa = p[1] ; # Calcium reversal potential\n",
    "        self.VK = p[2] ; # Potassium reversal potential -90\n",
    "        self.VH= p[3] ; # Reversal potential for the H-current (permeable to both sodium and potassium ions) -43\n",
    "        self.Vleak = p[4] ; # Reversal potential of leak channels\n",
    "        self.VSyn=p[5] \n",
    "        \n",
    "    def num(self):\n",
    "        \n",
    "        num_dinamics=12+self.syn_num\n",
    "        num_Theta=9+self.syn_num\n",
    "        self.num_phi=num_Theta\n",
    "        num_p=num_Theta**2\n",
    "        num_u_sys=12+self.syn_num\n",
    "        print('num_Theta',num_Theta)\n",
    "        \n",
    "        self.num_dinamics=num_dinamics\n",
    "        self.num_Theta=num_Theta\n",
    "        self.pos_dinamics=num_dinamics\n",
    "        self.pos_Theta=self.pos_dinamics+num_Theta\n",
    "        self.pos_phi=self.pos_Theta+self.num_phi\n",
    "        self.pos_p=self.pos_phi+num_p\n",
    "        self.pos_u_sys=self.pos_p+num_u_sys\n",
    "        \n",
    "        \n",
    "    def syn_connect(self,gSyn):\n",
    "        self.gSyn=gSyn #synaptic conductance[1*syn_num]\n",
    "        self.syn_num=len(gSyn)\n",
    "        self.num()\n",
    "        \n",
    "    def set_input(self,p:List[float]):\n",
    "        self.Iapp=p[0] # Amplitude of constant applied current\n",
    "        self.I1=p[1] # Amplitude of first step input\n",
    "        self.I2=p[2] # Amplitude of second step input\n",
    "        self.ti1=p[3] # Starting time of first step input\n",
    "        self.tf1=p[4] # Ending time of first step input\n",
    "        self.ti2=p[5] # Starting time of second step input\n",
    "        self.tf2=p[6] # Ending time of second step input\n",
    "        self.taunoise=p[7] # Cutoff frequency for low-pass filtered Gaussian noise\n",
    "        self.Ain=p[8] # Amplitude of sinusoïdal inut\n",
    "        self.Win=p[9] # Frequency of  sinusoïdal inut\n",
    "        \n",
    "    def sys_equ(self,t,u,V_pre:np.ndarray):\n",
    "        \n",
    "        V=u[0] # Membrane potential\n",
    "        mNa=u[1] # Sodium current activation\n",
    "        hNa=u[2] # Sodium current inactivation\n",
    "        mH=u[3] # H current activation\n",
    "        mt=u[4] # T-type calcium current activation\n",
    "        ht=u[5] # T-type calcium current inactivation\n",
    "        mA=u[6] # A-type potassium current activation\n",
    "        hA=u[7] # A-type potassium current inactivation\n",
    "        mKd=u[8] # Delayed-rectifier potassium current activation\n",
    "        mL=u[9] # L-type calcium current activation\n",
    "        Ca=u[10] # Intracellular calcium concentration\n",
    "        noise=u[11] # Input noise\n",
    "        #mSyn=[0.]\n",
    "        if self.syn_num>0:\n",
    "            mSyn = u[12:12+self.syn_num] # synapse\n",
    "        \n",
    "        \n",
    "        if len(V_pre)<self.syn_num:\n",
    "            raise Exception('invaild V_pre')\n",
    "        \n",
    "        syn_i=0.\n",
    "        if self.syn_num>0:\n",
    "            syn_i=-np.dot(self.gSyn,mSyn)*(V-self.VSyn)# synapse\n",
    "        \n",
    "        du1=1/C*(- self.gNa*mNa**3*hNa*(V-self.VNa) - self.gH*mH*(V-self.VH) - self.gT*mt**2*ht*(V-self.VCa) \n",
    "                 - self.gA*mA**4*hA*(V-self.VK) - self.gKd*mKd**4*(V-self.VK)\n",
    "                 -self.gKir*mKir_inf(V)*(V-self.VK) - self.gLeak*(V-self.Vleak)- self.gL*mL*(V-self.VCa) \n",
    "                 - self.gKCa*(Ca/(15.0+Ca))**4*(V-self.VK)\n",
    "                 +syn_i\n",
    "             + self.Iapp + self.I1*pulse(t,self.ti1,self.tf1) \n",
    "             + self.I2*pulse(t,self.ti2,self.tf2) + noise + self.Ain*sin(2*pi*self.Win*t)) # Voltage equation\n",
    "    \n",
    "        du2=1/max_abs(tau_mNa(V),self.min_num)*(-mNa+mNa_inf(V)) # gating equation\n",
    "        du3=1/max_abs(tau_hNa(V),self.min_num)*(-hNa+hNa_inf(V))\n",
    "        du4=1/max_abs(tau_mH(V),self.min_num)*(-mH+mH_inf(V))\n",
    "        du5=1/max_abs(tau_mt(V),self.min_num)*(-mt+mt_inf(V))\n",
    "        du6=1/max_abs(tau_ht(V),self.min_num)*(-ht+ht_inf(V))\n",
    "        du7=1/max_abs(tau_mA(V),self.min_num)*(-mA+mA_inf(V))\n",
    "        du8=1/max_abs(tau_hA(V),self.min_num)*(-hA+hA_inf(V))\n",
    "        du9=1/max_abs(tau_mKd(V),self.min_num)*(-mKd+mKd_inf(V))\n",
    "        du10=1/max_abs(tau_mL(V),self.min_num)*(-mL+mL_inf(V))\n",
    "        du11=(-0.1*(gL*mL*(V-self.VCa))-0.01*Ca)/4 # Variation of intracellular calcium concentration\n",
    "        du12=-noise/self.taunoise\n",
    "        \n",
    "        if self.syn_num>0:\n",
    "            du13=self.a*Syn_sigm(V_pre)*(1-mSyn)-self.b*mSyn\n",
    "            result= [du1,du2,du3,du4,du5,du6,du7,du8,du9,du10,du11,du12,*du13]\n",
    "        else:\n",
    "            result= [du1,du2,du3,du4,du5,du6,du7,du8,du9,du10,du11,du12]\n",
    "#         for i in range(self.syn_num):\n",
    "#             result.append(self.a*Syn_sigm(V_pre[i])*(1-mSyn[i])-self.b*mSyn[i])\n",
    "\n",
    "        return result\n",
    "    \n",
    "    def equ(self,t,u):\n",
    "        return self.sys_equ(t,u,np.array([0.]))\n",
    "    \n",
    "    def set_hyp(self,gamma,alpha,variable_mask):\n",
    "        #Hyperparameters\n",
    "        self.gamma=gamma\n",
    "        self.mask=variable_mask #freeze variable by setting 0 in the mask\n",
    "        self.gamma_mask=variable_mask*gamma\n",
    "        self.alpha=alpha\n",
    "    \n",
    "    def init_cond(self,V0):\n",
    "        x0 = [V0,mNa_inf(V0),hNa_inf(V0),mH_inf(V0),mt_inf(V0),ht_inf(V0) ,mA_inf(V0), hA_inf(V0), mKd_inf(V0), \n",
    "      mL_inf(V0), -10*self.gL*mL_inf(V0)*(V0-self.VCa),0.]\n",
    "        \n",
    "        for i in range(self.syn_num):\n",
    "            x0.append(Syn_inf(V0,self.a,self.b))\n",
    "        return x0\n",
    "    \n",
    "    def init_cond_OB(self,V0):\n",
    "        x0_=self.init_cond(V0)\n",
    "        V1=-np.random.rand(1)*100\n",
    "        x0=self.init_cond(V1[0])\n",
    "        Theta0= np.random.rand(self.num_Theta)*100.\n",
    "        print(Theta0)\n",
    "        print(V1)\n",
    "        A0=(np.ones(self.num_Theta)*0.1)\n",
    "        P0=np.diag(np.diag(np.outer(A0,A0))).flatten()\n",
    "        X0_=[*x0,*Theta0,*A0,*P0,*x0_]\n",
    "        return X0_\n",
    "    \n",
    "    def OB_ODE(self,t,u,V_pre:np.ndarray):\n",
    "\n",
    "        V,mNa,hNa,mH,mt,ht,mA,hA,mKd,mL,Ca,noise=u[0:12]\n",
    "    \n",
    "        #mSyn=[0.]\n",
    "        if self.syn_num>0:\n",
    "            mSyn = u[12:12+self.syn_num] # synapse\n",
    "\n",
    "        u_sys=u[self.pos_p:self.pos_u_sys]\n",
    "        P=u[self.pos_phi:self.pos_p].reshape(self.num_phi,self.num_phi)\n",
    "        Theta=u[self.pos_dinamics:self.pos_Theta]\n",
    "        #print(Theta)\n",
    "        phi=u[self.pos_Theta:self.pos_phi]\n",
    "\n",
    "        obesV=u_sys[0]\n",
    "    \n",
    "        PHI0= -mNa**3*hNa*(obesV-self.VNa) \n",
    "        PHI1= -mH*(obesV-self.VH)\n",
    "        PHI2= -mt**2*ht*(obesV-self.VCa)\n",
    "        PHI3= -mA**4*hA*(obesV-self.VK)\n",
    "        PHI4= - mKd**4*(obesV-self.VK)\n",
    "        PHI5= -mKir_inf(obesV)*(obesV-self.VK)\n",
    "        PHI6= -(obesV-self.Vleak)\n",
    "        PHI7= -mL*(obesV-self.VCa)\n",
    "        PHI8= -(Ca/(15.0+Ca))**4*(obesV-self.VK)\n",
    "        \n",
    "        if self.syn_num>0:\n",
    "            PHI9=-mSyn*(obesV-self.VSyn)\n",
    "            PHI=np.array([PHI0,PHI1,PHI2,PHI3,PHI4,PHI5,PHI6,PHI7,PHI8,*PHI9])\n",
    "        else:\n",
    "            PHI=np.array([PHI0,PHI1,PHI2,PHI3,PHI4,PHI5,PHI6,PHI7,PHI8])\n",
    "            \n",
    "        \n",
    "        Current_in= self.Iapp + self.I1*pulse(t,self.ti1,self.tf1) + self.I2*pulse(t,self.ti2,self.tf2)+ self.Ain*sin(2*pi*self.Win*t)\n",
    "\n",
    "\n",
    "        \n",
    "\n",
    "        #ODEs\n",
    "        temp=self.gamma*(obesV-V)+self.gamma*np.dot(np.dot(phi,P),phi)*(obesV-V)# Voltage equation\n",
    "        temp2=1/C*(np.dot(PHI,Theta) + Current_in)\n",
    "        du1=temp+temp2\n",
    "        #####\n",
    "        du2=1/max_abs(tau_mNa(obesV),self.min_num)*(-mNa+mNa_inf(obesV)) # gating equation\n",
    "        du3=1/max_abs(tau_hNa(obesV),self.min_num)*(-hNa+hNa_inf(obesV))\n",
    "        du4=1/max_abs(tau_mH(obesV),self.min_num)*(-mH+mH_inf(obesV))\n",
    "        du5=1/max_abs(tau_mt(obesV),self.min_num)*(-mt+mt_inf(obesV))\n",
    "        du6=1/max_abs(tau_ht(obesV),self.min_num)*(-ht+ht_inf(obesV))\n",
    "        du7=1/max_abs(tau_mA(obesV),self.min_num)*(-mA+mA_inf(obesV))\n",
    "        du8=1/max_abs(tau_hA(obesV),self.min_num)*(-hA+hA_inf(obesV))\n",
    "        du9=1/max_abs(tau_mKd(obesV),self.min_num)*(-mKd+mKd_inf(obesV))\n",
    "        du10=1/max_abs(tau_mL(obesV),self.min_num)*(-mL+mL_inf(obesV))\n",
    "        du11=(-0.1*(gL*mL*(obesV-VCa))-0.01*Ca)/4 # Variation of intracellular calcium concentration\n",
    "        du12=-noise/self.taunoise # Noise equation\n",
    "        \n",
    "        result= [du1,du2,du3,du4,du5,du6,du7,du8,du9,du10,du11,du12]\n",
    "        \n",
    "        if self.syn_num>0:\n",
    "            du13=self.a*Syn_sigm(V_pre)*(1-mSyn)-self.b*mSyn\n",
    "            result= [du1,du2,du3,du4,du5,du6,du7,du8,du9,du10,du11,du12,*du13]\n",
    "        else:\n",
    "            result= [du1,du2,du3,du4,du5,du6,du7,du8,du9,du10,du11,du12]\n",
    "        \n",
    "\n",
    "        du17=self.gamma_mask*np.dot(P,phi)*(obesV-V)\n",
    "\n",
    "        du18=self.mask*(-self.gamma*phi+PHI)\n",
    "        #du14=(np.absolute(du14)>min_num)*du14\n",
    "\n",
    "        du19=self.alpha*P-np.dot(np.dot(P,np.outer(phi,phi)),P)\n",
    "\n",
    "        du20=self.sys_equ(t,u_sys,V_pre)\n",
    "\n",
    "\n",
    "        return [*result, *du17 ,*du18,*du19.flatten(),*du20]\n",
    "    \n",
    "    def OB_ODE_equ(self,t,u):\n",
    "        out= self.OB_ODE(t,u,np.array([0.]))\n",
    "\n",
    "        return (out)\n"
   ]
  },
  {
   "cell_type": "code",
   "execution_count": 12,
   "metadata": {},
   "outputs": [
    {
     "name": "stdout",
     "output_type": "stream",
     "text": [
      "num_Theta 9\n"
     ]
    }
   ],
   "source": [
    "VCa = 120.\n",
    "## Definition of membrane capacitance and maximal conductance values.\n",
    "gT=2.; # T-type calcium current maximal conductance\n",
    "gKd=80.; # Delayed-rectifier potassium current maximal conductance\n",
    "gH=0.1; # H-current maximal conductance\n",
    "gNa=120.; # Sodium current maximal conductance\n",
    "gA=0.; # A-type potassium current maximal conductance\n",
    "gKir=0.; # Inward-rectifier potassium current maximal conductance\n",
    "gL=0.4; # L-type calcium current maximal conductance\n",
    "gKCa=2.; # Calcium-activated potassium current maximal conductance\n",
    "a=2.0\n",
    "b=0.1\n",
    "C=0.1; # Membrane capacitance\n",
    "gLeak=0.1; # Leak current maximal conductance\n",
    "\n",
    "## Input current defition\n",
    "# Constant current\n",
    "Iapp=0.\n",
    "\n",
    "# Current pulses\n",
    "I1=0. # Amplitude of first pulse\n",
    "ti1=0. # Starting time of first pulse\n",
    "tf1=50. # Ending time of first pulse\n",
    "I2=0. # Amplitude of second pulse\n",
    "ti2=50. # Starting time of second pulse\n",
    "tf2=150. # Ending time of first pulse\n",
    "\n",
    "# Sinusoidal input\n",
    "Ain=2.5 # Amplitude\n",
    "Win=0.5 # Frequency\n",
    "\n",
    "# Input noise\n",
    "NoiseIN=0. # Amplitude\n",
    "TauNoise=2.0 # Cut-off frequency\n",
    "\n",
    "neuron1=neuron(NumbaList([gT,gKd,gH,gNa,gA,gKir,gL,gKCa,a,b,C,gLeak]))\n",
    "neuron1.set_input(NumbaList([Iapp,I1,I2,ti1,tf1,ti2,tf2,TauNoise,Ain,Win]))\n",
    "\n"
   ]
  },
  {
   "cell_type": "code",
   "execution_count": 13,
   "metadata": {},
   "outputs": [],
   "source": [
    "Tfinal=4000.0\n",
    "tspan=[0.0,Tfinal]\n",
    "sol=solve_ivp(neuron1.equ,tspan,neuron1.init_cond(-60))"
   ]
  },
  {
   "cell_type": "code",
   "execution_count": 14,
   "metadata": {},
   "outputs": [
    {
     "data": {
      "text/plain": [
       "[<matplotlib.lines.Line2D at 0x19c40da8370>]"
      ]
     },
     "execution_count": 14,
     "metadata": {},
     "output_type": "execute_result"
    },
    {
     "data": {
      "image/png": "[encoded data removed]",
      "text/plain": [
       "<Figure size 432x288 with 1 Axes>"
      ]
     },
     "metadata": {
      "needs_background": "light"
     },
     "output_type": "display_data"
    }
   ],
   "source": [
    "plt.plot(sol.t, sol.y[0])"
   ]
  },
  {
   "cell_type": "code",
   "execution_count": 15,
   "metadata": {},
   "outputs": [],
   "source": [
    "#Hyperparameters\n",
    "gamma=10.\n",
    "alpha=0.005\n",
    "variable_mask=np.array([1.,1.,1.,1.,1.,1.,1.,1.,1.])\n",
    "neuron1.set_hyp(gamma,alpha,variable_mask)"
   ]
  },
  {
   "cell_type": "code",
   "execution_count": 16,
   "metadata": {},
   "outputs": [
    {
     "name": "stdout",
     "output_type": "stream",
     "text": [
      "[36.22299708 18.555485   28.57973127 41.87693689 61.59104785 49.05282667\n",
      " 13.63125126 15.1882148  41.01800559]\n",
      "[-89.00233436]\n"
     ]
    }
   ],
   "source": [
    "xxx=neuron1.init_cond_OB(-70)\n",
    "sol=solve_ivp(neuron1.OB_ODE_equ,tspan , xxx)"
   ]
  },
  {
   "cell_type": "code",
   "execution_count": 18,
   "metadata": {},
   "outputs": [
    {
     "data": {
      "image/png": "[encoded data removed]",
      "text/plain": [
       "<Figure size 432x288 with 1 Axes>"
      ]
     },
     "metadata": {
      "needs_background": "light"
     },
     "output_type": "display_data"
    }
   ],
   "source": [
    "#plot result\n",
    "fig=plt.figure()\n",
    "plt.plot(sol.t[1000:30000],sol.y[0][1000:30000],label='observer output')\n",
    "plt.plot(sol.t[1000:30000],sol.y[111][1000:30000],label= 'neuron output')\n",
    "plt.legend()\n",
    "plt.ylabel('voltage')\n",
    "plt.xlabel('time')\n",
    "fig.savefig('single_redundant_neuron_bursting.jpg')"
   ]
  },
  {
   "cell_type": "code",
   "execution_count": 19,
   "metadata": {},
   "outputs": [
    {
     "name": "stdout",
     "output_type": "stream",
     "text": [
      "num_Theta 9\n",
      "num_Theta 9\n",
      "num_Theta 9\n"
     ]
    }
   ],
   "source": [
    "#Test real model\n",
    "## Simulation of the model in current-clamp mode\n",
    "\n",
    "## Definition of reversal potential values. \n",
    "VNa = 50.; # Sodium reversal potential 45\n",
    "VCa = 120.; # Calcium reversal potential\n",
    "VK = -80.; # Potassium reversal potential -90\n",
    "VH= -43.; # Reversal potential for the H-current (permeable to both sodium and potassium ions) -43\n",
    "Vleak = -49.; # Reversal potential of leak channels\n",
    "VSyn=-120.\n",
    "\n",
    "## Definition of membrane capacitance and maximal conductance values. \n",
    "C=0.1; # Membrane capacitance\n",
    "gLeak=0.1; # Leak current maximal conductance\n",
    "gNa=120.; # Sodium current maximal conductance\n",
    "gKd=30.; # Delayed-rectifier potassium current maximal conductance\n",
    "gA=0.; # A-type potassium current maximal conductance\n",
    "gKir=0.; # Inward-rectifier potassium current maximal conductance\n",
    "gT=2.; # T-type calcium current maximal conductance\n",
    "gH=0.1; # H-current maximal conductance\n",
    "gL=0.4; # L-type calcium current maximal conductance\n",
    "gKCa=2.; # Calcium-activated potassium current maximal conductance\n",
    "gSyn=4.0\n",
    "a=2.0\n",
    "b=0.1\n",
    "## Definition of simulation time.\n",
    "Tfinal=6000.0\n",
    "tspan=[0.0,Tfinal]\n",
    "\n",
    "## Input current defition\n",
    "# Constant current\n",
    "Iapp=-4.0\n",
    "\n",
    "# Current pulses\n",
    "I1=0. # Amplitude of first pulse\n",
    "ti1=0. # Starting time of first pulse\n",
    "tf1=100.0 # Ending time of first pulse\n",
    "I2=0. # Amplitude of second pulse\n",
    "ti2=50.0 # Starting time of second pulse\n",
    "tf2=150.0 # Ending time of first pulse\n",
    "\n",
    "# Sinusoidal input\n",
    "Ain=0.0 # Amplitude\n",
    "Win=0.5 # Frequency\n",
    "\n",
    "# Input noise\n",
    "NoiseIN=0.0 # Amplitude\n",
    "TauNoise=2.0 # Cut-off frequency\n",
    "\n",
    "neuron1=neuron(NumbaList([gT,gKd,gH,gNa,gA,gKir,gL,gKCa,a,b,C,gLeak]))\n",
    "neuron1.set_input(NumbaList([Iapp,2.5,I2,ti1,tf1,ti2,tf2,TauNoise,Ain,Win]))\n",
    "\n",
    "neuron2=neuron(NumbaList([gT,gKd,gH,gNa,gA,gKir,gL,gKCa,a,b,C,gLeak]))\n",
    "neuron2.set_input(NumbaList([Iapp,I1,I2,ti1,tf1,ti2,tf2,TauNoise,Ain,Win]))\n",
    "\n",
    "neuron3=neuron(NumbaList([gT,gKd,gH,gNa,gA,gKir,gL,gKCa,a,b,C,gLeak]))\n",
    "neuron3.set_input(NumbaList([Iapp,I1,I2,ti1,tf1,ti2,tf2,TauNoise,Ain,Win]))\n",
    "\n",
    "neuron1.set_rev(NumbaList([VNa,VCa,VK,VH,Vleak,VSyn]))\n",
    "neuron2.set_rev(NumbaList([VNa,VCa,VK,VH,Vleak,VSyn]))\n",
    "neuron3.set_rev(NumbaList([VNa,VCa,VK,VH,Vleak,VSyn]))\n"
   ]
  },
  {
   "cell_type": "code",
   "execution_count": 20,
   "metadata": {},
   "outputs": [
    {
     "name": "stdout",
     "output_type": "stream",
     "text": [
      "num_Theta 10\n",
      "num_Theta 10\n",
      "num_Theta 10\n"
     ]
    }
   ],
   "source": [
    "neuron1.syn_connect(np.array([4.]))\n",
    "neuron2.syn_connect(np.array([4.]))\n",
    "neuron3.syn_connect(np.array([4.]))"
   ]
  },
  {
   "cell_type": "code",
   "execution_count": 21,
   "metadata": {},
   "outputs": [],
   "source": [
    "def HCO(t,u):\n",
    "    neuron1_= neuron1.sys_equ(t,np.array(u[0:neuron1.pos_dinamics]),np.array([u[neuron1.pos_dinamics]]))\n",
    "    neuron2_= neuron2.sys_equ(t,np.array(u[neuron1.pos_dinamics:]),np.array([u[0]]))\n",
    "    return [*neuron1_,*neuron2_]\n",
    "\n",
    "p1=neuron1.pos_dinamics\n",
    "p2=neuron1.pos_dinamics+neuron2.pos_dinamics\n",
    "p3=neuron1.pos_dinamics+neuron2.pos_dinamics+neuron3.pos_dinamics\n",
    "def three_neurons(t,u):\n",
    "    neuron1_= neuron1.sys_equ(t,np.array(u[0:p1]),np.array([u[p1]]))\n",
    "    neuron2_= neuron2.sys_equ(t,np.array(u[p1:p2]),np.array([u[p2]]))\n",
    "    neuron3_= neuron3.sys_equ(t,np.array(u[p2:]),np.array([u[0]]))\n",
    "    return [*neuron1_,*neuron2_,*neuron3_]\n",
    "\n",
    "p4=neuron1.pos_u_sys+neuron1.pos_p\n",
    "p5=neuron1.pos_u_sys*2+neuron1.pos_p\n",
    "def three_neurons_OB(t,u):\n",
    "    neuron1_= neuron1.OB_ODE(t,np.array(u[0:neuron1.pos_u_sys]),np.array([u[p4]]))\n",
    "    neuron2_= neuron2.OB_ODE(t,np.array(u[neuron1.pos_u_sys:neuron1.pos_u_sys*2]),np.array([u[p5]]))\n",
    "    neuron3_= neuron3.OB_ODE(t,np.array(u[neuron1.pos_u_sys*2:]),np.array([u[0]]))\n",
    "    return [*neuron1_,*neuron2_,*neuron3_]"
   ]
  },
  {
   "cell_type": "code",
   "execution_count": 22,
   "metadata": {},
   "outputs": [],
   "source": [
    "X0=[*neuron1.init_cond(-70),*neuron2.init_cond(-63)]"
   ]
  },
  {
   "cell_type": "code",
   "execution_count": 23,
   "metadata": {},
   "outputs": [
    {
     "name": "stdout",
     "output_type": "stream",
     "text": [
      "Elapsed (with compilation) = 17.77787160873413\n"
     ]
    }
   ],
   "source": [
    "start = time.time()\n",
    "sol2=solve_ivp(HCO ,tspan , X0)\n",
    "end = time.time()\n",
    "print(\"Elapsed (with compilation) = %s\" % (end - start))"
   ]
  },
  {
   "cell_type": "code",
   "execution_count": 24,
   "metadata": {},
   "outputs": [
    {
     "data": {
      "text/plain": [
       "[<matplotlib.lines.Line2D at 0x19c3e09c790>]"
      ]
     },
     "execution_count": 24,
     "metadata": {},
     "output_type": "execute_result"
    },
    {
     "data": {
      "image/png": "[encoded data removed]",
      "text/plain": [
       "<Figure size 432x288 with 1 Axes>"
      ]
     },
     "metadata": {
      "needs_background": "light"
     },
     "output_type": "display_data"
    }
   ],
   "source": [
    "plt.plot(sol2.t, sol2.y[neuron1.pos_dinamics])\n",
    "plt.plot(sol2.t, sol2.y[0])"
   ]
  },
  {
   "cell_type": "code",
   "execution_count": 25,
   "metadata": {},
   "outputs": [],
   "source": [
    "# Initial conditions\n",
    "X0= [*neuron1.init_cond(-70),*neuron2.init_cond(-63),*neuron3.init_cond(-60)]\n"
   ]
  },
  {
   "cell_type": "code",
   "execution_count": 26,
   "metadata": {},
   "outputs": [
    {
     "name": "stdout",
     "output_type": "stream",
     "text": [
      "Elapsed (with compilation) = 29.088329792022705\n"
     ]
    }
   ],
   "source": [
    "start = time.time()\n",
    "sol3=solve_ivp(three_neurons,tspan , X0)\n",
    "end = time.time()\n",
    "print(\"Elapsed (with compilation) = %s\" % (end - start))"
   ]
  },
  {
   "cell_type": "code",
   "execution_count": 27,
   "metadata": {},
   "outputs": [
    {
     "data": {
      "text/plain": [
       "[<matplotlib.lines.Line2D at 0x19c42db5490>]"
      ]
     },
     "execution_count": 27,
     "metadata": {},
     "output_type": "execute_result"
    },
    {
     "data": {
      "image/png": "[encoded data removed]",
      "text/plain": [
       "<Figure size 432x288 with 1 Axes>"
      ]
     },
     "metadata": {
      "needs_background": "light"
     },
     "output_type": "display_data"
    }
   ],
   "source": [
    "plt.plot(sol3.t, sol3.y[neuron1.pos_dinamics])\n",
    "plt.plot(sol3.t, sol3.y[neuron1.pos_dinamics*2])\n",
    "plt.plot(sol3.t, sol3.y[0])"
   ]
  },
  {
   "cell_type": "code",
   "execution_count": 28,
   "metadata": {},
   "outputs": [],
   "source": [
    "#Hyperparameters\n",
    "gamma=10.\n",
    "alpha=0.005\n",
    "variable_mask=np.array([1.,1.,1.,1.,1.,1.,1.,1.,1.,1.])\n",
    "neuron1.set_hyp(gamma,alpha,variable_mask)\n",
    "neuron2.set_hyp(gamma,alpha,variable_mask)\n",
    "neuron3.set_hyp(gamma,alpha,variable_mask)\n",
    "## Definition of simulation time.\n",
    "Tfinal=6000.0\n",
    "tspan=[0.0,Tfinal]"
   ]
  },
  {
   "cell_type": "code",
   "execution_count": 29,
   "metadata": {},
   "outputs": [
    {
     "name": "stdout",
     "output_type": "stream",
     "text": [
      "[53.71668028 60.37730514 39.70009123 75.67794539 42.32508917 26.92052096\n",
      " 71.01043242 42.14465712 52.65202783 72.87608466]\n",
      "[-18.85057868]\n",
      "[60.14614758 35.92049811 29.28406014 50.86136076 40.32642506 63.50633799\n",
      " 12.16775148 43.59638202  0.72723364 85.21922585]\n",
      "[-34.81990326]\n",
      "[62.62994444 82.11058011 64.43286353 18.33410192 27.14446209 46.49174216\n",
      " 66.33184766  1.27471754 76.83855206 53.72520234]\n",
      "[-35.71809736]\n"
     ]
    }
   ],
   "source": [
    "X0_=[*neuron1.init_cond_OB(-70),*neuron2.init_cond_OB(-63),*neuron3.init_cond_OB(-60)]"
   ]
  },
  {
   "cell_type": "code",
   "execution_count": 30,
   "metadata": {},
   "outputs": [],
   "source": [
    "sol4=solve_ivp(three_neurons_OB,tspan,X0_)"
   ]
  },
  {
   "cell_type": "code",
   "execution_count": 31,
   "metadata": {},
   "outputs": [
    {
     "data": {
      "text/plain": [
       "[<matplotlib.lines.Line2D at 0x19c40d8a4c0>]"
      ]
     },
     "execution_count": 31,
     "metadata": {},
     "output_type": "execute_result"
    },
    {
     "data": {
      "image/png": "[encoded data removed]",
      "text/plain": [
       "<Figure size 432x288 with 1 Axes>"
      ]
     },
     "metadata": {
      "needs_background": "light"
     },
     "output_type": "display_data"
    }
   ],
   "source": [
    "plt.plot(sol4.t, sol4.y[neuron1.pos_p])\n",
    "plt.plot(sol4.t, sol4.y[neuron1.pos_u_sys+neuron1.pos_p])\n",
    "plt.plot(sol4.t, sol4.y[neuron1.pos_u_sys*2+neuron1.pos_p])"
   ]
  },
  {
   "cell_type": "code",
   "execution_count": 32,
   "metadata": {},
   "outputs": [
    {
     "data": {
      "image/png": "[encoded data removed]",
      "text/plain": [
       "<Figure size 432x288 with 1 Axes>"
      ]
     },
     "metadata": {
      "needs_background": "light"
     },
     "output_type": "display_data"
    },
    {
     "name": "stdout",
     "output_type": "stream",
     "text": [
      "['Na', 'H', 't', 'A', 'K', 'Kir', 'leak', 'L', 'KCa', 'gSyn']\n",
      "[ 1.19999516e+02  9.99980919e-02  2.00029551e+00  9.54846828e-04\n",
      "  2.99997981e+01 -2.02519030e-07  1.00001713e-01  3.99977029e-01\n",
      "  1.99996218e+00  4.00000340e+00]\n"
     ]
    }
   ],
   "source": [
    "#plot parameters\n",
    "labels=[ 'Na','H','t','A','K','Kir','leak','L','KCa','gSyn']\n",
    "plt.figure()\n",
    "for i in range(10):\n",
    "    plt.plot(sol4.t,sol4.y[neuron1.pos_dinamics+i],label=labels[i])\n",
    "plt.legend()\n",
    "plt.show()\n",
    "print(labels)\n",
    "print(sol4.y[neuron1.pos_dinamics:neuron1.pos_dinamics+10,-1])"
   ]
  },
  {
   "cell_type": "code",
   "execution_count": 33,
   "metadata": {},
   "outputs": [
    {
     "data": {
      "text/plain": [
       "[<matplotlib.lines.Line2D at 0x19c40d94e80>]"
      ]
     },
     "execution_count": 33,
     "metadata": {},
     "output_type": "execute_result"
    },
    {
     "data": {
      "image/png": "[encoded data removed]",
      "text/plain": [
       "<Figure size 432x288 with 1 Axes>"
      ]
     },
     "metadata": {
      "needs_background": "light"
     },
     "output_type": "display_data"
    }
   ],
   "source": [
    "plt.plot(sol4.t, sol4.y[0])\n",
    "plt.plot(sol4.t, sol4.y[neuron1.pos_p])"
   ]
  },
  {
   "cell_type": "code",
   "execution_count": 92,
   "metadata": {},
   "outputs": [],
   "source": [
    "class network:\n",
    "    \n",
    "    def __init__(self,cells,connections,learn_topo=False):\n",
    "        self.cells=cells\n",
    "        self.connections=connections\n",
    "        self.num_cell=len(cells)\n",
    "        self.links=[[] for i in range(self.num_cell)]\n",
    "        self.links_ob=[[] for i in range(self.num_cell)]\n",
    "        \n",
    "        pos=[0 for i in range(self.num_cell)]\n",
    "        pos_ob=[0 for i in range(self.num_cell)]\n",
    "        \n",
    "        \n",
    "        if (learn_topo==False):\n",
    "            for i in range(self.num_cell-1):\n",
    "                pos[i+1]=pos[i]+cells[i].pos_dinamics\n",
    "                pos_ob[i+1]=pos_ob[i]+cells[i].pos_u_sys\n",
    "\n",
    "            for i in range(self.num_cell):   \n",
    "                strength=[]\n",
    "                for j in range(self.num_cell):\n",
    "                    if connections[i][j]!=0:\n",
    "                        self.links[i].append(pos[j])\n",
    "                        self.links_ob[i].append(pos_ob[j]+cells[i].pos_p)\n",
    "                        strength.append(connections[i][j])\n",
    "                cells[i].syn_connect(np.array(strength))\n",
    "        else:\n",
    "            cells[0].syn_connect(np.array(connections[0]))\n",
    "            for i in range(self.num_cell-1):\n",
    "                pos[i+1]=pos[i]+cells[i].pos_dinamics\n",
    "                pos_ob[i+1]=pos_ob[i]+cells[i].pos_u_sys\n",
    "                cells[i+1].syn_connect(np.array(connections[i+1]))\n",
    "                \n",
    "            for i in range(self.num_cell):   \n",
    "                for j in range(self.num_cell):\n",
    "                    self.links[i].append(pos[j])\n",
    "                    self.links_ob[i].append(pos_ob[j]+cells[i].pos_p)\n",
    "                    \n",
    "        self.pos_ob=pos_ob\n",
    "        self.pos=pos\n",
    "                \n",
    "    \n",
    "    \n",
    "    def sys_equ(self,t,u):\n",
    "        equ=[]\n",
    "        count=0\n",
    "        for i in range(self.num_cell):\n",
    "            equ=[*equ,*self.cells[i].sys_equ(t\n",
    "                                        ,np.array(u[count:count+self.cells[i].pos_dinamics])\n",
    "                                        ,np.array(u[self.links[i]])\n",
    "                                       )]\n",
    "            count+=self.cells[i].pos_dinamics\n",
    "        return equ\n",
    "    \n",
    "    def ob_equ(self,t,u):\n",
    "        equ=[]\n",
    "        count=0\n",
    "        for i in range(self.num_cell):\n",
    "            equ=[*equ,*self.cells[i].OB_ODE(t\n",
    "                                        ,np.array(u[count:count+self.cells[i].pos_u_sys])\n",
    "                                        ,np.array(u[self.links_ob[i]])\n",
    "                                       )]\n",
    "            count+=self.cells[i].pos_u_sys\n",
    "        return equ\n",
    "\n",
    "        "
   ]
  },
  {
   "cell_type": "code",
   "execution_count": 93,
   "metadata": {},
   "outputs": [
    {
     "name": "stdout",
     "output_type": "stream",
     "text": [
      "num_Theta 11\n",
      "num_Theta 11\n"
     ]
    }
   ],
   "source": [
    "net1=network([neuron1,neuron2],[[0.,4.],[4.,0.]],True)"
   ]
  },
  {
   "cell_type": "code",
   "execution_count": 94,
   "metadata": {},
   "outputs": [
    {
     "name": "stdout",
     "output_type": "stream",
     "text": [
      "Elapsed (with compilation) = 35.63692855834961\n"
     ]
    }
   ],
   "source": [
    "X0=[*net1.cells[0].init_cond(-70),*net1.cells[1].init_cond(-63)]\n",
    "start = time.time()\n",
    "sol2=solve_ivp(net1.sys_equ,tspan , X0)\n",
    "end = time.time()\n",
    "print(\"Elapsed (with compilation) = %s\" % (end - start))"
   ]
  },
  {
   "cell_type": "code",
   "execution_count": 95,
   "metadata": {},
   "outputs": [
    {
     "data": {
      "text/plain": [
       "[<matplotlib.lines.Line2D at 0x19c3dea59d0>]"
      ]
     },
     "execution_count": 95,
     "metadata": {},
     "output_type": "execute_result"
    },
    {
     "data": {
      "image/png": "[encoded data removed]",
      "text/plain": [
       "<Figure size 432x288 with 1 Axes>"
      ]
     },
     "metadata": {
      "needs_background": "light"
     },
     "output_type": "display_data"
    }
   ],
   "source": [
    "plt.plot(sol2.t, sol2.y[neuron1.pos_dinamics])\n",
    "plt.plot(sol2.t, sol2.y[0])"
   ]
  },
  {
   "cell_type": "code",
   "execution_count": 96,
   "metadata": {},
   "outputs": [],
   "source": [
    "#Hyperparameters\n",
    "gamma=10.\n",
    "alpha=0.005\n",
    "variable_mask=np.array([1.,1.,1.,1.,1.,1.,1.,1.,1.,1.,1.])\n",
    "net1.cells[0].set_hyp(gamma,alpha,variable_mask)\n",
    "net1.cells[1].set_hyp(gamma,alpha,variable_mask)\n",
    "## Definition of simulation time.\n",
    "Tfinal=6000.0\n",
    "tspan=[0.0,Tfinal]"
   ]
  },
  {
   "cell_type": "code",
   "execution_count": 97,
   "metadata": {},
   "outputs": [
    {
     "name": "stdout",
     "output_type": "stream",
     "text": [
      "[84.76928927 88.53990621 36.58349209 98.91906767 62.77875644 65.41846138\n",
      " 18.88916809  6.95396091 69.82197168 39.37982765 99.45687766]\n",
      "[-58.54890901]\n",
      "[15.80264052  4.80084018 98.63132691 45.12927666 71.6750147  19.46480448\n",
      " 50.10313818 45.4883938  56.0353849  72.05134493 88.43313966]\n",
      "[-28.89300183]\n",
      "342\n",
      "Elapsed (with compilation) = 82.69705963134766\n"
     ]
    }
   ],
   "source": [
    "X0=[*net1.cells[0].init_cond_OB(-70),*net1.cells[1].init_cond_OB(-63)]\n",
    "print(len(X0))\n",
    "start = time.time()\n",
    "sol2=solve_ivp(net1.ob_equ,tspan , X0)\n",
    "end = time.time()\n",
    "print(\"Elapsed (with compilation) = %s\" % (end - start))"
   ]
  },
  {
   "cell_type": "code",
   "execution_count": 98,
   "metadata": {},
   "outputs": [
    {
     "data": {
      "text/plain": [
       "[<matplotlib.lines.Line2D at 0x19c42f9b190>]"
      ]
     },
     "execution_count": 98,
     "metadata": {},
     "output_type": "execute_result"
    },
    {
     "data": {
      "image/png": "[encoded data removed]",
      "text/plain": [
       "<Figure size 432x288 with 1 Axes>"
      ]
     },
     "metadata": {
      "needs_background": "light"
     },
     "output_type": "display_data"
    }
   ],
   "source": [
    "plt.plot(sol2.t, sol2.y[neuron1.pos_p])\n",
    "plt.plot(sol2.t, sol2.y[0])"
   ]
  },
  {
   "cell_type": "code",
   "execution_count": 99,
   "metadata": {},
   "outputs": [
    {
     "data": {
      "image/png": "[encoded data removed]",
      "text/plain": [
       "<Figure size 432x288 with 1 Axes>"
      ]
     },
     "metadata": {
      "needs_background": "light"
     },
     "output_type": "display_data"
    },
    {
     "name": "stdout",
     "output_type": "stream",
     "text": [
      "['Na', 'H', 't', 'A', 'K', 'Kir', 'leak', 'L', 'KCa', 'gSyn', 'gSyn2']\n",
      "[ 1.19994040e+02  9.99839608e-02  2.00023768e+00  5.94653897e-04\n",
      "  2.99987082e+01  2.10652700e-04  1.00020517e-01  3.99969585e-01\n",
      "  1.99983115e+00 -2.63885889e-06  4.00006122e+00]\n"
     ]
    }
   ],
   "source": [
    "#plot parameters\n",
    "labels=[ 'Na','H','t','A','K','Kir','leak','L','KCa','gSyn','gSyn2']\n",
    "plt.figure()\n",
    "for i in range(11):\n",
    "    plt.plot(sol2.t,sol2.y[net1.cells[0].pos_dinamics+i],label=labels[i])\n",
    "plt.legend()\n",
    "plt.show()\n",
    "print(labels)\n",
    "print(sol2.y[net1.cells[0].pos_dinamics:net1.cells[1].pos_dinamics+11,-1])"
   ]
  },
  {
   "cell_type": "code",
   "execution_count": 100,
   "metadata": {},
   "outputs": [
    {
     "name": "stdout",
     "output_type": "stream",
     "text": [
      "num_Theta 12\n",
      "num_Theta 12\n",
      "num_Theta 12\n"
     ]
    }
   ],
   "source": [
    "net2=network([neuron1,neuron2,neuron3],[[0.,4.,0.],[0.,0.,4.],[4.,0.,0.]],True)"
   ]
  },
  {
   "cell_type": "code",
   "execution_count": 101,
   "metadata": {},
   "outputs": [],
   "source": [
    "#Hyperparameters\n",
    "gamma=10.\n",
    "alpha=0.005\n",
    "variable_mask=np.array([1.,1.,1.,1.,1.,1.,1.,1.,1.,1.,1.,1.])\n",
    "net2.cells[0].set_hyp(gamma,alpha,variable_mask)\n",
    "net2.cells[1].set_hyp(gamma,alpha,variable_mask)\n",
    "net2.cells[2].set_hyp(gamma,alpha,variable_mask)\n",
    "## Definition of simulation time.\n",
    "Tfinal=6000.0\n",
    "tspan=[0.0,Tfinal]"
   ]
  },
  {
   "cell_type": "code",
   "execution_count": 102,
   "metadata": {},
   "outputs": [
    {
     "name": "stdout",
     "output_type": "stream",
     "text": [
      "[6.21721032e+01 4.73206497e+01 7.83142325e+01 5.61745545e+01\n",
      " 7.39865901e-02 1.33309169e+01 9.67746489e+01 7.41909128e+01\n",
      " 9.62098153e+01 5.47262543e+01 4.98158662e+00 9.16031507e+01]\n",
      "[-89.64406604]\n",
      "[94.64346728 31.33085972 59.49084218 45.74835124 87.83421914 71.46503388\n",
      " 76.59210409  8.1039198  12.04553104 78.56503456 13.69856622 32.2128398 ]\n",
      "[-23.61573289]\n",
      "[55.22457491 96.03028005 26.15925319 19.80285141 47.78859354 99.33153018\n",
      " 35.02558181 85.62030592 25.53130448 42.34807874 38.73940577  3.25355478]\n",
      "[-6.53000022]\n",
      "594\n",
      "Elapsed (with compilation) = 108.85802721977234\n"
     ]
    }
   ],
   "source": [
    "X0=[*net2.cells[0].init_cond_OB(-70),*net2.cells[1].init_cond_OB(-63),*net2.cells[2].init_cond_OB(-60)]\n",
    "print(len(X0))\n",
    "start = time.time()\n",
    "sol5=solve_ivp(net2.ob_equ,tspan , X0)\n",
    "end = time.time()\n",
    "print(\"Elapsed (with compilation) = %s\" % (end - start))"
   ]
  },
  {
   "cell_type": "code",
   "execution_count": 112,
   "metadata": {},
   "outputs": [
    {
     "data": {
      "text/plain": [
       "[<matplotlib.lines.Line2D at 0x19c10435b80>]"
      ]
     },
     "execution_count": 112,
     "metadata": {},
     "output_type": "execute_result"
    },
    {
     "data": {
      "image/png": "[encoded data removed]",
      "text/plain": [
       "<Figure size 432x288 with 1 Axes>"
      ]
     },
     "metadata": {
      "needs_background": "light"
     },
     "output_type": "display_data"
    }
   ],
   "source": [
    "#plt.plot(sol5.t, sol5.y[net2.cells[0].pos_p])\n",
    "#plt.plot(sol5.t, sol5.y[net2.cells[0].pos_u_sys+net2.cells[1].pos_p])\n",
    "plt.plot(sol5.t, sol5.y[net2.cells[0].pos_u_sys])\n",
    "plt.plot(sol5.t, sol5.y[net2.cells[0].pos_u_sys*2])\n",
    "plt.plot(sol5.t, sol5.y[0])"
   ]
  },
  {
   "cell_type": "code",
   "execution_count": 107,
   "metadata": {},
   "outputs": [
    {
     "data": {
      "image/png": "[encoded data removed]",
      "text/plain": [
       "<Figure size 432x288 with 1 Axes>"
      ]
     },
     "metadata": {
      "needs_background": "light"
     },
     "output_type": "display_data"
    },
    {
     "name": "stdout",
     "output_type": "stream",
     "text": [
      "['Na', 'H', 't', 'A', 'K', 'Kir', 'leak', 'L', 'KCa', 'gSyn', 'gSyn2', 'gSyn3']\n",
      "[ 1.20006748e+02  9.99994604e-02  2.00010239e+00  3.02422049e-03\n",
      "  3.00021270e+01  9.10690325e-07  1.00001786e-01  4.00022760e-01\n",
      "  1.99996271e+00  5.74069108e-06  4.00000896e+00 -1.83438812e-06]\n"
     ]
    }
   ],
   "source": [
    "#plot parameters\n",
    "labels=[ 'Na','H','t','A','K','Kir','leak','L','KCa','gSyn','gSyn2','gSyn3']\n",
    "plt.figure()\n",
    "for i in range(12):\n",
    "    plt.plot(sol5.t,sol5.y[net2.cells[0].pos_dinamics+i],label=labels[i])\n",
    "plt.legend()\n",
    "plt.show()\n",
    "print(labels)\n",
    "print(sol5.y[net2.cells[0].pos_dinamics:net2.cells[1].pos_dinamics+12,-1])"
   ]
  },
  {
   "cell_type": "code",
   "execution_count": null,
   "metadata": {},
   "outputs": [],
   "source": []
  },
  {
   "cell_type": "code",
   "execution_count": null,
   "metadata": {},
   "outputs": [],
   "source": []
  }
 ],
 "metadata": {
  "kernelspec": {
   "display_name": "Python 3 (ipykernel)",
   "language": "python",
   "name": "python3"
  },
  "language_info": {
   "codemirror_mode": {
    "name": "ipython",
    "version": 3
   },
   "file_extension": ".py",
   "mimetype": "text/x-python",
   "name": "python",
   "nbconvert_exporter": "python",
   "pygments_lexer": "ipython3",
   "version": "3.9.7"
  }
 },
 "nbformat": 4,
 "nbformat_minor": 4
}

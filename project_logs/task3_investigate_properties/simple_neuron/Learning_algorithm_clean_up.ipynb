{
 "cells": [
  {
   "cell_type": "code",
   "execution_count": 502,
   "metadata": {},
   "outputs": [],
   "source": [
    "import numpy as np\n",
    "import matplotlib.pyplot as plt\n",
    "from numba import jit\n",
    "from scipy.integrate import solve_ivp\n",
    "exp=np.exp\n",
    "\n",
    "def alpha_m (V):\n",
    "    return  -0.025*(V+40.)/( exp(-(V+40)/10) - 1.0 )\n",
    "\n",
    "def beta_m(V):\n",
    "    return exp(-(V+65)/18)\n",
    "\n",
    "def mNa_inf(V):\n",
    "    return alpha_m(V) / (alpha_m(V) + beta_m(V))\n",
    "\n",
    "def tau_mNa(V):\n",
    "    return 1 / (alpha_m(V) + beta_m(V))/5\n",
    "\n",
    "def alpha_h(V):\n",
    "    return 0.0175*exp(-(V+65)/20)\n",
    "\n",
    "def beta_h(V):\n",
    "    return 0.25/(1.0 + exp(-(V+35)/10) )\n",
    "\n",
    "def hNa_inf(V):\n",
    "    return alpha_h(V) / (alpha_h(V) + beta_h(V))\n",
    "\n",
    "def tau_hNa (V):\n",
    "    return 1 / (alpha_h(V) + beta_h(V))/5\n",
    "Kdshift=10.0\n",
    "\n",
    "def alpha_mKd(V):\n",
    "    return 0.0025*(V+55.)/(1. - exp(-(V+55.)/10.))\n",
    "\n",
    "\n",
    "def beta_mKd(V):\n",
    "    return 0.03125*exp(-(V+65.)/80.)\n",
    "\n",
    "\n",
    "def mKd_inf (V):\n",
    "    return alpha_mKd(V-Kdshift) / (alpha_mKd(V-Kdshift) + beta_mKd(V-Kdshift))\n",
    "\n",
    "def tau_mKd (V):\n",
    "    return 1 / (alpha_mKd(V-Kdshift) + beta_mKd(V-Kdshift))/5 \n",
    "\n",
    "\n",
    "def mA_inf (V):\n",
    "    return 1/(1+exp(-(V+90)/8.5))\n",
    "\n",
    "def tau_mA (V):\n",
    "    return 0.37 + 1/(exp((V+35.82)/19.697)+exp((V+79.69)/-12.7))/5 \n",
    "\n",
    "def hA_inf (V):\n",
    "    return 1/(1+exp((V+78)/6))\n",
    "\n",
    "\n",
    "def tau_hA(V): # Inactivation time-constant\n",
    "    if (V < -63):\n",
    "        tau_hA = 1/(exp((V+46.05)/5)+exp((V+238.4)/-37.45))\n",
    "    else:\n",
    "        tau_hA = 19\n",
    "    return tau_hA/5\n",
    "\n",
    "\n",
    "def mKir_inf (V):\n",
    "    return 1/(1+exp((V+97.9+10)/9.7))\n",
    "\n",
    "# T-type Ca-current (mt=activation variable, ht=inactivation variable)\n",
    "\n",
    "def mt_inf (V):\n",
    "    return 1/(1+exp(-(V+57)/6.2)) # Activation function\n",
    "\n",
    "def tau_mt (V):\n",
    "    return 0.612 + 1/(exp(-(V+131.6)/16.7)+exp((V+16.8)/18.2)) # Activation time-constant\n",
    "\n",
    "def ht_inf(V):\n",
    "    return 1/(1+exp((V+81)/4.03)) # Inactivation function\n",
    "\n",
    "def tau_ht(V): # Inactivation time-constant\n",
    "    if (V < -80):\n",
    "        tau_ht = exp((V+467)/66.6)\n",
    "    else:\n",
    "        tau_ht = (exp(-(V+21.88)/10.2)+28)\n",
    "    return tau_ht\n",
    "\n",
    "\n",
    "# L-type Ca-current (mL=activation variable)\n",
    "\n",
    "def mL_inf (V):\n",
    "    return 1/(1+exp(-(V+55.)/3)) # Activation function\n",
    "\n",
    "def tau_mL(V):\n",
    "    return (72*exp(-(V+45.)**2/400)+6.) # Activation time-constant\n",
    "\n",
    "# H-current (mH=activation variable)\n",
    "\n",
    "def alpha_mH (V):\n",
    "    return exp(-14.59-(0.086*V))\n",
    "\n",
    "def beta_mH (V):\n",
    "    return exp(-1.87+(0.0701*V))\n",
    " \n",
    "def mH_inf (V):\n",
    "    return  alpha_mH(V) /(alpha_mH(V) + beta_mH(V)) # Activation function\n",
    " \n",
    "def tau_mH (V):\n",
    "    return 1/(alpha_mH(V) + beta_mH(V)) # Activation time-constant\n",
    " \n",
    "def heaviside (t):\n",
    "    return (1+np.sign(t))/2 \n",
    " \n",
    "def pulse (t,ti,tf):\n",
    "    return heaviside(t-ti)-heaviside(t-tf)\n",
    "\n",
    "sin=np.sin\n",
    "pi=np.pi\n"
   ]
  },
  {
   "cell_type": "code",
   "execution_count": 503,
   "metadata": {},
   "outputs": [],
   "source": [
    "@jit\n",
    "def HM_ODE(t,u):\n",
    "    # Parameters\n",
    "    Iapp=p[0] # Amplitude of constant applied current\n",
    "    I1=p[1] # Amplitude of first step input\n",
    "    I2=p[2] # Amplitude of second step input\n",
    "    ti1=p[3] # Starting time of first step input\n",
    "    tf1=p[4] # Ending time of first step input\n",
    "    ti2=p[5] # Starting time of second step input\n",
    "    tf2=p[6] # Ending time of second step input\n",
    "    gT=p[7] # T-type calcium current maximal conductance\n",
    "    gKd=p[8]  # Delayed-rectifier potassium current maximal conductance\n",
    "    gH=p[9] # H-current maximal conductance\n",
    "    gNa=p[10] # Sodium current maximal conductance\n",
    "    gA=p[11] # A-type potassium current maximal conductance\n",
    "    gKir=p[12]  # Inward-rectifier potassium current maximal conductance\n",
    "    gLeak=p[13] # Leak current maximal conductance\n",
    "    gL=p[14] # L-type calcium current maximal conductance\n",
    "    gKCa=p[15] # Calcium-activated potassium current maximal conductance\n",
    "    C=p[16] # Membrane capacitance\n",
    "    taunoise=p[18] # Cutoff frequency for low-pass filtered Gaussian noise\n",
    "    Ain=p[19] # Amplitude of sinusoïdal inut\n",
    "    Win=p[20] # Frequency of  sinusoïdal inut\n",
    "\n",
    "    # Variables\n",
    "    V=u[0] # Membrane potential\n",
    "    mNa=u[1] # Sodium current activation\n",
    "    hNa=u[2] # Sodium current inactivation\n",
    "    mH=u[3] # H current activation\n",
    "    mt=u[4] # T-type calcium current activation\n",
    "    ht=u[5] # T-type calcium current inactivation\n",
    "    mA=u[6] # A-type potassium current activation\n",
    "    hA=u[7] # A-type potassium current inactivation\n",
    "    mKd=u[8] # Delayed-rectifier potassium current activation\n",
    "    mL=u[9] # L-type calcium current activation\n",
    "    Ca=u[10] # Intracellular calcium concentration\n",
    "    noise=u[11] # Input noise\n",
    "\n",
    "    # ODEs\n",
    "    du1=1/C*(- gNa*mNa**3*hNa*(V-VNa) - gH*mH*(V-VH) - gT*mt**2*ht*(V-VCa) - gA*mA**4*hA*(V-VK) - gKd*mKd**4*(V-VK) -\n",
    "                gKir*mKir_inf(V)*(V-VK) - gLeak*(V-Vleak)- gL*mL*(V-VCa) - gKCa*(Ca/(15.0+Ca))**4*(V-VK) +\n",
    "                Iapp + I1*pulse(t,ti1,tf1) + I2*pulse(t,ti2,tf2) + noise + Ain*sin(2*pi*Win*t)) # Voltage equation\n",
    "    du2=1/tau_mNa(V)*(-mNa+mNa_inf(V)) # gating equation\n",
    "    du3=1/tau_hNa(V)*(-hNa+hNa_inf(V))\n",
    "    du4=1/tau_mH(V)*(-mH+mH_inf(V))\n",
    "    du5=1/tau_mt(V)*(-mt+mt_inf(V))\n",
    "    du6=1/tau_ht(V)*(-ht+ht_inf(V))\n",
    "    du7=1/tau_mA(V)*(-mA+mA_inf(V))\n",
    "    du8=1/tau_hA(V)*(-hA+hA_inf(V))\n",
    "    du9=1/tau_mKd(V)*(-mKd+mKd_inf(V))\n",
    "    du10=1/tau_mL(V)*(-mL+mL_inf(V))\n",
    "    du11=(-0.1*(gL*mL*(V-VCa))-0.01*Ca)/4 # Variation of intracellular calcium concentration\n",
    "    du12=-noise/taunoise # Noise equation\n",
    "    \n",
    "    return [du1,du2,du3,du4,du5,du6,du7,du8,du9,du10,du11,du12]"
   ]
  },
  {
   "cell_type": "code",
   "execution_count": 530,
   "metadata": {},
   "outputs": [],
   "source": [
    "\n",
    "def  OB_ODE(t,u):\n",
    "    \n",
    "    it=iter(u)\n",
    "    dinamics,Theta,phi,P,u_sys=[[next(it) for _ in range(size)] for size in variable_size]\n",
    "    \n",
    "    V,mNa,hNa,mH,mt,ht,mA,hA,mKd,mL,Ca,noise=dinamics\n",
    "    \n",
    "    P=np.array(P).reshape([num_phi,num_phi])\n",
    "    Theta=np.array(Theta)\n",
    "    phi=np.array(phi)\n",
    "    \n",
    "    obesV=u_sys[0]\n",
    "    \n",
    "    \n",
    "    Iapp=p[0] # Amplitude of constant applied current\n",
    "    I1=p[1] # Amplitude of first step input\n",
    "    I2=p[2] # Amplitude of second step input\n",
    "    ti1=p[3] # Starting time of first step input\n",
    "    tf1=p[4] # Ending time of first step input\n",
    "    ti2=p[5] # Starting time of second step input\n",
    "    tf2=p[6] # Ending time of second step input\n",
    "    gT=p[7] # T-type calcium current maximal conductance\n",
    "    gKd=p[8]  # Delayed-rectifier potassium current maximal conductance\n",
    "    gH=p[9] # H-current maximal conductance\n",
    "    gNa=p[10] # Sodium current maximal conductance\n",
    "    gA=p[11] # A-type potassium current maximal conductance\n",
    "    gKir=p[12]  # Inward-rectifier potassium current maximal conductance\n",
    "    gLeak=p[13] # Leak current maximal conductance\n",
    "    gL=p[14] # L-type calcium current maximal conductance\n",
    "    gKCa=p[15] # Calcium-activated potassium current maximal conductance\n",
    "    C=p[16] # Membrane capacitance\n",
    "    taunoise=p[18] # Cutoff frequency for low-pass filtered Gaussian noise\n",
    "    Ain=p[19] # Amplitude of sinusoïdal inut\n",
    "    Win=p[20] # Frequency of  sinusoïdal inut\n",
    "    \n",
    "    \n",
    "    PHI0= -mNa**3*hNa*(obesV-VNa) \n",
    "    PHI1= -mH*(obesV-VH)\n",
    "    PHI2= -mt**2*ht*(obesV-VCa)\n",
    "    PHI3= -mA**4*hA*(obesV-VK)\n",
    "    PHI4= - mKd**4*(obesV-VK)\n",
    "    PHI5= -mKir_inf(obesV)*(obesV-VK)\n",
    "    PHI6= -(obesV-Vleak)\n",
    "    PHI7= -mL*(obesV-VCa)\n",
    "    PHI8= -(Ca/(15.0+Ca))**4*(obesV-VK) #-gKCa*(Ca/(15.0+Ca))**4*(obesV-VK)\n",
    "    Current_in= Iapp + I1*pulse(t,ti1,tf1) + I2*pulse(t,ti2,tf2)+ Ain*sin(2*pi*Win*t)\n",
    "    \n",
    "    \n",
    "    PHI= np.array([PHI0,PHI1,PHI2,PHI3,PHI4,PHI5,PHI6,PHI7,PHI8])\n",
    "    \n",
    "    #ODEs\n",
    "    \n",
    "    du1=1/C*(np.dot(PHI,Theta) + Current_in)+ gamma*(obesV-V)+gamma*np.dot(np.dot(phi,P),phi)*(obesV-V)# Voltage equation\n",
    "    \n",
    "    du2=1/tau_mNa(obesV)*(-mNa+mNa_inf(obesV)) # gating equation\n",
    "    du3=1/tau_hNa(obesV)*(-hNa+hNa_inf(obesV))\n",
    "    du4=1/tau_mH(obesV)*(-mH+mH_inf(obesV))\n",
    "    du5=1/tau_mt(obesV)*(-mt+mt_inf(obesV))\n",
    "    du6=1/tau_ht(obesV)*(-ht+ht_inf(obesV))\n",
    "    du7=1/tau_mA(obesV)*(-mA+mA_inf(obesV))\n",
    "    du8=1/tau_hA(obesV)*(-hA+hA_inf(obesV))\n",
    "    du9=1/tau_mKd(obesV)*(-mKd+mKd_inf(obesV))\n",
    "    du10=1/tau_mL(obesV)*(-mL+mL_inf(obesV))\n",
    "    du11=(-0.1*(Theta[7]*mL*(obesV-VCa))-0.01*Ca)/4 # Variation of intracellular calcium concentration\n",
    "    du12=-noise/taunoise # Noise equation\n",
    "    \n",
    "    du13=gamma_mask*np.dot(P,phi)*(obesV-V)#+gamma*np.dot(P,beta*np.absolute(Theta)*(Theta < 0))\n",
    "    \n",
    "    du14=mask*(-gamma*phi+PHI) #+np.array([0,0,0,0,0,0,0,(-0.1*(mL*(obesV-VCa))/4)*(-4*Theta[8]*(Ca/(15.0+Ca))**3*(obesV-VK)*15/((15+Ca)),0])\n",
    "    #du14=(np.absolute(du14)>min_num)*du14\n",
    "    \n",
    "    du15=alpha*P-np.dot(np.dot(P,np.outer(phi,phi)),P)\n",
    "    \n",
    "    du16=HM_ODE(t,u_sys)\n",
    "    \n",
    "    \n",
    "    return ([[du1,du2,du3,du4,du5,du6,du7,du8,du9,du10,du11,du12],du13.tolist(),du14.tolist(),du15.flatten().tolist(),du16])\n",
    "\n",
    "def  OB_ODE2(t,u):\n",
    "    a,b,c,d,e= OB_ODE(t,u)\n",
    "    out=[*a,*b,*c,*d,*e]\n",
    "        \n",
    "    out=np.nan_to_num(out)\n",
    "        \n",
    "    return (out)"
   ]
  },
  {
   "cell_type": "code",
   "execution_count": 508,
   "metadata": {},
   "outputs": [],
   "source": [
    "#Test real model\n",
    "## Simulation of the model in current-clamp mode\n",
    "\n",
    "## Definition of reversal potential values. \n",
    "VNa = 45; # Sodium reversal potential 45\n",
    "VCa = 120.; # Calcium reversal potential\n",
    "VK = -90.; # Potassium reversal potential -90\n",
    "VH= -43.; # Reversal potential for the H-current (permeable to both sodium and potassium ions) -43\n",
    "Vleak = -55.; # Reversal potential of leak channels\n",
    "\n",
    "## Definition of membrane capacitance and maximal conductance values. \n",
    "C=0.1; # Membrane capacitance\n",
    "gLeak=0.1; # Leak current maximal conductance\n",
    "\n",
    "gNa=120.; # Sodium current maximal conductance 120\n",
    "gKd=80; # Delayed-rectifier potassium current maximal conductance 80\n",
    "gT=0; # T-type calcium current maximal conductance 2.\n",
    "gH=0; # H-current maximal conductance 0.1\n",
    "gL=0.4; # L-type calcium current maximal conductance 0.4\n",
    "gKCa=2.; # Calcium-activated potassium current maximal conductance 2.\n",
    "gA=0.; # A-type potassium current maximal conductance\n",
    "gKir=0.; # Inward-rectifier potassium current maximal conductance\n",
    "\n",
    "## Definition of simulation time.\n",
    "Tfinal=2500.0\n",
    "tspan=[0.0,Tfinal]\n",
    "\n",
    "## Input current defition\n",
    "# Constant current\n",
    "Iapp=-1\n",
    "\n",
    "# Current pulses\n",
    "I1=0. # Amplitude of first pulse\n",
    "ti1=100 # Starting time of first pulse\n",
    "tf1=103 # Ending time of first pulse\n",
    "I2=0. # Amplitude of second pulse\n",
    "ti2=200 # Starting time of second pulse\n",
    "tf2=203 # Ending time of first pulse\n",
    "\n",
    "# Sinusoidal input\n",
    "Ain=0.0 # Amplitude\n",
    "Win=0.0 # Frequency\n",
    "\n",
    "# Input noise\n",
    "NoiseIN=0. # Amplitude\n",
    "TauNoise=2.0 # Cut-off frequency\n",
    "\n",
    "## Current-clamp experiment\n",
    "# Parameter vector for simulations\n",
    "p=[Iapp,I1,I2,ti1,tf1,ti2,tf2,gT,gKd,gH,gNa,gA,gKir,gLeak,gL,gKCa,C,NoiseIN,TauNoise,Ain,Win]\n",
    "\n",
    "# Initial conditions\n",
    "V0= -60.\n",
    "x0 = [V0,mNa_inf(V0),hNa_inf(V0),mH_inf(V0),mt_inf(V0),ht_inf(V0) ,mA_inf(V0), hA_inf(V0), mKd_inf(V0), mL_inf(V0), -10*gL*mL_inf(V0)*(V0-VCa), 0.0]"
   ]
  },
  {
   "cell_type": "code",
   "execution_count": 509,
   "metadata": {},
   "outputs": [
    {
     "name": "stderr",
     "output_type": "stream",
     "text": [
      "C:\\Users\\lenovo\\anaconda3\\lib\\site-packages\\ipykernel_launcher.py:71: RuntimeWarning: overflow encountered in exp\n",
      "C:\\Users\\lenovo\\anaconda3\\lib\\site-packages\\ipykernel_launcher.py:90: RuntimeWarning: overflow encountered in exp\n",
      "C:\\Users\\lenovo\\anaconda3\\lib\\site-packages\\scipy\\integrate\\_ivp\\base.py:21: RuntimeWarning: overflow encountered in double_scalars\n",
      "  return np.asarray(fun(t, y), dtype=dtype)\n",
      "C:\\Users\\lenovo\\anaconda3\\lib\\site-packages\\ipykernel_launcher.py:66: RuntimeWarning: overflow encountered in exp\n",
      "C:\\Users\\lenovo\\anaconda3\\lib\\site-packages\\ipykernel_launcher.py:101: RuntimeWarning: overflow encountered in exp\n",
      "C:\\Users\\lenovo\\anaconda3\\lib\\site-packages\\scipy\\integrate\\_ivp\\base.py:21: RuntimeWarning: divide by zero encountered in double_scalars\n",
      "  return np.asarray(fun(t, y), dtype=dtype)\n",
      "C:\\Users\\lenovo\\anaconda3\\lib\\site-packages\\ipykernel_launcher.py:74: RuntimeWarning: overflow encountered in exp\n",
      "C:\\Users\\lenovo\\anaconda3\\lib\\site-packages\\ipykernel_launcher.py:77: RuntimeWarning: overflow encountered in exp\n",
      "C:\\Users\\lenovo\\anaconda3\\lib\\site-packages\\ipykernel_launcher.py:51: RuntimeWarning: overflow encountered in exp\n",
      "C:\\Users\\lenovo\\anaconda3\\lib\\site-packages\\ipykernel_launcher.py:54: RuntimeWarning: overflow encountered in exp\n"
     ]
    }
   ],
   "source": [
    "sol=solve_ivp(HM_ODE ,tspan , x0)"
   ]
  },
  {
   "cell_type": "code",
   "execution_count": 510,
   "metadata": {},
   "outputs": [
    {
     "data": {
      "text/plain": [
       "[<matplotlib.lines.Line2D at 0x20f7db66948>]"
      ]
     },
     "execution_count": 510,
     "metadata": {},
     "output_type": "execute_result"
    },
    {
     "data": {
      "image/png": "[encoded data removed]",
      "text/plain": [
       "<Figure size 432x288 with 1 Axes>"
      ]
     },
     "metadata": {
      "needs_background": "light"
     },
     "output_type": "display_data"
    }
   ],
   "source": [
    "plt.plot(sol.t, sol.y[0])"
   ]
  },
  {
   "cell_type": "code",
   "execution_count": 511,
   "metadata": {},
   "outputs": [],
   "source": [
    "num_dinamics=12\n",
    "num_Theta=9\n",
    "num_phi_=num_Theta\n",
    "num_phi=num_Theta\n",
    "num_p=num_Theta**2\n",
    "num_u_sys=12\n",
    "variable_size=[num_dinamics,num_Theta,num_phi,num_p,num_u_sys]\n",
    "beta=100"
   ]
  },
  {
   "cell_type": "code",
   "execution_count": 527,
   "metadata": {},
   "outputs": [
    {
     "name": "stdout",
     "output_type": "stream",
     "text": [
      "[62.69100964 84.68352714 20.16844765 72.23615192 68.9534577  67.90565095\n",
      " 32.92393714  0.4        86.74377952]\n",
      "123\n",
      "9\n"
     ]
    }
   ],
   "source": [
    "#Test observer\n",
    "## Simulation of the model in current-clamp mode\n",
    "\n",
    "## Definition of reversal potential values. \n",
    "VNa = 45.; # Sodium reversal potential\n",
    "VCa = 120.; # Calcium reversal potential\n",
    "VK = -90.; # Potassium reversal potential\n",
    "VH= -43.; # Reversal potential for the H-current (permeable to both sodium and potassium ions)\n",
    "Vleak = -55.; # Reversal potential of leak channels\n",
    "\n",
    "## Definition of membrane capacitance and maximal conductance values. \n",
    "C=0.1; # Membrane capacitance\n",
    "gLeak=0.1; # Leak current maximal conductance\n",
    "\n",
    "gNa=120.; # Sodium current maximal conductance 120\n",
    "gKd=80; # Delayed-rectifier potassium current maximal conductance 80\n",
    "gT=0; # T-type calcium current maximal conductance 2.\n",
    "gH=0; # H-current maximal conductance 0.1\n",
    "gL=0.4; # L-type calcium current maximal conductance 0.4\n",
    "gKCa=2.; # Calcium-activated potassium current maximal conductance 2.\n",
    "gA=0.; # A-type potassium current maximal conductance\n",
    "gKir=0.; # Inward-rectifier potassium current maximal conductance\n",
    "\n",
    "## Definition of simulation time.\n",
    "Tfinal=6000.0\n",
    "tspan=[0.0,Tfinal]\n",
    "\n",
    "## Input current defition\n",
    "# Constant current\n",
    "Iapp=-1\n",
    "\n",
    "# Current pulses\n",
    "I1=0. # Amplitude of first pulse\n",
    "ti1=100 # Starting time of first pulse\n",
    "tf1=103 # Ending time of first pulse\n",
    "I2=0. # Amplitude of second pulse\n",
    "ti2=200 # Starting time of second pulse\n",
    "tf2=203 # Ending time of first pulse\n",
    "\n",
    "# Sinusoidal input\n",
    "Ain=0# Amplitude 5\n",
    "Win=0.5 # Frequency\n",
    "\n",
    "#Hyperparameters\n",
    "gamma=10\n",
    "mask=np.array([1,1,1,1,1,1,1,0,1]) #freeze variable by setting 0 in the mask\n",
    "gamma_mask=mask*gamma\n",
    "alpha=0.01\n",
    "\n",
    "# Input noise\n",
    "NoiseIN=0. # Amplitude\n",
    "TauNoise=2.0 # Cut-off frequency\n",
    "\n",
    "## Current-clamp experiment\n",
    "# Parameter vector for simulations\n",
    "p=[Iapp,I1,I2,ti1,tf1,ti2,tf2,gT,gKd,gH,gNa,gA,gKir,gLeak,gL,gKCa,C,NoiseIN,TauNoise,Ain,Win]\n",
    "\n",
    "# Initial conditions\n",
    "V0= -70.\n",
    "x0 = [V0,mNa_inf(V0),hNa_inf(V0),mH_inf(V0),mt_inf(V0),ht_inf(V0) ,mA_inf(V0), hA_inf(V0), mKd_inf(V0), mL_inf(V0), -10*gL*mL_inf(V0)*(V0-VCa), 0.0]\n",
    "V0_ = -20\n",
    "x0_= [V0,mNa_inf(V0_),hNa_inf(V0_),mH_inf(V0_),mt_inf(V0_),ht_inf(V0_) ,mA_inf(V0_), hA_inf(V0_), mKd_inf(V0_), mL_inf(V0_), -10*gL*mL_inf(V0_)*(V0_-VCa), 0.0]\n",
    "\"\"\"\n",
    "du2=1/tau_mNa(V)*(-mNa+mNa_inf(V)) \n",
    "    du3=1/tau_hNa(V)*(-hNa+hNa_inf(V))\n",
    "    du4=1/tau_mH(V)*(-mH+mH_inf(V))\n",
    "    du5=1/tau_mt(V)*(-mt+mt_inf(V))\n",
    "    du6=1/tau_ht(V)*(-ht+ht_inf(V))\n",
    "    du7=1/tau_mA(V)*(-mA+mA_inf(V))\n",
    "    du8=1/tau_hA(V)*(-hA+hA_inf(V))\n",
    "    du9=1/tau_mKd(V)*(-mKd+mKd_inf(V))\n",
    "    du10=1/tau_mL(V)*(-mL+mL_inf(V))\n",
    "    du11=(-0.1*(gL*mL*(V-VCa))-0.01*Ca)/4 \n",
    "\"\"\"\n",
    "'''[ 'Na','H','t','A','K','Kir','leak','L','KCa']\n",
    "    120,0.1,2,0,80,0,0.1,0.4,2\n",
    "[1.20078309e+02 9.99935030e-02 2.00543802e+00 3.67723634e-06\n",
    " 8.01004533e+01 0.00000000e+00 1.00000000e-01 3.99355255e-01\n",
    " 2.00000000e+00]\n",
    " [1.19244440e+02 1.07155203e-01 1.97335159e+00 9.41065469e-04\n",
    " 7.94144652e+01 0.00000000e+00 9.92878415e-02 4.02652110e-01\n",
    " 2.00000000e+00]\n",
    " [ 1.19013827e+02  1.08252336e-01  1.97016712e+00 -1.99602367e-03\n",
    "  7.92679611e+01  6.14319636e-03  9.91735126e-02  4.02071713e-01\n",
    "  2.00000000e+00]\n",
    "  random result:without kca\n",
    "  [ 1.17175982e+02  1.04500391e-01  1.92046277e+00 -5.58087699e-03\n",
    "  7.79309064e+01  1.20699524e-02  9.95532125e-02  4.04948400e-01\n",
    "  2.00000000e+00]\n",
    "  random result:\n",
    "  [ 1.19999126e+02  1.00004794e-01  1.99996145e+00 -2.65651809e-07\n",
    "  7.99992936e+01 -3.46322090e-07  9.99991554e-02  4.00004375e-01\n",
    "  2.00000076e+00]\n",
    "  [ 1.19999422e+02  1.00005059e-01  1.99997393e+00 -2.91592737e-07\n",
    "  7.99995340e+01 -5.14970360e-07  9.99991061e-02  4.00003699e-01\n",
    "  2.00000085e+00]\n",
    "  freeze gL:\n",
    "  [ 1.19972581e+02  9.96883789e-02  1.99934515e+00  1.33240840e-04\n",
    "  7.99806011e+01 -7.80069862e-03  9.99697610e-02  4.00000000e-01\n",
    "  2.00023076e+00]\n",
    "  [42.01092712  1.5494339  -1.31669172 -0.37909282 23.67410391 38.68581827\n",
    "  0.51652754  0.4         1.26532886]\n",
    "  Belows are wrong things \n",
    "  random result without exteral activation:\n",
    "  [ 1.31167439e+02  1.38282134e-01  2.16870887e+00 -4.55129802e-02\n",
    "  8.74956441e+01  1.05995816e+00  1.15554355e-01  4.50523227e-01\n",
    "  2.21237605e+00]\n",
    "  (initial parameters:)\n",
    "  [66.39020777 80.03244816 82.09159447 55.98833481 35.95792441 42.20821261\n",
    " 35.03867713 35.81015131 68.6287446 ]\n",
    "  random result without exteral activation:\n",
    "  [ 1.15774320e+02  1.84234807e-01  1.93446323e+00 -6.25345111e-02\n",
    "  7.73094729e+01  2.36863544e+00  1.07893157e-01  3.86664383e-01\n",
    "  1.85472455e+00]\n",
    "  (initial parameters:)\n",
    "  [84.91660481  1.74996184 89.22391505 72.74335702 36.56523392  3.79619365\n",
    " 64.22460498  2.06117465 64.3149428 ]\n",
    "'''\n",
    "#Theta0=(np.array([50,1,1,0,70,0,0.1,0.1,2])).tolist()\n",
    "Theta0= np.random.rand(9)*100\n",
    "#Theta0[8]=2\n",
    "Theta0[7]=gL\n",
    "print(Theta0)\n",
    "A0=(np.ones(num_Theta)*0.1).tolist()*mask\n",
    "P0=np.diag(np.diag(np.outer(A0,A0))).flatten().tolist()\n",
    "#P0[-1]=0\n",
    "X0_=[*x0_,*Theta0,*A0,*P0,*x0]\n",
    "print(len(X0_))\n",
    "print(len(Theta0))"
   ]
  },
  {
   "cell_type": "code",
   "execution_count": 528,
   "metadata": {},
   "outputs": [
    {
     "name": "stdout",
     "output_type": "stream",
     "text": [
      "[12, 9, 9, 81, 12]\n"
     ]
    }
   ],
   "source": [
    "print(variable_size)"
   ]
  },
  {
   "cell_type": "code",
   "execution_count": 529,
   "metadata": {},
   "outputs": [
    {
     "name": "stderr",
     "output_type": "stream",
     "text": [
      "C:\\Users\\lenovo\\anaconda3\\lib\\site-packages\\ipykernel_launcher.py:8: RuntimeWarning: overflow encountered in exp\n",
      "  \n",
      "C:\\Users\\lenovo\\anaconda3\\lib\\site-packages\\ipykernel_launcher.py:23: RuntimeWarning: overflow encountered in exp\n",
      "C:\\Users\\lenovo\\anaconda3\\lib\\site-packages\\ipykernel_launcher.py:98: RuntimeWarning: overflow encountered in exp\n",
      "C:\\Users\\lenovo\\anaconda3\\lib\\site-packages\\ipykernel_launcher.py:81: RuntimeWarning: divide by zero encountered in double_scalars\n",
      "C:\\Users\\lenovo\\anaconda3\\lib\\site-packages\\ipykernel_launcher.py:104: RuntimeWarning: invalid value encountered in double_scalars\n",
      "C:\\Users\\lenovo\\anaconda3\\lib\\site-packages\\ipykernel_launcher.py:71: RuntimeWarning: overflow encountered in exp\n",
      "C:\\Users\\lenovo\\anaconda3\\lib\\site-packages\\ipykernel_launcher.py:51: RuntimeWarning: overflow encountered in exp\n",
      "C:\\Users\\lenovo\\anaconda3\\lib\\site-packages\\ipykernel_launcher.py:48: RuntimeWarning: overflow encountered in exp\n",
      "C:\\Users\\lenovo\\anaconda3\\lib\\site-packages\\ipykernel_launcher.py:33: RuntimeWarning: overflow encountered in exp\n",
      "C:\\Users\\lenovo\\anaconda3\\lib\\site-packages\\ipykernel_launcher.py:90: RuntimeWarning: overflow encountered in exp\n",
      "C:\\Users\\lenovo\\anaconda3\\lib\\site-packages\\ipykernel_launcher.py:74: RuntimeWarning: overflow encountered in exp\n",
      "C:\\Users\\lenovo\\anaconda3\\lib\\site-packages\\ipykernel_launcher.py:81: RuntimeWarning: overflow encountered in double_scalars\n",
      "C:\\Users\\lenovo\\anaconda3\\lib\\site-packages\\ipykernel_launcher.py:11: RuntimeWarning: overflow encountered in exp\n",
      "  # This is added back by InteractiveShellApp.init_path()\n",
      "C:\\Users\\lenovo\\anaconda3\\lib\\site-packages\\ipykernel_launcher.py:20: RuntimeWarning: overflow encountered in exp\n",
      "C:\\Users\\lenovo\\anaconda3\\lib\\site-packages\\ipykernel_launcher.py:26: RuntimeWarning: invalid value encountered in double_scalars\n",
      "C:\\Users\\lenovo\\anaconda3\\lib\\site-packages\\ipykernel_launcher.py:59: RuntimeWarning: overflow encountered in exp\n",
      "C:\\Users\\lenovo\\anaconda3\\lib\\site-packages\\ipykernel_launcher.py:37: RuntimeWarning: overflow encountered in exp\n",
      "C:\\Users\\lenovo\\anaconda3\\lib\\site-packages\\scipy\\integrate\\_ivp\\rk.py:110: RuntimeWarning: overflow encountered in true_divide\n",
      "  return norm(self._estimate_error(K, h) / scale)\n"
     ]
    }
   ],
   "source": [
    "sol=solve_ivp(OB_ODE2,tspan , X0_)"
   ]
  },
  {
   "cell_type": "code",
   "execution_count": 531,
   "metadata": {},
   "outputs": [
    {
     "data": {
      "text/plain": [
       "[<matplotlib.lines.Line2D at 0x20f63111ac8>]"
      ]
     },
     "execution_count": 531,
     "metadata": {},
     "output_type": "execute_result"
    },
    {
     "data": {
      "image/png": "[encoded data removed]",
      "text/plain": [
       "<Figure size 432x288 with 1 Axes>"
      ]
     },
     "metadata": {
      "needs_background": "light"
     },
     "output_type": "display_data"
    }
   ],
   "source": [
    "#plot result\n",
    "plt.plot(sol.t,sol.y[0])\n",
    "plt.plot(sol.t,sol.y[111])"
   ]
  },
  {
   "cell_type": "code",
   "execution_count": 532,
   "metadata": {},
   "outputs": [
    {
     "name": "stderr",
     "output_type": "stream",
     "text": [
      "C:\\Users\\lenovo\\anaconda3\\lib\\site-packages\\IPython\\core\\pylabtools.py:132: UserWarning: Creating legend with loc=\"best\" can be slow with large amounts of data.\n",
      "  fig.canvas.print_figure(bytes_io, **kw)\n"
     ]
    },
    {
     "data": {
      "image/png": "[encoded data removed]",
      "text/plain": [
       "<Figure size 432x288 with 1 Axes>"
      ]
     },
     "metadata": {
      "needs_background": "light"
     },
     "output_type": "display_data"
    },
    {
     "name": "stdout",
     "output_type": "stream",
     "text": [
      "[73.90483573  0.88780774 -0.80674513 -0.23626591 46.5748966  22.50291961\n",
      "  0.34549259  0.4         1.66570093]\n"
     ]
    }
   ],
   "source": [
    "#plot parameters\n",
    "labels=[ 'Na','H','t','A','K','Kir','leak','L','KCa']\n",
    "plt.figure()\n",
    "for i in range(num_Theta):\n",
    "    plt.plot(sol.t,sol.y[12+i],label=labels[i])\n",
    "plt.legend()\n",
    "plt.show()\n",
    "print(sol.y[12:12+num_Theta,-1])"
   ]
  },
  {
   "cell_type": "code",
   "execution_count": null,
   "metadata": {},
   "outputs": [],
   "source": [
    "[ 1.19999432e+02  1.00346287e-03  5.39420537e-06 -2.85540334e-05\n",
    "  2.99998680e+01  8.69186195e-04  1.00005380e-01  0.00000000e+00\n",
    "  3.15466372e+01]\n",
    "[ 1.19999432e+02  1.00346287e-03  5.39420537e-06 -2.85540334e-05\n",
    "  2.99998680e+01  8.69186195e-04  1.00005380e-01  0.00000000e+00\n",
    "  3.15466372e+01]\n",
    "[1.20000036e+02 3.19298405e-05 6.91271073e-07 8.01713861e-07\n",
    " 3.00000093e+01 2.98691917e-06 9.99997304e-02 0.00000000e+00\n",
    " 4.02796069e+01]\n",
    "[1.20000021e+02 1.92241581e-05 4.83944351e-07 6.17609122e-07\n",
    " 3.00000055e+01 1.60788221e-06 9.99997988e-02 0.00000000e+00\n",
    " 8.60830453e+01]\n",
    "[33.36071185 44.62563514 -2.13997943 -4.24395802  8.53803067 50.74059152\n",
    "  1.08908056  0.          8.50796964]"
   ]
  },
  {
   "cell_type": "code",
   "execution_count": 464,
   "metadata": {},
   "outputs": [
    {
     "data": {
      "image/png": "[encoded data removed]",
      "text/plain": [
       "<Figure size 432x288 with 1 Axes>"
      ]
     },
     "metadata": {
      "needs_background": "light"
     },
     "output_type": "display_data"
    }
   ],
   "source": [
    "plt.figure()\n",
    "for i in range(123):\n",
    "    plt.plot(sol.t,sol.y[0+i])\n",
    "plt.show()"
   ]
  },
  {
   "cell_type": "code",
   "execution_count": 419,
   "metadata": {},
   "outputs": [
    {
     "data": {
      "text/plain": [
       "[<matplotlib.lines.Line2D at 0x20f5ba7ffc8>]"
      ]
     },
     "execution_count": 419,
     "metadata": {},
     "output_type": "execute_result"
    },
    {
     "data": {
      "image/png": "[encoded data removed]",
      "text/plain": [
       "<Figure size 432x288 with 1 Axes>"
      ]
     },
     "metadata": {
      "needs_background": "light"
     },
     "output_type": "display_data"
    }
   ],
   "source": [
    "plt.plot(sol.t,sol.y[121])"
   ]
  },
  {
   "cell_type": "code",
   "execution_count": null,
   "metadata": {},
   "outputs": [],
   "source": []
  }
 ],
 "metadata": {
  "kernelspec": {
   "display_name": "Python 3",
   "language": "python",
   "name": "python3"
  },
  "language_info": {
   "codemirror_mode": {
    "name": "ipython",
    "version": 3
   },
   "file_extension": ".py",
   "mimetype": "text/x-python",
   "name": "python",
   "nbconvert_exporter": "python",
   "pygments_lexer": "ipython3",
   "version": "3.7.6"
  }
 },
 "nbformat": 4,
 "nbformat_minor": 4
}

{
 "cells": [
  {
   "cell_type": "code",
   "execution_count": 2,
   "metadata": {},
   "outputs": [],
   "source": [
    "import numpy as np\n",
    "import matplotlib.pyplot as plt\n",
    "from numba import jit\n",
    "\n",
    "exp=np.exp\n",
    "@jit\n",
    "def alpha_m (V):\n",
    "    return  -0.025*(V+40.)/( exp(-(V+40)/10) - 1.0 )\n",
    "@jit\n",
    "def beta_m(V):\n",
    "    return exp(-(V+65)/18)\n",
    "@jit\n",
    "def mNa_inf(V):\n",
    "    return alpha_m(V) / (alpha_m(V) + beta_m(V))\n",
    "@jit\n",
    "def tau_mNa(V):\n",
    "    return 1 / (alpha_m(V) + beta_m(V))/5\n",
    "@jit\n",
    "def alpha_h(V):\n",
    "    return 0.0175*exp(-(V+65)/20)\n",
    "@jit\n",
    "def beta_h(V):\n",
    "    return 0.25/(1.0 + exp(-(V+35)/10) )\n",
    "@jit\n",
    "def hNa_inf(V):\n",
    "    return alpha_h(V) / (alpha_h(V) + beta_h(V))\n",
    "@jit\n",
    "def tau_hNa (V):\n",
    "    return 1 / (alpha_h(V) + beta_h(V))/5\n",
    "Kdshift=10.0\n",
    "@jit\n",
    "def alpha_mKd(V):\n",
    "    return 0.0025*(V+55.)/(1. - exp(-(V+55.)/10.))\n",
    "\n",
    "@jit\n",
    "def beta_mKd(V):\n",
    "    return 0.03125*exp(-(V+65.)/80.)\n",
    "\n",
    "@jit\n",
    "def mKd_inf (V):\n",
    "    return alpha_mKd(V-Kdshift) / (alpha_mKd(V-Kdshift) + beta_mKd(V-Kdshift))\n",
    "@jit\n",
    "def tau_mKd (V):\n",
    "    return 1 / (alpha_mKd(V-Kdshift) + beta_mKd(V-Kdshift))/5 \n",
    "\n",
    "@jit\n",
    "def mA_inf (V):\n",
    "    return 1/(1+exp(-(V+90)/8.5))\n",
    "@jit\n",
    "def tau_mA (V):\n",
    "    return 0.37 + 1/(exp((V+35.82)/19.697)+exp((V+79.69)/-12.7))/5 \n",
    "@jit\n",
    "def hA_inf (V):\n",
    "    return 1/(1+exp((V+78)/6))\n",
    "\n",
    "@jit\n",
    "def tau_hA(V): # Inactivation time-constant\n",
    "    if (V < -63):\n",
    "        tau_hA = 1/(exp((V+46.05)/5)+exp((V+238.4)/-37.45))\n",
    "    else:\n",
    "        tau_hA = 19\n",
    "    return tau_hA/5\n",
    "\n",
    "@jit\n",
    "def mKir_inf (V):\n",
    "    return 1/(1+exp((V+97.9+10)/9.7))\n",
    "\n",
    "# T-type Ca-current (mt=activation variable, ht=inactivation variable)\n",
    "@jit\n",
    "def mt_inf (V):\n",
    "    return 1/(1+exp(-(V+57)/6.2)) # Activation function\n",
    "@jit\n",
    "def tau_mt (V):\n",
    "    return 0.612 + 1/(exp(-(V+131.6)/16.7)+exp((V+16.8)/18.2)) # Activation time-constant\n",
    "@jit\n",
    "def ht_inf(V):\n",
    "    return 1/(1+exp((V+81)/4.03)) # Inactivation function\n",
    "@jit\n",
    "def tau_ht(V): # Inactivation time-constant\n",
    "    if (V < -80):\n",
    "        tau_ht = exp((V+467)/66.6)\n",
    "    else:\n",
    "        tau_ht = (exp(-(V+21.88)/10.2)+28)\n",
    "    return tau_ht\n",
    "\n",
    "\n",
    "# L-type Ca-current (mL=activation variable)\n",
    "@jit\n",
    "def mL_inf (V):\n",
    "    return 1/(1+exp(-(V+55.)/3)) # Activation function\n",
    "@jit\n",
    "def tau_mL(V):\n",
    "    return (72*exp(-(V+45.)**2/400)+6.) # Activation time-constant\n",
    "\n",
    "# H-current (mH=activation variable)\n",
    "@jit \n",
    "def alpha_mH (V):\n",
    "    return exp(-14.59-(0.086*V))\n",
    "@jit \n",
    "def beta_mH (V):\n",
    "    return exp(-1.87+(0.0701*V))\n",
    "@jit \n",
    "def mH_inf (V):\n",
    "    return  alpha_mH(V) /(alpha_mH(V) + beta_mH(V)) # Activation function\n",
    "@jit \n",
    "def tau_mH (V):\n",
    "    return 1/(alpha_mH(V) + beta_mH(V)) # Activation time-constant\n",
    "@jit \n",
    "def heaviside (t):\n",
    "    return (1+np.sign(t))/2 \n",
    "@jit \n",
    "def pulse (t,ti,tf):\n",
    "    return heaviside(t-ti)-heaviside(t-tf)\n",
    "\n",
    "sin=np.sin\n",
    "pi=np.pi\n"
   ]
  },
  {
   "cell_type": "code",
   "execution_count": 3,
   "metadata": {},
   "outputs": [],
   "source": [
    "@jit\n",
    "def HM_ODE(t,u):\n",
    "    min_num=1e-9\n",
    "    # Parameters\n",
    "    Iapp=p[0] # Amplitude of constant applied current\n",
    "    I1=p[1] # Amplitude of first step input\n",
    "    I2=p[2] # Amplitude of second step input\n",
    "    ti1=p[3] # Starting time of first step input\n",
    "    tf1=p[4] # Ending time of first step input\n",
    "    ti2=p[5] # Starting time of second step input\n",
    "    tf2=p[6] # Ending time of second step input\n",
    "    gT=p[7] # T-type calcium current maximal conductance\n",
    "    gKd=p[8]  # Delayed-rectifier potassium current maximal conductance\n",
    "    gH=p[9] # H-current maximal conductance\n",
    "    gNa=p[10] # Sodium current maximal conductance\n",
    "    gA=p[11] # A-type potassium current maximal conductance\n",
    "    gKir=p[12]  # Inward-rectifier potassium current maximal conductance\n",
    "    gLeak=p[13] # Leak current maximal conductance\n",
    "    gL=p[14] # L-type calcium current maximal conductance\n",
    "    gKCa=p[15] # Calcium-activated potassium current maximal conductance\n",
    "    C=p[16] # Membrane capacitance\n",
    "    taunoise=p[18] # Cutoff frequency for low-pass filtered Gaussian noise\n",
    "    Ain=p[19] # Amplitude of sinusoïdal inut\n",
    "    Win=p[20] # Frequency of  sinusoïdal inut\n",
    "\n",
    "    # Variables\n",
    "    V=u[0] # Membrane potential\n",
    "    mNa=u[1] # Sodium current activation\n",
    "    hNa=u[2] # Sodium current inactivation\n",
    "    mH=u[3] # H current activation\n",
    "    mt=u[4] # T-type calcium current activation\n",
    "    ht=u[5] # T-type calcium current inactivation\n",
    "    mA=u[6] # A-type potassium current activation\n",
    "    hA=u[7] # A-type potassium current inactivation\n",
    "    mKd=u[8] # Delayed-rectifier potassium current activation\n",
    "    mL=u[9] # L-type calcium current activation\n",
    "    Ca=u[10] # Intracellular calcium concentration\n",
    "    noise=u[11] # Input noise\n",
    "\n",
    "    # ODEs\n",
    "    du1=1/C*(- gNa*mNa**3*hNa*(V-VNa) - gH*mH*(V-VH) - gT*mt**2*ht*(V-VCa) - gA*mA**4*hA*(V-VK) - gKd*mKd**4*(V-VK) -\n",
    "                gKir*mKir_inf(V)*(V-VK) - gLeak*(V-Vleak)- gL*mL*(V-VCa) - gKCa*(Ca/(15.0+Ca))**4*(V-VK) +\n",
    "                Iapp + I1*pulse(t,ti1,tf1) + I2*pulse(t,ti2,tf2) + noise + Ain*sin(2*pi*Win*t)) # Voltage equation\n",
    "    du2=np.sign(tau_mNa(V))/max(np.absolute(tau_mNa(V)),min_num)*(-mNa+mNa_inf(V)) # gating equation\n",
    "    du3=np.sign(tau_hNa(V))/max(np.absolute(tau_hNa(V)),min_num)*(-hNa+hNa_inf(V))\n",
    "    du4=np.sign(tau_mH(V))/max(np.absolute(tau_mH(V)),min_num)*(-mH+mH_inf(V))\n",
    "    du5=np.sign(tau_mt(V))/max(np.absolute(tau_mt(V)),min_num)*(-mt+mt_inf(V))\n",
    "    du6=np.sign(tau_ht(V))/max(np.absolute(tau_ht(V)),min_num)*(-ht+ht_inf(V))\n",
    "    du7=np.sign(tau_mA(V))/max(np.absolute(tau_mA(V)),min_num)*(-mA+mA_inf(V))\n",
    "    du8=np.sign(tau_hA(V))/max(np.absolute(tau_hA(V)),min_num)*(-hA+hA_inf(V))\n",
    "    du9=np.sign(tau_mKd(V))/max(np.absolute(tau_mKd(V)),min_num)*(-mKd+mKd_inf(V))\n",
    "    du10=np.sign(tau_mL(V))/max(np.absolute(tau_mL(V)),min_num)*(-mL+mL_inf(V))\n",
    "    du11=(-0.1*(gL*mL*(V-VCa))-0.01*Ca)/4 # Variation of intracellular calcium concentration\n",
    "    du12=-noise/taunoise # Noise equation\n",
    "    \n",
    "    return [du1,du2,du3,du4,du5,du6,du7,du8,du9,du10,du11,du12]"
   ]
  },
  {
   "cell_type": "code",
   "execution_count": 16,
   "metadata": {},
   "outputs": [],
   "source": [
    "@jit\n",
    "def HM_ODE2(t,u):\n",
    "    # Parameters\n",
    "    Iapp=p[0] # Amplitude of constant applied current\n",
    "    I1=p[1] # Amplitude of first step input\n",
    "    I2=p[2] # Amplitude of second step input\n",
    "    ti1=p[3] # Starting time of first step input\n",
    "    tf1=p[4] # Ending time of first step input\n",
    "    ti2=p[5] # Starting time of second step input\n",
    "    tf2=p[6] # Ending time of second step input\n",
    "    gT=p[7] # T-type calcium current maximal conductance\n",
    "    gKd=p[8]  # Delayed-rectifier potassium current maximal conductance\n",
    "    gH=p[9] # H-current maximal conductance\n",
    "    gNa=p[10] # Sodium current maximal conductance\n",
    "    gA=p[11] # A-type potassium current maximal conductance\n",
    "    gKir=p[12]  # Inward-rectifier potassium current maximal conductance\n",
    "    gLeak=p[13] # Leak current maximal conductance\n",
    "    gL=p[14] # L-type calcium current maximal conductance\n",
    "    gKCa=p[15] # Calcium-activated potassium current maximal conductance\n",
    "    C=p[16] # Membrane capacitance\n",
    "    taunoise=p[18] # Cutoff frequency for low-pass filtered Gaussian noise\n",
    "    Ain=p[19] # Amplitude of sinusoïdal inut\n",
    "    Win=p[20] # Frequency of  sinusoïdal inut\n",
    "\n",
    "    # Variables\n",
    "    V=u[0] # Membrane potential\n",
    "    mNa=u[1] # Sodium current activation\n",
    "    hNa=u[2] # Sodium current inactivation\n",
    "    mH=u[3] # H current activation\n",
    "    mt=u[4] # T-type calcium current activation\n",
    "    ht=u[5] # T-type calcium current inactivation\n",
    "    mA=u[6] # A-type potassium current activation\n",
    "    hA=u[7] # A-type potassium current inactivation\n",
    "    mKd=u[8] # Delayed-rectifier potassium current activation\n",
    "    mL=u[9] # L-type calcium current activation\n",
    "    Ca=u[10] # Intracellular calcium concentration\n",
    "    noise=u[11] # Input noise\n",
    "\n",
    "    # ODEs\n",
    "    du1=1/C*(- gNa*mNa**3*hNa*(V-VNa) - gH*mH*(V-VH) - gT*mt**2*ht*(V-VCa) - gA*mA**4*hA*(V-VK) - gKd*mKd**4*(V-VK) -\n",
    "                gKir*mKir_inf(V)*(V-VK) - gLeak*(V-Vleak)- gL*mL*(V-VCa) - gKCa*(Ca/(15.0+Ca))**4*(V-VK) +\n",
    "                Iapp + I1*pulse(t,ti1,tf1) + I2*pulse(t,ti2,tf2) + noise + Ain*sin(2*pi*Win*t)) # Voltage equation\n",
    "    du2=1/tau_mNa(V)*(-mNa+mNa_inf(V)) # gating equation\n",
    "    du3=1/tau_hNa(V)*(-hNa+hNa_inf(V))\n",
    "    du4=1/tau_mH(V)*(-mH+mH_inf(V))\n",
    "    du5=1/tau_mt(V)*(-mt+mt_inf(V))\n",
    "    du6=1/tau_ht(V)*(-ht+ht_inf(V))\n",
    "    du7=1/tau_mA(V)*(-mA+mA_inf(V))\n",
    "    du8=1/tau_hA(V)*(-hA+hA_inf(V))\n",
    "    du9=1/tau_mKd(V)*(-mKd+mKd_inf(V))\n",
    "    du10=1/tau_mL(V)*(-mL+mL_inf(V))\n",
    "    du11=(-0.1*(gL*mL*(V-VCa))-0.01*Ca)/4 # Variation of intracellular calcium concentration\n",
    "    du12=-noise/taunoise # Noise equation\n",
    "    \n",
    "    return [du1,du2,du3,du4,du5,du6,du7,du8,du9,du10,du11,du12]"
   ]
  },
  {
   "cell_type": "code",
   "execution_count": 5,
   "metadata": {},
   "outputs": [],
   "source": [
    "\n",
    "def  OB_ODE(t,u):\n",
    "    \n",
    "    min_num=1e-9\n",
    "    max_num=1e10\n",
    "    it=iter(u)\n",
    "    dinamics,Theta,phi,P,u_sys=[[next(it) for _ in range(size)] for size in variable_size]\n",
    "    \n",
    "    V,mNa,hNa,mH,mt,ht,mA,hA,mKd,mL,Ca,noise=dinamics\n",
    "    \n",
    "    P=np.array(P).reshape([num_phi,num_phi])\n",
    "    Theta=np.array(Theta)\n",
    "    phi=np.array(phi)\n",
    "    \n",
    "    obesV=u_sys[0]\n",
    "    \n",
    "    \n",
    "    Iapp=p[0] # Amplitude of constant applied current\n",
    "    I1=p[1] # Amplitude of first step input\n",
    "    I2=p[2] # Amplitude of second step input\n",
    "    ti1=p[3] # Starting time of first step input\n",
    "    tf1=p[4] # Ending time of first step input\n",
    "    ti2=p[5] # Starting time of second step input\n",
    "    tf2=p[6] # Ending time of second step input\n",
    "    gT=p[7] # T-type calcium current maximal conductance\n",
    "    gKd=p[8]  # Delayed-rectifier potassium current maximal conductance\n",
    "    gH=p[9] # H-current maximal conductance\n",
    "    gNa=p[10] # Sodium current maximal conductance\n",
    "    gA=p[11] # A-type potassium current maximal conductance\n",
    "    gKir=p[12]  # Inward-rectifier potassium current maximal conductance\n",
    "    gLeak=p[13] # Leak current maximal conductance\n",
    "    gL=p[14] # L-type calcium current maximal conductance\n",
    "    gKCa=p[15] # Calcium-activated potassium current maximal conductance\n",
    "    C=p[16] # Membrane capacitance\n",
    "    taunoise=p[18] # Cutoff frequency for low-pass filtered Gaussian noise\n",
    "    Ain=p[19] # Amplitude of sinusoïdal inut\n",
    "    Win=p[20] # Frequency of  sinusoïdal inut\n",
    "    \n",
    "    \n",
    "    PHI0= -mNa**3*hNa*(obesV-VNa) \n",
    "    PHI1= -mH*(obesV-VH)\n",
    "    PHI2= -mt**2*ht*(obesV-VCa)\n",
    "    PHI3= -mA**4*hA*(obesV-VK)\n",
    "    PHI4= - mKd**4*(obesV-VK)\n",
    "    PHI5= -mKir_inf(obesV)*(obesV-VK)\n",
    "    PHI6= -(obesV-Vleak)\n",
    "    PHI7= -mL*(obesV-VCa)\n",
    "    PHI8= -(Ca/(15.0+Ca))**4*(obesV-VK)\n",
    "    PHI9= Iapp + I1*pulse(t,ti1,tf1) + I2*pulse(t,ti2,tf2)+ Ain*sin(2*pi*Win*t)\n",
    "    \n",
    "    \n",
    "    PHI= np.array([PHI0,PHI1,PHI2,PHI3,PHI4,PHI5,PHI6,PHI7,PHI8])\n",
    "    \n",
    "    observer = gamma*(obesV-V)+gamma*np.dot(np.dot(phi,P),phi)*(obesV-V)\n",
    "    \n",
    "    if np.isinf(P).any():\n",
    "        raise ValueError('inf',P,'place of inf:',np.argwhere(np.isnan(P)))\n",
    "    \n",
    "    if np.isinf(phi).any():\n",
    "        raise ValueError('inf',phi,'place of inf:',np.argwhere(np.isnan(PHI)))\n",
    "        \n",
    "    if np.isinf(Theta).any():\n",
    "        raise ValueError('inf',Theta,'place of inf:',np.argwhere(np.isinf(Theta)),P[8,8],phi[-1]) \n",
    "    \n",
    "        \n",
    "    if np.isinf(observer).any():\n",
    "        raise ValueError('inf',Theta,'place of inf') \n",
    "        \n",
    "    #ODEs\n",
    "    \n",
    "    du1=1/C*(np.dot(PHI,Theta) + PHI9)+ observer# Voltage equation\n",
    "    \n",
    "    du2=np.sign(tau_mNa(obesV))/max(np.absolute(tau_mNa(obesV)),min_num)*(-mNa+mNa_inf(obesV)) # gating equation\n",
    "    du3=np.sign(tau_hNa(obesV))/max(np.absolute(tau_hNa(obesV)),min_num)*(-hNa+hNa_inf(obesV))\n",
    "    du4=np.sign(tau_mH(obesV))/max(np.absolute(tau_mH(obesV)),min_num)*(-mH+mH_inf(obesV))\n",
    "    du5=np.sign(tau_mt(obesV))/max(np.absolute(tau_mt(obesV)),min_num)*(-mt+mt_inf(obesV))\n",
    "    du6=np.sign(tau_ht(obesV))/max(np.absolute(tau_ht(obesV)),min_num)*(-ht+ht_inf(obesV))\n",
    "    du7=np.sign(tau_mA(obesV))/max(np.absolute(tau_mA(obesV)),min_num)*(-mA+mA_inf(obesV))\n",
    "    du8=np.sign(tau_hA(obesV))/max(np.absolute(tau_hA(obesV)),min_num)*(-hA+hA_inf(obesV))\n",
    "    du9=np.sign(tau_mKd(obesV))/max(np.absolute(tau_mKd(obesV)),min_num)*(-mKd+mKd_inf(obesV))\n",
    "    du10=np.sign(tau_mL(obesV))/max(np.absolute(tau_mL(obesV)),min_num)*(-mL+mL_inf(obesV))\n",
    "    du11=(-0.1*(gL*mL*(obesV-VCa))-0.01*Ca)/4 # Variation of intracellular calcium concentration\n",
    "    du12=-noise/taunoise # Noise equation\n",
    "    \n",
    "    du13=gamma*np.dot(P,phi)*(obesV-V)\n",
    "    \n",
    "    du14=-gamma*phi+PHI\n",
    "    #du14=(np.absolute(du14)>min_num)*du14\n",
    "    \n",
    "    du15=alpha*P-np.dot(np.dot(P,np.outer(phi,phi)),P)\n",
    "    \n",
    "    du16=HM_ODE(t,u_sys)\n",
    "    \n",
    "    \n",
    "    return ([[du1,du2,du3,du4,du5,du6,du7,du8,du9,du10,du11,du12],du13.tolist(),du14.tolist(),du15.flatten().tolist(),du16])\n",
    "\n",
    "def  OB_ODE2(t,u):\n",
    "    a,b,c,d,e= OB_ODE(t,u)\n",
    "    out=[*a,*b,*c,*d,*e]\n",
    "        \n",
    "    out=np.nan_to_num(out)\n",
    "    \n",
    "    if np.isnan(out).any():\n",
    "        raise ValueError('nan','place of nan:',np.argwhere(np.isnan(out)))\n",
    "    elif np.isinf(out).any():\n",
    "        raise ValueError('inf')\n",
    "        \n",
    "    return (out)\n",
    "    "
   ]
  },
  {
   "cell_type": "code",
   "execution_count": 95,
   "metadata": {},
   "outputs": [],
   "source": [
    "\n",
    "def  OB_ODE3(t,u):\n",
    "    \n",
    "    it=iter(u)\n",
    "    dinamics,Theta,phi,P,u_sys=[[next(it) for _ in range(size)] for size in variable_size]\n",
    "    \n",
    "    V,mNa,hNa,mH,mt,ht,mA,hA,mKd,mL,Ca,noise=dinamics\n",
    "    \n",
    "    P=np.array(P).reshape([num_phi,num_phi])\n",
    "    Theta=np.array(Theta)\n",
    "    phi=np.array(phi)\n",
    "    \n",
    "    obesV=u_sys[0]\n",
    "    \n",
    "    \n",
    "    Iapp=p[0] # Amplitude of constant applied current\n",
    "    I1=p[1] # Amplitude of first step input\n",
    "    I2=p[2] # Amplitude of second step input\n",
    "    ti1=p[3] # Starting time of first step input\n",
    "    tf1=p[4] # Ending time of first step input\n",
    "    ti2=p[5] # Starting time of second step input\n",
    "    tf2=p[6] # Ending time of second step input\n",
    "    gT=p[7] # T-type calcium current maximal conductance\n",
    "    gKd=p[8]  # Delayed-rectifier potassium current maximal conductance\n",
    "    gH=p[9] # H-current maximal conductance\n",
    "    gNa=p[10] # Sodium current maximal conductance\n",
    "    gA=p[11] # A-type potassium current maximal conductance\n",
    "    gKir=p[12]  # Inward-rectifier potassium current maximal conductance\n",
    "    gLeak=p[13] # Leak current maximal conductance\n",
    "    gL=p[14] # L-type calcium current maximal conductance\n",
    "    gKCa=p[15] # Calcium-activated potassium current maximal conductance\n",
    "    C=p[16] # Membrane capacitance\n",
    "    taunoise=p[18] # Cutoff frequency for low-pass filtered Gaussian noise\n",
    "    Ain=p[19] # Amplitude of sinusoïdal inut\n",
    "    Win=p[20] # Frequency of  sinusoïdal inut\n",
    "    \n",
    "    \n",
    "    PHI0= -mNa**3*hNa*(obesV-VNa) \n",
    "    PHI1= - mKd**4*(obesV-VK)\n",
    "    PHI2= -(obesV-Vleak)\n",
    "    PHI3= -mL*(obesV-VCa)\n",
    "    PHI4= -(Ca/(15.0+Ca))**4*(obesV-VK)\n",
    "    PHI5= Iapp + I1*pulse(t,ti1,tf1) + I2*pulse(t,ti2,tf2)+ Ain*sin(2*pi*Win*t)\n",
    "    \n",
    "    \n",
    "    PHI= np.array([PHI0,PHI1,PHI2,PHI3,PHI4])\n",
    "    \n",
    "    observer = gamma*(obesV-V)+gamma*np.dot(np.dot(phi,P),phi)*(obesV-V)\n",
    "    \n",
    "    if np.isinf(PHI).any():\n",
    "        raise ValueError('inf',PHI,'place of inf:',np.argwhere(np.isnan(PHI)))\n",
    "        \n",
    "    if np.isinf(Theta).any():\n",
    "        raise ValueError('inf',Theta,'place of inf:',np.argwhere(np.isnan(Theta))) \n",
    "        \n",
    "    if np.isinf(observer).any():\n",
    "        raise ValueError('inf',Theta,'place of inf') \n",
    "        \n",
    "    #ODEs\n",
    "    \n",
    "    du1=1/C*(np.dot(PHI,Theta) + PHI5)+ observer# Voltage equation\n",
    "    \n",
    "    du2=1/tau_mNa(obesV)*(-mNa+mNa_inf(obesV)) # gating equation\n",
    "    du3=1/tau_hNa(obesV)*(-hNa+hNa_inf(obesV))\n",
    "    du4=1/tau_mH(obesV)*(-mH+mH_inf(obesV))\n",
    "    du5=1/tau_mt(obesV)*(-mt+mt_inf(obesV))\n",
    "    du6=1/tau_ht(obesV)*(-ht+ht_inf(obesV))\n",
    "    du7=1/tau_mA(obesV)*(-mA+mA_inf(obesV))\n",
    "    du8=1/tau_hA(obesV)*(-hA+hA_inf(obesV))\n",
    "    du9=1/tau_mKd(obesV)*(-mKd+mKd_inf(obesV))\n",
    "    du10=1/tau_mL(obesV)*(-mL+mL_inf(obesV))\n",
    "    du11=(-0.1*(gL*mL*(obesV-VCa))-0.01*Ca)/4 # Variation of intracellular calcium concentration\n",
    "    du12=-noise/taunoise # Noise equation\n",
    "    \n",
    "    du13=gamma*np.dot(P,phi)*(obesV-V)+gamma*np.dot(P,beta*np.absolute(Theta)*(Theta < 0))\n",
    "    du14=-gamma*phi+PHI\n",
    "    du15=-np.dot(np.dot(P,np.outer(phi,phi)),P)+alpha*P\n",
    "    \n",
    "    du16=HM_ODE2(t,u_sys)\n",
    "    \n",
    "    \n",
    "    return ([[du1,du2,du3,du4,du5,du6,du7,du8,du9,du10,du11,du12],du13.tolist(),du14.tolist(),du15.flatten().tolist(),du16,observer,PHI,Theta])\n",
    "\n",
    "def  OB_ODE4(t,u):\n",
    "    a,b,c,d,e,obs,PHI,Theta= OB_ODE3(t,u)\n",
    "    out=[*a,*b,*c,*d,*e]\n",
    "        \n",
    "    out=np.nan_to_num(out)\n",
    "    \n",
    "    if np.isnan(out).any():\n",
    "        raise ValueError('nan','place of nan:',np.argwhere(np.isnan(out)))\n",
    "    elif np.isinf(out).any():\n",
    "        raise ValueError('inf')\n",
    "        \n",
    "    return (out)"
   ]
  },
  {
   "cell_type": "code",
   "execution_count": 96,
   "metadata": {},
   "outputs": [],
   "source": [
    "num_dinamics=12\n",
    "num_Theta=5\n",
    "num_phi=num_Theta\n",
    "num_p=num_Theta**2\n",
    "num_u_sys=12\n",
    "variable_size=[num_dinamics,num_Theta,num_phi,num_p,num_u_sys]\n",
    "beta=1e2"
   ]
  },
  {
   "cell_type": "code",
   "execution_count": 43,
   "metadata": {},
   "outputs": [],
   "source": [
    "from scipy.integrate import solve_ivp\n",
    "## Simulation of the model in current-clamp mode\n",
    "\n",
    "## Definition of reversal potential values. \n",
    "VNa = 45.; # Sodium reversal potential\n",
    "VCa = 120.; # Calcium reversal potential\n",
    "VK = -90.; # Potassium reversal potential\n",
    "VH= -43.; # Reversal potential for the H-current (permeable to both sodium and potassium ions)\n",
    "Vleak = -55.; # Reversal potential of leak channels\n",
    "\n",
    "## Definition of membrane capacitance and maximal conductance values. \n",
    "C=0.1; # Membrane capacitance\n",
    "gLeak=0.1; # Leak current maximal conductance\n",
    "gNa=120.; # Sodium current maximal conductance\n",
    "gKd=80.; # Delayed-rectifier potassium current maximal conductance\n",
    "gA=0.; # A-type potassium current maximal conductance\n",
    "gKir=0.; # Inward-rectifier potassium current maximal conductance\n",
    "gT=2.; # T-type calcium current maximal conductance\n",
    "gH=0.1; # H-current maximal conductance\n",
    "gL=0.4; # L-type calcium current maximal conductance\n",
    "gKCa=2.; # Calcium-activated potassium current maximal conductance\n",
    "\n",
    "## Definition of simulation time.\n",
    "Tfinal=2800.0\n",
    "tspan=[0.0,Tfinal]\n",
    "\n",
    "## Input current defition\n",
    "# Constant current\n",
    "Iapp=-2.5\n",
    "\n",
    "# Current pulses\n",
    "I1=0. # Amplitude of first pulse\n",
    "ti1=100 # Starting time of first pulse\n",
    "tf1=103 # Ending time of first pulse\n",
    "I2=0. # Amplitude of second pulse\n",
    "ti2=200 # Starting time of second pulse\n",
    "tf2=203 # Ending time of first pulse\n",
    "\n",
    "# Sinusoidal input\n",
    "Ain=0 # Amplitude\n",
    "Win=0.0005 # Frequency\n",
    "\n",
    "# Input noise\n",
    "NoiseIN=0. # Amplitude\n",
    "TauNoise=2.0 # Cut-off frequency\n",
    "\n",
    "## Current-clamp experiment\n",
    "# Parameter vector for simulations\n",
    "p=[Iapp,I1,I2,ti1,tf1,ti2,tf2,gT,gKd,gH,gNa,gA,gKir,gLeak,gL,gKCa,C,NoiseIN,TauNoise,Ain,Win]\n",
    "\n",
    "# Initial conditions\n",
    "V0= -70.\n",
    "x0 = [V0,mNa_inf(V0),hNa_inf(V0),mH_inf(V0),mt_inf(V0),ht_inf(V0) ,mA_inf(V0), hA_inf(V0), mKd_inf(V0), mL_inf(V0), -10*gL*mL_inf(V0)*(V0-VCa), 0.0]\n",
    "\n",
    "# Simulation\n",
    "#prob = SDEProblem(HM_ODE,σ_HM,x0,tspan,p) # Simulation with noise (SDE)\n",
    "sol=solve_ivp(HM_ODE ,tspan , x0,'BDF')\n"
   ]
  },
  {
   "cell_type": "code",
   "execution_count": 44,
   "metadata": {},
   "outputs": [
    {
     "data": {
      "text/plain": [
       "[<matplotlib.lines.Line2D at 0x2cb7bff57c8>]"
      ]
     },
     "execution_count": 44,
     "metadata": {},
     "output_type": "execute_result"
    },
    {
     "data": {
      "image/png": "[encoded data removed]",
      "text/plain": [
       "<Figure size 432x288 with 1 Axes>"
      ]
     },
     "metadata": {
      "needs_background": "light"
     },
     "output_type": "display_data"
    }
   ],
   "source": [
    "plt.plot(sol.t, sol.y[0])"
   ]
  },
  {
   "cell_type": "code",
   "execution_count": 82,
   "metadata": {},
   "outputs": [
    {
     "data": {
      "text/plain": [
       "[<matplotlib.lines.Line2D at 0x2524dbb3488>]"
      ]
     },
     "execution_count": 82,
     "metadata": {},
     "output_type": "execute_result"
    },
    {
     "data": {
      "image/png": "[encoded data removed]",
      "text/plain": [
       "<Figure size 432x288 with 1 Axes>"
      ]
     },
     "metadata": {
      "needs_background": "light"
     },
     "output_type": "display_data"
    }
   ],
   "source": [
    "plt.plot(sol.t,sol.y[10])"
   ]
  },
  {
   "cell_type": "code",
   "execution_count": 8,
   "metadata": {},
   "outputs": [
    {
     "data": {
      "image/png": "[encoded data removed]",
      "text/plain": [
       "<Figure size 432x288 with 1 Axes>"
      ]
     },
     "metadata": {
      "needs_background": "light"
     },
     "output_type": "display_data"
    }
   ],
   "source": [
    "plt.figure()\n",
    "for i in range(11):\n",
    "    plt.plot(sol.t,sol.y[1+i])\n",
    "plt.show()"
   ]
  },
  {
   "cell_type": "code",
   "execution_count": 142,
   "metadata": {},
   "outputs": [
    {
     "name": "stdout",
     "output_type": "stream",
     "text": [
      "[93.25622936 63.48940208 63.95073951 94.19755263 16.48818801]\n",
      "59\n",
      "5\n"
     ]
    }
   ],
   "source": [
    "from scipy.integrate import solve_ivp\n",
    "## Simulation of the model in current-clamp mode\n",
    "\n",
    "## Definition of reversal potential values. \n",
    "VNa = 45.; # Sodium reversal potential\n",
    "VCa = 120.; # Calcium reversal potential\n",
    "VK = -90.; # Potassium reversal potential\n",
    "VH= -43.; # Reversal potential for the H-current (permeable to both sodium and potassium ions)\n",
    "Vleak = -55.; # Reversal potential of leak channels\n",
    "\n",
    "## Definition of membrane capacitance and maximal conductance values. \n",
    "C=0.1; # Membrane capacitance\n",
    "gLeak=0.1; # Leak current maximal conductance\n",
    "\n",
    "gNa=120.; # Sodium current maximal conductance 120\n",
    "gKd=80; # Delayed-rectifier potassium current maximal conductance 80\n",
    "gT=0; # T-type calcium current maximal conductance 2.\n",
    "gH=0; # H-current maximal conductance 0.1\n",
    "gL=0.4; # L-type calcium current maximal conductance 0.4\n",
    "gKCa=2.; # Calcium-activated potassium current maximal conductance 2.\n",
    "gA=0.; # A-type potassium current maximal conductance\n",
    "gKir=0.; # Inward-rectifier potassium current maximal conductance\n",
    "\n",
    "## Definition of simulation time.\n",
    "Tfinal=2000.0\n",
    "tspan=[0.0,Tfinal]\n",
    "\n",
    "## Input current defition\n",
    "# Constant current\n",
    "Iapp=-5\n",
    "\n",
    "# Current pulses\n",
    "I1=0. # Amplitude of first pulse\n",
    "ti1=100 # Starting time of first pulse\n",
    "tf1=103 # Ending time of first pulse\n",
    "I2=0. # Amplitude of second pulse\n",
    "ti2=200 # Starting time of second pulse\n",
    "tf2=203 # Ending time of first pulse\n",
    "\n",
    "# Sinusoidal input\n",
    "Ain=6# Amplitude\n",
    "Win=0.01 # Frequency\n",
    "\n",
    "#Hyperparameters\n",
    "gamma=10\n",
    "alpha=0.01\n",
    "\n",
    "# Input noise\n",
    "NoiseIN=0. # Amplitude\n",
    "TauNoise=2.0 # Cut-off frequency\n",
    "\n",
    "## Current-clamp experiment\n",
    "# Parameter vector for simulations\n",
    "p=[Iapp,I1,I2,ti1,tf1,ti2,tf2,gT,gKd,gH,gNa,gA,gKir,gLeak,gL,gKCa,C,NoiseIN,TauNoise,Ain,Win]\n",
    "\n",
    "# Initial conditions\n",
    "V0= -70.\n",
    "x0 = [V0,mNa_inf(V0),hNa_inf(V0),mH_inf(V0),mt_inf(V0),ht_inf(V0) ,mA_inf(V0), hA_inf(V0), mKd_inf(V0), mL_inf(V0), -10*gL*mL_inf(V0)*(V0-VCa), 0.0]\n",
    "\n",
    "#Theta0=(np.array([100,0.1,2,0,30,0,0,0,0])).tolist()\n",
    "Theta0= np.random.rand(num_Theta)*100\n",
    "print(Theta0)\n",
    "A0=(np.ones(num_Theta)*0.1).tolist()\n",
    "P0=(np.identity(num_Theta)*0.1).flatten().tolist()\n",
    "P0[-1]=0\n",
    "X0_=[*x0,*Theta0,*A0,*P0,*x0]\n",
    "print(len(X0_))\n",
    "print(len(Theta0))"
   ]
  },
  {
   "cell_type": "code",
   "execution_count": 143,
   "metadata": {},
   "outputs": [
    {
     "name": "stdout",
     "output_type": "stream",
     "text": [
      "[12, 5, 5, 25, 12]\n"
     ]
    }
   ],
   "source": [
    "print(variable_size)"
   ]
  },
  {
   "cell_type": "code",
   "execution_count": null,
   "metadata": {},
   "outputs": [],
   "source": []
  },
  {
   "cell_type": "code",
   "execution_count": null,
   "metadata": {},
   "outputs": [],
   "source": []
  },
  {
   "cell_type": "code",
   "execution_count": 144,
   "metadata": {
    "scrolled": true
   },
   "outputs": [],
   "source": [
    "# Simulation\n",
    "#prob = SDEProblem(HM_ODE,σ_HM,x0,tspan,p) # Simulation with noise (SDE)\n",
    "sol=solve_ivp(OB_ODE4 ,tspan , X0_,'BDF')"
   ]
  },
  {
   "cell_type": "code",
   "execution_count": 140,
   "metadata": {
    "scrolled": true
   },
   "outputs": [
    {
     "data": {
      "text/plain": [
       "[<matplotlib.lines.Line2D at 0x2cb04f66fc8>]"
      ]
     },
     "execution_count": 140,
     "metadata": {},
     "output_type": "execute_result"
    },
    {
     "data": {
      "image/png": "[encoded data removed]",
      "text/plain": [
       "<Figure size 432x288 with 1 Axes>"
      ]
     },
     "metadata": {
      "needs_background": "light"
     },
     "output_type": "display_data"
    }
   ],
   "source": [
    "plt.plot(sol.t,sol.y[0])\n",
    "plt.plot(sol.t,sol.y[47])"
   ]
  },
  {
   "cell_type": "code",
   "execution_count": 141,
   "metadata": {},
   "outputs": [
    {
     "data": {
      "image/png": "[encoded data removed]",
      "text/plain": [
       "<Figure size 432x288 with 1 Axes>"
      ]
     },
     "metadata": {
      "needs_background": "light"
     },
     "output_type": "display_data"
    },
    {
     "name": "stdout",
     "output_type": "stream",
     "text": [
      "[ 7.38104292e-01 -1.44736217e-10 -5.29591655e-02 -1.97359684e-04\n",
      "  8.09642632e+00]\n"
     ]
    }
   ],
   "source": [
    "labels=[ 'Na','H','t','A','K','Kir','leak','L','KCa']\n",
    "plt.figure()\n",
    "for i in range(num_Theta):\n",
    "    plt.plot(sol.t,sol.y[12+i],label=labels[i])\n",
    "plt.legend()\n",
    "plt.show()\n",
    "print(sol.y[12:12+num_Theta,-1])"
   ]
  },
  {
   "cell_type": "code",
   "execution_count": 278,
   "metadata": {},
   "outputs": [
    {
     "data": {
      "image/png": "[encoded data removed]",
      "text/plain": [
       "<Figure size 432x288 with 1 Axes>"
      ]
     },
     "metadata": {
      "needs_background": "light"
     },
     "output_type": "display_data"
    }
   ],
   "source": [
    "plt.figure()\n",
    "for i in range(11):\n",
    "    plt.plot(sol.t,sol.y[1+i])\n",
    "plt.show()"
   ]
  },
  {
   "cell_type": "code",
   "execution_count": 279,
   "metadata": {},
   "outputs": [
    {
     "data": {
      "text/plain": [
       "[<matplotlib.lines.Line2D at 0x29dc455f388>]"
      ]
     },
     "execution_count": 279,
     "metadata": {},
     "output_type": "execute_result"
    },
    {
     "data": {
      "image/png": "[encoded data removed]",
      "text/plain": [
       "<Figure size 432x288 with 1 Axes>"
      ]
     },
     "metadata": {
      "needs_background": "light"
     },
     "output_type": "display_data"
    }
   ],
   "source": [
    "plt.plot(sol.t,sol.y[10])"
   ]
  },
  {
   "cell_type": "code",
   "execution_count": 285,
   "metadata": {},
   "outputs": [
    {
     "data": {
      "image/png": "[encoded data removed]",
      "text/plain": [
       "<Figure size 432x288 with 1 Axes>"
      ]
     },
     "metadata": {
      "needs_background": "light"
     },
     "output_type": "display_data"
    }
   ],
   "source": [
    "plt.figure()\n",
    "for i in range(40):\n",
    "    plt.plot(sol.t,sol.y[30+i])\n",
    "plt.show()"
   ]
  },
  {
   "cell_type": "code",
   "execution_count": 56,
   "metadata": {},
   "outputs": [
    {
     "name": "stdout",
     "output_type": "stream",
     "text": [
      "[ 1.19365775e+02  1.07232431e+00 -1.90631165e-02  6.92614799e-03\n",
      "  2.98466897e+01  2.22138018e-01  9.60746880e-02  4.31447610e-03\n",
      "  1.99285826e+00]\n"
     ]
    }
   ],
   "source": [
    "print(sol.y[12:12+num_Theta,-1])"
   ]
  },
  {
   "cell_type": "code",
   "execution_count": 57,
   "metadata": {},
   "outputs": [],
   "source": [
    "data = [123,452,342,533,222,402,124,125,263,254,44,987,78,655,741,165,597,26,15,799,100,154,122,563] \n",
    "sizes = [2, 5, 14, 3]\n",
    "it = iter(data)\n",
    "a=[[next(it) for _ in range(size)] for size in sizes]\n"
   ]
  },
  {
   "cell_type": "code",
   "execution_count": 114,
   "metadata": {},
   "outputs": [
    {
     "name": "stdout",
     "output_type": "stream",
     "text": [
      "[ 0.  1.  2.  4. -0.]\n"
     ]
    }
   ],
   "source": []
  },
  {
   "cell_type": "code",
   "execution_count": 388,
   "metadata": {},
   "outputs": [],
   "source": [
    "## Simulation of the model in current-clamp mode\n",
    "'''\n",
    " PHI0= -mNa**3*hNa*(obesV-VNa) \n",
    "    PHI1= -mH*(obesV-VH)\n",
    "    PHI2= -mt**2*ht*(obesV-VCa)\n",
    "    PHI3= -mA**4*hA*(obesV-VK)\n",
    "    PHI4= - mKd**4*(obesV-VK)\n",
    "    PHI5= -mKir_inf(obesV)*(obesV-VK)\n",
    "    PHI6= -(obesV-Vleak)\n",
    "    PHI7= -mL*(obesV-VCa)\n",
    "    PHI8= -(Ca/(15.0+Ca))**4*(obesV-VK)\n",
    "'''\n",
    "## Definition of reversal potential values. \n",
    "VNa = 45.; # Sodium reversal potential\n",
    "VCa = 120.; # Calcium reversal potential\n",
    "VK = -90.; # Potassium reversal potential\n",
    "VH= -43.; # Reversal potential for the H-current (permeable to both sodium and potassium ions)\n",
    "Vleak = -55.; # Reversal potential of leak channels\n",
    "\n",
    "## Definition of membrane capacitance and maximal conductance values. \n",
    "C=0.1; # Membrane capacitance\n",
    "\n",
    "gNa,gH ,gT,gA,gKd,gKir,gleak,gL,gKCa = [ 1.19728830e+02 , 9.99739016e-02 , 1.99448066e+00 , 1.29365211e-02\n",
    "  ,7.98141541e+01 ,-2.48265037e-01 , 9.62283599e-02 , 3.99194380e-01,2.00000000e+00]\n",
    "\n",
    "\n",
    "\n",
    "## Definition of simulation time.\n",
    "Tfinal=2000.0\n",
    "tspan=[0.0,Tfinal]\n",
    "\n",
    "## Input current defition\n",
    "# Constant current\n",
    "Iapp=-2.5\n",
    "\n",
    "# Current pulses\n",
    "I1=0. # Amplitude of first pulse\n",
    "ti1=100 # Starting time of first pulse\n",
    "tf1=103 # Ending time of first pulse\n",
    "I2=0. # Amplitude of second pulse\n",
    "ti2=200 # Starting time of second pulse\n",
    "tf2=203 # Ending time of first pulse\n",
    "\n",
    "# Sinusoidal input\n",
    "Ain=0.0 # Amplitude\n",
    "Win=0.0 # Frequency\n",
    "\n",
    "# Input noise\n",
    "NoiseIN=0. # Amplitude\n",
    "TauNoise=2.0 # Cut-off frequency\n",
    "\n",
    "## Current-clamp experiment\n",
    "# Parameter vector for simulations\n",
    "p=[Iapp,I1,I2,ti1,tf1,ti2,tf2,gT,gKd,gH,gNa,gA,gKir,gLeak,gL,gKCa,C,NoiseIN,TauNoise,Ain,Win]\n",
    "\n",
    "# Initial conditions\n",
    "V0= -70.\n",
    "x0 = [V0,mNa_inf(V0),hNa_inf(V0),mH_inf(V0),mt_inf(V0),ht_inf(V0) ,mA_inf(V0), hA_inf(V0), mKd_inf(V0), mL_inf(V0), -10*gL*mL_inf(V0)*(V0-VCa), 0.0]\n",
    "\n",
    "# Simulation\n",
    "#prob = SDEProblem(HM_ODE,σ_HM,x0,tspan,p) # Simulation with noise (SDE)\n",
    "sol=solve_ivp(HM_ODE ,tspan , x0,'BDF')"
   ]
  },
  {
   "cell_type": "code",
   "execution_count": 389,
   "metadata": {},
   "outputs": [
    {
     "data": {
      "text/plain": [
       "[<matplotlib.lines.Line2D at 0x22a9aa811c8>]"
      ]
     },
     "execution_count": 389,
     "metadata": {},
     "output_type": "execute_result"
    },
    {
     "data": {
      "image/png": "[encoded data removed]",
      "text/plain": [
       "<Figure size 432x288 with 1 Axes>"
      ]
     },
     "metadata": {
      "needs_background": "light"
     },
     "output_type": "display_data"
    }
   ],
   "source": [
    "plt.plot(sol.t, sol.y[0])"
   ]
  },
  {
   "cell_type": "code",
   "execution_count": 345,
   "metadata": {},
   "outputs": [
    {
     "data": {
      "text/plain": [
       "[<matplotlib.lines.Line2D at 0x22aa72c94c8>]"
      ]
     },
     "execution_count": 345,
     "metadata": {},
     "output_type": "execute_result"
    },
    {
     "data": {
      "image/png": "[encoded data removed]",
      "text/plain": [
       "<Figure size 432x288 with 1 Axes>"
      ]
     },
     "metadata": {
      "needs_background": "light"
     },
     "output_type": "display_data"
    }
   ],
   "source": [
    "plt.plot(sol.t,sol.y[11])"
   ]
  },
  {
   "cell_type": "code",
   "execution_count": null,
   "metadata": {},
   "outputs": [],
   "source": []
  }
 ],
 "metadata": {
  "kernelspec": {
   "display_name": "Python 3",
   "language": "python",
   "name": "python3"
  },
  "language_info": {
   "codemirror_mode": {
    "name": "ipython",
    "version": 3
   },
   "file_extension": ".py",
   "mimetype": "text/x-python",
   "name": "python",
   "nbconvert_exporter": "python",
   "pygments_lexer": "ipython3",
   "version": "3.7.6"
  }
 },
 "nbformat": 4,
 "nbformat_minor": 4
}

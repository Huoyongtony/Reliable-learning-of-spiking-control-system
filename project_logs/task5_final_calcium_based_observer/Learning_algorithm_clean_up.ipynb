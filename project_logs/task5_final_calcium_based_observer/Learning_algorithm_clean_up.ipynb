{
 "cells": [
  {
   "cell_type": "code",
   "execution_count": 11,
   "metadata": {},
   "outputs": [],
   "source": [
    "import numpy as np\n",
    "import matplotlib.pyplot as plt\n",
    "from numba import jit\n",
    "from scipy.integrate import solve_ivp\n",
    "exp=np.exp\n",
    "\n",
    "def alpha_m (V):\n",
    "    return  -0.025*(V+40.)/( exp(-(V+40)/10) - 1.0 )\n",
    "\n",
    "def beta_m(V):\n",
    "    return exp(-(V+65)/18)\n",
    "\n",
    "def mNa_inf(V):\n",
    "    return alpha_m(V) / (alpha_m(V) + beta_m(V))\n",
    "\n",
    "def tau_mNa(V):\n",
    "    return 1 / (alpha_m(V) + beta_m(V))/5\n",
    "\n",
    "def alpha_h(V):\n",
    "    return 0.0175*exp(-(V+65)/20)\n",
    "\n",
    "def beta_h(V):\n",
    "    return 0.25/(1.0 + exp(-(V+35)/10) )\n",
    "\n",
    "def hNa_inf(V):\n",
    "    return alpha_h(V) / (alpha_h(V) + beta_h(V))\n",
    "\n",
    "def tau_hNa (V):\n",
    "    return 1 / (alpha_h(V) + beta_h(V))/5\n",
    "Kdshift=10.0\n",
    "\n",
    "def alpha_mKd(V):\n",
    "    return 0.0025*(V+55.)/(1. - exp(-(V+55.)/10.))\n",
    "\n",
    "\n",
    "def beta_mKd(V):\n",
    "    return 0.03125*exp(-(V+65.)/80.)\n",
    "\n",
    "\n",
    "def mKd_inf (V):\n",
    "    return alpha_mKd(V-Kdshift) / (alpha_mKd(V-Kdshift) + beta_mKd(V-Kdshift))\n",
    "\n",
    "def tau_mKd (V):\n",
    "    return 1 / (alpha_mKd(V-Kdshift) + beta_mKd(V-Kdshift))/5 \n",
    "\n",
    "\n",
    "def mA_inf (V):\n",
    "    return 1/(1+exp(-(V+90)/8.5))\n",
    "\n",
    "def tau_mA (V):\n",
    "    return 0.37 + 1/(exp((V+35.82)/19.697)+exp((V+79.69)/-12.7))/5 \n",
    "\n",
    "def hA_inf (V):\n",
    "    return 1/(1+exp((V+78)/6))\n",
    "\n",
    "\n",
    "def tau_hA(V): # Inactivation time-constant\n",
    "    if (V < -63):\n",
    "        tau_hA = 1/(exp((V+46.05)/5)+exp((V+238.4)/-37.45))\n",
    "    else:\n",
    "        tau_hA = 19\n",
    "    return tau_hA/5\n",
    "\n",
    "\n",
    "def mKir_inf (V):\n",
    "    return 1/(1+exp((V+97.9+10)/9.7))\n",
    "\n",
    "# T-type Ca-current (mt=activation variable, ht=inactivation variable)\n",
    "\n",
    "def mt_inf (V):\n",
    "    return 1/(1+exp(-(V+57)/6.2)) # Activation function\n",
    "\n",
    "def tau_mt (V):\n",
    "    return 0.612 + 1/(exp(-(V+131.6)/16.7)+exp((V+16.8)/18.2)) # Activation time-constant\n",
    "\n",
    "def ht_inf(V):\n",
    "    return 1/(1+exp((V+81)/4.03)) # Inactivation function\n",
    "\n",
    "def tau_ht(V): # Inactivation time-constant\n",
    "    if (V < -80):\n",
    "        tau_ht = exp((V+467)/66.6)\n",
    "    else:\n",
    "        tau_ht = (exp(-(V+21.88)/10.2)+28)\n",
    "    return tau_ht\n",
    "\n",
    "\n",
    "# L-type Ca-current (mL=activation variable)\n",
    "\n",
    "def mL_inf (V):\n",
    "    return 1/(1+exp(-(V+55.)/3)) # Activation function\n",
    "\n",
    "def tau_mL(V):\n",
    "    return (72*exp(-(V+45.)**2/400)+6.) # Activation time-constant\n",
    "\n",
    "# H-current (mH=activation variable)\n",
    "\n",
    "def alpha_mH (V):\n",
    "    return exp(-14.59-(0.086*V))\n",
    "\n",
    "def beta_mH (V):\n",
    "    return exp(-1.87+(0.0701*V))\n",
    " \n",
    "def mH_inf (V):\n",
    "    return  alpha_mH(V) /(alpha_mH(V) + beta_mH(V)) # Activation function\n",
    " \n",
    "def tau_mH (V):\n",
    "    return 1/(alpha_mH(V) + beta_mH(V)) # Activation time-constant\n",
    " \n",
    "def heaviside (t):\n",
    "    return (1+np.sign(t))/2 \n",
    " \n",
    "def pulse (t,ti,tf):\n",
    "    return heaviside(t-ti)-heaviside(t-tf)\n",
    "\n",
    "sin=np.sin\n",
    "pi=np.pi\n"
   ]
  },
  {
   "cell_type": "code",
   "execution_count": 12,
   "metadata": {},
   "outputs": [],
   "source": [
    "@jit\n",
    "def HM_ODE(t,u):\n",
    "    # Parameters\n",
    "    Iapp=p[0] # Amplitude of constant applied current\n",
    "    I1=p[1] # Amplitude of first step input\n",
    "    I2=p[2] # Amplitude of second step input\n",
    "    ti1=p[3] # Starting time of first step input\n",
    "    tf1=p[4] # Ending time of first step input\n",
    "    ti2=p[5] # Starting time of second step input\n",
    "    tf2=p[6] # Ending time of second step input\n",
    "    gT=p[7] # T-type calcium current maximal conductance\n",
    "    gKd=p[8]  # Delayed-rectifier potassium current maximal conductance\n",
    "    gH=p[9] # H-current maximal conductance\n",
    "    gNa=p[10] # Sodium current maximal conductance\n",
    "    gA=p[11] # A-type potassium current maximal conductance\n",
    "    gKir=p[12]  # Inward-rectifier potassium current maximal conductance\n",
    "    gLeak=p[13] # Leak current maximal conductance\n",
    "    gL=p[14] # L-type calcium current maximal conductance\n",
    "    gKCa=p[15] # Calcium-activated potassium current maximal conductance\n",
    "    C=p[16] # Membrane capacitance\n",
    "    taunoise=p[18] # Cutoff frequency for low-pass filtered Gaussian noise\n",
    "    Ain=p[19] # Amplitude of sinusoïdal inut\n",
    "    Win=p[20] # Frequency of  sinusoïdal inut\n",
    "\n",
    "    # Variables\n",
    "    V=u[0] # Membrane potential\n",
    "    mNa=u[1] # Sodium current activation\n",
    "    hNa=u[2] # Sodium current inactivation\n",
    "    mH=u[3] # H current activation\n",
    "    mt=u[4] # T-type calcium current activation\n",
    "    ht=u[5] # T-type calcium current inactivation\n",
    "    mA=u[6] # A-type potassium current activation\n",
    "    hA=u[7] # A-type potassium current inactivation\n",
    "    mKd=u[8] # Delayed-rectifier potassium current activation\n",
    "    mL=u[9] # L-type calcium current activation\n",
    "    Ca=u[10] # Intracellular calcium concentration\n",
    "    noise=u[11] # Input noise\n",
    "\n",
    "    # ODEs\n",
    "    du1=1/C*(- gNa*mNa**3*hNa*(V-VNa) - gH*mH*(V-VH) - gT*mt**2*ht*(V-VCa) - gA*mA**4*hA*(V-VK) - gKd*mKd**4*(V-VK) -\n",
    "                gKir*mKir_inf(V)*(V-VK) - gLeak*(V-Vleak)- gL*mL*(V-VCa) - gKCa*(Ca/(15.0+Ca))**4*(V-VK) +\n",
    "                Iapp + I1*pulse(t,ti1,tf1) + I2*pulse(t,ti2,tf2) + noise + Ain*sin(2*pi*Win*t)) # Voltage equation\n",
    "    du2=1/tau_mNa(V)*(-mNa+mNa_inf(V)) # gating equation\n",
    "    du3=1/tau_hNa(V)*(-hNa+hNa_inf(V))\n",
    "    du4=1/tau_mH(V)*(-mH+mH_inf(V))\n",
    "    du5=1/tau_mt(V)*(-mt+mt_inf(V))\n",
    "    du6=1/tau_ht(V)*(-ht+ht_inf(V))\n",
    "    du7=1/tau_mA(V)*(-mA+mA_inf(V))\n",
    "    du8=1/tau_hA(V)*(-hA+hA_inf(V))\n",
    "    du9=1/tau_mKd(V)*(-mKd+mKd_inf(V))\n",
    "    du10=1/tau_mL(V)*(-mL+mL_inf(V))\n",
    "    du11=(-0.1*(gL*mL*(V-VCa))-0.01*Ca)/4 # Variation of intracellular calcium concentration\n",
    "    du12=-noise/taunoise # Noise equation\n",
    "    \n",
    "    return [du1,du2,du3,du4,du5,du6,du7,du8,du9,du10,du11,du12]"
   ]
  },
  {
   "cell_type": "code",
   "execution_count": 13,
   "metadata": {},
   "outputs": [],
   "source": [
    "@jit\n",
    "def  OB_ODE(t,u):\n",
    "    \n",
    "    it=iter(u)\n",
    "    dinamics,Theta,phi,P,u_sys=[[next(it) for _ in range(size)] for size in variable_size]\n",
    "    \n",
    "    V,mNa,hNa,mH,mt,ht,mA,hA,mKd,mL,Ca,noise=dinamics\n",
    "    \n",
    "    P=np.array(P).reshape([num_phi,num_phi])\n",
    "    Theta=np.array(Theta)\n",
    "    phi=np.array(phi)\n",
    "    \n",
    "    obesV=u_sys[0]\n",
    "    \n",
    "    \n",
    "    Iapp=p[0] # Amplitude of constant applied current\n",
    "    I1=p[1] # Amplitude of first step input\n",
    "    I2=p[2] # Amplitude of second step input\n",
    "    ti1=p[3] # Starting time of first step input\n",
    "    tf1=p[4] # Ending time of first step input\n",
    "    ti2=p[5] # Starting time of second step input\n",
    "    tf2=p[6] # Ending time of second step input\n",
    "    gT=p[7] # T-type calcium current maximal conductance\n",
    "    gKd=p[8]  # Delayed-rectifier potassium current maximal conductance\n",
    "    gH=p[9] # H-current maximal conductance\n",
    "    gNa=p[10] # Sodium current maximal conductance\n",
    "    gA=p[11] # A-type potassium current maximal conductance\n",
    "    gKir=p[12]  # Inward-rectifier potassium current maximal conductance\n",
    "    gLeak=p[13] # Leak current maximal conductance\n",
    "    gL=p[14] # L-type calcium current maximal conductance\n",
    "    gKCa=p[15] # Calcium-activated potassium current maximal conductance\n",
    "    C=p[16] # Membrane capacitance\n",
    "    taunoise=p[18] # Cutoff frequency for low-pass filtered Gaussian noise\n",
    "    Ain=p[19] # Amplitude of sinusoïdal inut\n",
    "    Win=p[20] # Frequency of  sinusoïdal inut\n",
    "    \n",
    "    \n",
    "    PHI0= -mNa**3*hNa*(obesV-VNa) \n",
    "    PHI1= -mH*(obesV-VH)\n",
    "    PHI2= -mt**2*ht*(obesV-VCa)\n",
    "    PHI3= -mA**4*hA*(obesV-VK)\n",
    "    PHI4= - mKd**4*(obesV-VK)\n",
    "    PHI5= -mKir_inf(obesV)*(obesV-VK)\n",
    "    PHI6= -(obesV-Vleak)\n",
    "    PHI7= -mL*(obesV-VCa)\n",
    "    PHI8= -(Ca/(15.0+Ca))**4*(obesV-VK)\n",
    "    Current_in= Iapp + I1*pulse(t,ti1,tf1) + I2*pulse(t,ti2,tf2)+ Ain*sin(2*pi*Win*t)\n",
    "    \n",
    "    \n",
    "    PHI= np.array([PHI0,PHI1,PHI2,PHI3,PHI4,PHI5,PHI6,PHI7,PHI8])\n",
    "    \n",
    "    #ODEs\n",
    "    \n",
    "    du1=1/C*(np.dot(PHI,Theta) + Current_in)+ gamma*(obesV-V)+gamma*np.dot(np.dot(phi,P),phi)*(obesV-V)# Voltage equation\n",
    "    \n",
    "    du2=1/tau_mNa(obesV)*(-mNa+mNa_inf(obesV)) # gating equation\n",
    "    du3=1/tau_hNa(obesV)*(-hNa+hNa_inf(obesV))\n",
    "    du4=1/tau_mH(obesV)*(-mH+mH_inf(obesV))\n",
    "    du5=1/tau_mt(obesV)*(-mt+mt_inf(obesV))\n",
    "    du6=1/tau_ht(obesV)*(-ht+ht_inf(obesV))\n",
    "    du7=1/tau_mA(obesV)*(-mA+mA_inf(obesV))\n",
    "    du8=1/tau_hA(obesV)*(-hA+hA_inf(obesV))\n",
    "    du9=1/tau_mKd(obesV)*(-mKd+mKd_inf(obesV))\n",
    "    du10=1/tau_mL(obesV)*(-mL+mL_inf(obesV))\n",
    "    du11=(-0.1*(gL*mL*(obesV-VCa))-0.01*Ca)/4 # Variation of intracellular calcium concentration\n",
    "    du12=-noise/taunoise # Noise equation\n",
    "    \n",
    "    du13=gamma_mask*np.dot(P,phi)*(obesV-V)\n",
    "    \n",
    "    du14=mask*(-gamma*phi+PHI)\n",
    "    #du14=(np.absolute(du14)>min_num)*du14\n",
    "    \n",
    "    du15=alpha*P-np.dot(np.dot(P,np.outer(phi,phi)),P)\n",
    "    \n",
    "    du16=HM_ODE(t,u_sys)\n",
    "    \n",
    "    \n",
    "    return ([[du1,du2,du3,du4,du5,du6,du7,du8,du9,du10,du11,du12],du13.tolist(),du14.tolist(),du15.flatten().tolist(),du16])\n",
    "\n",
    "def  OB_ODE2(t,u):\n",
    "    a,b,c,d,e= OB_ODE(t,u)\n",
    "    out=[*a,*b,*c,*d,*e]\n",
    "        \n",
    "    out=np.nan_to_num(out)\n",
    "        \n",
    "    return (out)"
   ]
  },
  {
   "cell_type": "code",
   "execution_count": 14,
   "metadata": {},
   "outputs": [],
   "source": [
    "#Test real model\n",
    "## Simulation of the model in current-clamp mode\n",
    "\n",
    "## Definition of reversal potential values. \n",
    "VNa = 45; # Sodium reversal potential 45\n",
    "VCa = 120.; # Calcium reversal potential\n",
    "VK = -90.; # Potassium reversal potential -90\n",
    "VH= -43.; # Reversal potential for the H-current (permeable to both sodium and potassium ions) -43\n",
    "Vleak = -55.; # Reversal potential of leak channels\n",
    "\n",
    "## Definition of membrane capacitance and maximal conductance values. \n",
    "C=0.1; # Membrane capacitance\n",
    "gLeak=0.1; # Leak current maximal conductance\n",
    "gNa=120.; # Sodium current maximal conductance\n",
    "gKd=80.; # Delayed-rectifier potassium current maximal conductance\n",
    "gA=0.; # A-type potassium current maximal conductance\n",
    "gKir=0.; # Inward-rectifier potassium current maximal conductance\n",
    "gT=2.; # T-type calcium current maximal conductance\n",
    "gH=0.1; # H-current maximal conductance\n",
    "gL=0.4; # L-type calcium current maximal conductance\n",
    "gKCa=2.; # Calcium-activated potassium current maximal conductance\n",
    "\n",
    "## Definition of simulation time.\n",
    "Tfinal=4000.0\n",
    "tspan=[0.0,Tfinal]\n",
    "\n",
    "## Input current defition\n",
    "# Constant current\n",
    "Iapp=0\n",
    "\n",
    "# Current pulses\n",
    "I1=0 # Amplitude of first pulse\n",
    "ti1=0 # Starting time of first pulse\n",
    "tf1=50 # Ending time of first pulse\n",
    "I2=0 # Amplitude of second pulse\n",
    "ti2=50 # Starting time of second pulse\n",
    "tf2=150 # Ending time of first pulse\n",
    "\n",
    "# Sinusoidal input\n",
    "Ain=2.5 # Amplitude\n",
    "Win=0.5 # Frequency\n",
    "\n",
    "# Input noise\n",
    "NoiseIN=0. # Amplitude\n",
    "TauNoise=2.0 # Cut-off frequency\n",
    "\n",
    "## Current-clamp experiment\n",
    "# Parameter vector for simulations\n",
    "p=[Iapp,I1,I2,ti1,tf1,ti2,tf2,gT,gKd,gH,gNa,gA,gKir,gLeak,gL,gKCa,C,NoiseIN,TauNoise,Ain,Win]\n",
    "\n",
    "# Initial conditions\n",
    "V0= -60.\n",
    "x0 = [V0,mNa_inf(V0),hNa_inf(V0),mH_inf(V0),mt_inf(V0),ht_inf(V0) ,mA_inf(V0), hA_inf(V0), mKd_inf(V0), mL_inf(V0), -10*gL*mL_inf(V0)*(V0-VCa), 0.0]"
   ]
  },
  {
   "cell_type": "code",
   "execution_count": 5,
   "metadata": {},
   "outputs": [
    {
     "name": "stderr",
     "output_type": "stream",
     "text": [
      "C:\\Users\\lenovo\\anaconda3\\lib\\site-packages\\ipykernel_launcher.py:2: DeprecationWarning: time.clock has been deprecated in Python 3.3 and will be removed from Python 3.8: use time.perf_counter or time.process_time instead\n",
      "  \n",
      "<ipython-input-2-3e07cfd35867>:1: NumbaWarning: \u001b[1m\n",
      "Compilation is falling back to object mode WITH looplifting enabled because Function \"HM_ODE\" failed type inference due to: \u001b[1mUntyped global name 'mKir_inf':\u001b[0m \u001b[1m\u001b[1mcannot determine Numba type of <class 'function'>\u001b[0m\n",
      "\u001b[1m\n",
      "File \"<ipython-input-2-3e07cfd35867>\", line 42:\u001b[0m\n",
      "\u001b[1mdef HM_ODE(t,u):\n",
      "    <source elided>\n",
      "                gKir*mKir_inf(V)*(V-VK) - gLeak*(V-Vleak)- gL*mL*(V-VCa) - gKCa*(Ca/(15.0+Ca))**4*(V-VK) +\n",
      "\u001b[1m                Iapp + I1*pulse(t,ti1,tf1) + I2*pulse(t,ti2,tf2) + noise + Ain*sin(2*pi*Win*t)) # Voltage equation\n",
      "\u001b[0m                \u001b[1m^\u001b[0m\u001b[0m\n",
      "\u001b[0m\u001b[0m\n",
      "  @jit\n",
      "C:\\Users\\lenovo\\anaconda3\\lib\\site-packages\\numba\\object_mode_passes.py:178: NumbaWarning: \u001b[1mFunction \"HM_ODE\" was compiled in object mode without forceobj=True.\n",
      "\u001b[1m\n",
      "File \"<ipython-input-2-3e07cfd35867>\", line 2:\u001b[0m\n",
      "\u001b[1m@jit\n",
      "\u001b[1mdef HM_ODE(t,u):\n",
      "\u001b[0m\u001b[1m^\u001b[0m\u001b[0m\n",
      "\u001b[0m\n",
      "  state.func_ir.loc))\n",
      "C:\\Users\\lenovo\\anaconda3\\lib\\site-packages\\numba\\object_mode_passes.py:188: NumbaDeprecationWarning: \u001b[1m\n",
      "Fall-back from the nopython compilation path to the object mode compilation path has been detected, this is deprecated behaviour.\n",
      "\n",
      "For more information visit http://numba.pydata.org/numba-doc/latest/reference/deprecation.html#deprecation-of-object-mode-fall-back-behaviour-when-using-jit\n",
      "\u001b[1m\n",
      "File \"<ipython-input-2-3e07cfd35867>\", line 2:\u001b[0m\n",
      "\u001b[1m@jit\n",
      "\u001b[1mdef HM_ODE(t,u):\n",
      "\u001b[0m\u001b[1m^\u001b[0m\u001b[0m\n",
      "\u001b[0m\n",
      "  state.func_ir.loc))\n",
      "C:\\Users\\lenovo\\anaconda3\\lib\\site-packages\\ipykernel_launcher.py:66: RuntimeWarning: overflow encountered in exp\n",
      "C:\\Users\\lenovo\\anaconda3\\lib\\site-packages\\ipykernel_launcher.py:101: RuntimeWarning: overflow encountered in exp\n",
      "C:\\Users\\lenovo\\anaconda3\\lib\\site-packages\\scipy\\integrate\\_ivp\\base.py:21: RuntimeWarning: divide by zero encountered in double_scalars\n",
      "  return np.asarray(fun(t, y), dtype=dtype)\n",
      "C:\\Users\\lenovo\\anaconda3\\lib\\site-packages\\ipykernel_launcher.py:74: RuntimeWarning: overflow encountered in exp\n",
      "C:\\Users\\lenovo\\anaconda3\\lib\\site-packages\\ipykernel_launcher.py:77: RuntimeWarning: overflow encountered in exp\n",
      "C:\\Users\\lenovo\\anaconda3\\lib\\site-packages\\ipykernel_launcher.py:51: RuntimeWarning: overflow encountered in exp\n",
      "C:\\Users\\lenovo\\anaconda3\\lib\\site-packages\\ipykernel_launcher.py:54: RuntimeWarning: overflow encountered in exp\n",
      "C:\\Users\\lenovo\\anaconda3\\lib\\site-packages\\ipykernel_launcher.py:8: RuntimeWarning: overflow encountered in exp\n",
      "  \n",
      "C:\\Users\\lenovo\\anaconda3\\lib\\site-packages\\ipykernel_launcher.py:11: RuntimeWarning: overflow encountered in exp\n",
      "  # This is added back by InteractiveShellApp.init_path()\n",
      "C:\\Users\\lenovo\\anaconda3\\lib\\site-packages\\ipykernel_launcher.py:20: RuntimeWarning: overflow encountered in exp\n",
      "C:\\Users\\lenovo\\anaconda3\\lib\\site-packages\\ipykernel_launcher.py:23: RuntimeWarning: overflow encountered in exp\n",
      "C:\\Users\\lenovo\\anaconda3\\lib\\site-packages\\ipykernel_launcher.py:26: RuntimeWarning: invalid value encountered in double_scalars\n",
      "C:\\Users\\lenovo\\anaconda3\\lib\\site-packages\\ipykernel_launcher.py:98: RuntimeWarning: overflow encountered in exp\n",
      "C:\\Users\\lenovo\\anaconda3\\lib\\site-packages\\ipykernel_launcher.py:104: RuntimeWarning: invalid value encountered in double_scalars\n",
      "C:\\Users\\lenovo\\anaconda3\\lib\\site-packages\\ipykernel_launcher.py:71: RuntimeWarning: overflow encountered in exp\n",
      "C:\\Users\\lenovo\\anaconda3\\lib\\site-packages\\ipykernel_launcher.py:48: RuntimeWarning: overflow encountered in exp\n",
      "C:\\Users\\lenovo\\anaconda3\\lib\\site-packages\\ipykernel_launcher.py:59: RuntimeWarning: overflow encountered in exp\n",
      "C:\\Users\\lenovo\\anaconda3\\lib\\site-packages\\ipykernel_launcher.py:33: RuntimeWarning: overflow encountered in exp\n",
      "C:\\Users\\lenovo\\anaconda3\\lib\\site-packages\\ipykernel_launcher.py:37: RuntimeWarning: overflow encountered in exp\n",
      "C:\\Users\\lenovo\\anaconda3\\lib\\site-packages\\ipykernel_launcher.py:90: RuntimeWarning: overflow encountered in exp\n",
      "C:\\Users\\lenovo\\anaconda3\\lib\\site-packages\\scipy\\integrate\\_ivp\\rk.py:110: RuntimeWarning: invalid value encountered in true_divide\n",
      "  return norm(self._estimate_error(K, h) / scale)\n",
      "C:\\Users\\lenovo\\anaconda3\\lib\\site-packages\\scipy\\integrate\\_ivp\\base.py:21: RuntimeWarning: overflow encountered in double_scalars\n",
      "  return np.asarray(fun(t, y), dtype=dtype)\n",
      "C:\\Users\\lenovo\\anaconda3\\lib\\site-packages\\scipy\\integrate\\_ivp\\base.py:21: RuntimeWarning: invalid value encountered in double_scalars\n",
      "  return np.asarray(fun(t, y), dtype=dtype)\n",
      "C:\\Users\\lenovo\\anaconda3\\lib\\site-packages\\ipykernel_launcher.py:93: RuntimeWarning: overflow encountered in double_scalars\n"
     ]
    },
    {
     "name": "stdout",
     "output_type": "stream",
     "text": [
      "Time elapsed:  51.805636899999996\n"
     ]
    },
    {
     "name": "stderr",
     "output_type": "stream",
     "text": [
      "C:\\Users\\lenovo\\anaconda3\\lib\\site-packages\\ipykernel_launcher.py:4: DeprecationWarning: time.clock has been deprecated in Python 3.3 and will be removed from Python 3.8: use time.perf_counter or time.process_time instead\n",
      "  after removing the cwd from sys.path.\n"
     ]
    }
   ],
   "source": [
    "import time\n",
    "t0= time.clock()\n",
    "sol=solve_ivp(HM_ODE ,tspan , x0)\n",
    "t1 = time.clock() - t0\n",
    "print(\"Time elapsed: \", t1)"
   ]
  },
  {
   "cell_type": "code",
   "execution_count": 6,
   "metadata": {},
   "outputs": [
    {
     "data": {
      "text/plain": [
       "[<matplotlib.lines.Line2D at 0x1d8222cfa88>]"
      ]
     },
     "execution_count": 6,
     "metadata": {},
     "output_type": "execute_result"
    },
    {
     "data": {
      "image/png": "[encoded data removed]",
      "text/plain": [
       "<Figure size 432x288 with 1 Axes>"
      ]
     },
     "metadata": {
      "needs_background": "light"
     },
     "output_type": "display_data"
    }
   ],
   "source": [
    "plt.plot(sol.t, sol.y[0])"
   ]
  },
  {
   "cell_type": "code",
   "execution_count": 15,
   "metadata": {},
   "outputs": [],
   "source": [
    "num_dinamics=12\n",
    "num_Theta=9\n",
    "num_phi=num_Theta\n",
    "num_p=num_Theta**2\n",
    "num_u_sys=12\n",
    "num_parameter=num_dinamics+num_Theta+num_phi+num_p+num_u_sys\n",
    "model_output=num_dinamics+num_Theta+num_phi+num_p+1\n",
    "variable_size=[num_dinamics,num_Theta,num_phi,num_p,num_u_sys]"
   ]
  },
  {
   "cell_type": "code",
   "execution_count": 43,
   "metadata": {},
   "outputs": [
    {
     "name": "stdout",
     "output_type": "stream",
     "text": [
      "[50.01973622 67.93540076 30.16422696 39.60481942 57.14206323  7.33952443\n",
      " 18.15709955 91.73803516 89.31598562]\n",
      "123\n",
      "9\n"
     ]
    }
   ],
   "source": [
    "#Test observer\n",
    "## Simulation of the model in current-clamp mode\n",
    "\n",
    "## Definition of reversal potential values. \n",
    "VNa = 45.; # Sodium reversal potential\n",
    "VCa = 120.; # Calcium reversal potential\n",
    "VK = -90.; # Potassium reversal potential\n",
    "VH= -43.; # Reversal potential for the H-current (permeable to both sodium and potassium ions)\n",
    "Vleak = -55.; # Reversal potential of leak channels\n",
    "\n",
    "## Definition of membrane capacitance and maximal conductance values. \n",
    "C=0.1; # Membrane capacitance\n",
    "gLeak=0.1; # Leak current maximal conductance\n",
    "gNa=120.; # Sodium current maximal conductance\n",
    "gKd=80.; # Delayed-rectifier potassium current maximal conductance\n",
    "gA=0.; # A-type potassium current maximal conductance\n",
    "gKir=0.; # Inward-rectifier potassium current maximal conductance\n",
    "gT=2.; # T-type calcium current maximal conductance\n",
    "gH=0.1; # H-current maximal conductance\n",
    "gL=0.4; # L-type calcium current maximal conductance\n",
    "gKCa=2.; # Calcium-activated potassium current maximal conductance\n",
    "\n",
    "## Definition of simulation time.\n",
    "Tfinal=6000.0\n",
    "tspan=[0.0,Tfinal]\n",
    "\n",
    "## Input current defition\n",
    "# Constant current\n",
    "Iapp=0\n",
    "\n",
    "# Current pulses\n",
    "I1=0# Amplitude of first pulse\n",
    "ti1=0 # Starting time of first pulse\n",
    "tf1=200 # Ending time of first pulse\n",
    "I2=0 # Amplitude of second pulse\n",
    "ti2=200 # Starting time of second pulse\n",
    "tf2=600 # Ending time of first pulse\n",
    "\n",
    "# Sinusoidal input\n",
    "Ain=2.5# Amplitude\n",
    "Win=0.5 # Frequency\n",
    "\n",
    "#Hyperparameters\n",
    "gamma=10\n",
    "variable_mask=np.array([1,1,1,1,1,1,1,1,1])\n",
    "mask=np.array([1,1,1,1,1,1,1,1,1]) #freeze variable by setting 0 in the mask\n",
    "gamma_mask=mask*gamma\n",
    "variable_alpha=np.array([1,1,1,1,1,1,1,1,1])\n",
    "alpha=0.005\n",
    "#alpha[0,0]=0.1\n",
    "\n",
    "# Input noise\n",
    "NoiseIN=0. # Amplitude\n",
    "TauNoise=2.0 # Cut-off frequency\n",
    "\n",
    "## Current-clamp experiment\n",
    "# Parameter vector for simulations\n",
    "p=[Iapp,I1,I2,ti1,tf1,ti2,tf2,gT,gKd,gH,gNa,gA,gKir,gLeak,gL,gKCa,C,NoiseIN,TauNoise,Ain,Win]\n",
    "\n",
    "# Initial conditions\n",
    "V0= -70.\n",
    "x0 = [V0,mNa_inf(V0),hNa_inf(V0),mH_inf(V0),mt_inf(V0),ht_inf(V0) ,mA_inf(V0), hA_inf(V0), mKd_inf(V0), mL_inf(V0), -10*gL*mL_inf(V0)*(V0-VCa), 0.0]\n",
    "\n",
    "\"\"\"\n",
    "du2=1/tau_mNa(V)*(-mNa+mNa_inf(V)) \n",
    "    du3=1/tau_hNa(V)*(-hNa+hNa_inf(V))\n",
    "    du4=1/tau_mH(V)*(-mH+mH_inf(V))\n",
    "    du5=1/tau_mt(V)*(-mt+mt_inf(V))\n",
    "    du6=1/tau_ht(V)*(-ht+ht_inf(V))\n",
    "    du7=1/tau_mA(V)*(-mA+mA_inf(V))\n",
    "    du8=1/tau_hA(V)*(-hA+hA_inf(V))\n",
    "    du9=1/tau_mKd(V)*(-mKd+mKd_inf(V))\n",
    "    du10=1/tau_mL(V)*(-mL+mL_inf(V))\n",
    "    du11=(-0.1*(gL*mL*(V-VCa))-0.01*Ca)/4 \n",
    "\"\"\"\n",
    "'''[ 'Na','H','t','A','K','Kir','leak','L','KCa']\n",
    "    120,0.1,2,0,80,0,0.1,0.4,2\n",
    "[1.20078309e+02 9.99935030e-02 2.00543802e+00 3.67723634e-06\n",
    " 8.01004533e+01 0.00000000e+00 1.00000000e-01 3.99355255e-01\n",
    " 2.00000000e+00]\n",
    " [1.19244440e+02 1.07155203e-01 1.97335159e+00 9.41065469e-04\n",
    " 7.94144652e+01 0.00000000e+00 9.92878415e-02 4.02652110e-01\n",
    " 2.00000000e+00]\n",
    " [ 1.19013827e+02  1.08252336e-01  1.97016712e+00 -1.99602367e-03\n",
    "  7.92679611e+01  6.14319636e-03  9.91735126e-02  4.02071713e-01\n",
    "  2.00000000e+00]\n",
    "  random result:without kca\n",
    "  [ 1.17175982e+02  1.04500391e-01  1.92046277e+00 -5.58087699e-03\n",
    "  7.79309064e+01  1.20699524e-02  9.95532125e-02  4.04948400e-01\n",
    "  2.00000000e+00]\n",
    "  random result:\n",
    "  [ 1.19999126e+02  1.00004794e-01  1.99996145e+00 -2.65651809e-07\n",
    "  7.99992936e+01 -3.46322090e-07  9.99991554e-02  4.00004375e-01\n",
    "  2.00000076e+00]\n",
    "  [ 1.19999422e+02  1.00005059e-01  1.99997393e+00 -2.91592737e-07\n",
    "  7.99995340e+01 -5.14970360e-07  9.99991061e-02  4.00003699e-01\n",
    "  2.00000085e+00]\n",
    " \n",
    "'''\n",
    "#Theta0=(np.array([50,0,0,0,70,0,0.1,0,0])).tolist()\n",
    "Theta0= np.random.rand(9)*100\n",
    "#Theta0[7]=0.4\n",
    "print(Theta0)\n",
    "A0=(np.ones(num_Theta)*0.1).tolist()*variable_mask\n",
    "P0=np.diag(np.diag(np.outer(A0,A0))).flatten().tolist()\n",
    "V0= - np.random.rand(1)*100\n",
    "x0_ = [V0,mNa_inf(V0),hNa_inf(V0),mH_inf(V0),mt_inf(V0),ht_inf(V0) ,mA_inf(V0), hA_inf(V0), mKd_inf(V0), mL_inf(V0), -10*gL*mL_inf(V0)*(V0-VCa), 0.0]\n",
    "#P0[-1]=0\n",
    "X0_=[*x0_,*Theta0,*A0,*P0,*x0]\n",
    "print(len(X0_))\n",
    "print(len(Theta0))"
   ]
  },
  {
   "cell_type": "code",
   "execution_count": 44,
   "metadata": {},
   "outputs": [
    {
     "name": "stdout",
     "output_type": "stream",
     "text": [
      "[12, 9, 9, 81, 12]\n"
     ]
    }
   ],
   "source": [
    "print(variable_size)"
   ]
  },
  {
   "cell_type": "code",
   "execution_count": 45,
   "metadata": {},
   "outputs": [
    {
     "name": "stderr",
     "output_type": "stream",
     "text": [
      "C:\\Users\\lenovo\\anaconda3\\lib\\site-packages\\ipykernel_launcher.py:66: RuntimeWarning: overflow encountered in exp\n",
      "C:\\Users\\lenovo\\anaconda3\\lib\\site-packages\\ipykernel_launcher.py:101: RuntimeWarning: overflow encountered in exp\n",
      "C:\\Users\\lenovo\\anaconda3\\lib\\site-packages\\ipykernel_launcher.py:81: RuntimeWarning: divide by zero encountered in double_scalars\n",
      "C:\\Users\\lenovo\\anaconda3\\lib\\site-packages\\ipykernel_launcher.py:77: RuntimeWarning: overflow encountered in exp\n",
      "C:\\Users\\lenovo\\anaconda3\\lib\\site-packages\\ipykernel_launcher.py:54: RuntimeWarning: overflow encountered in exp\n",
      "C:\\Users\\lenovo\\anaconda3\\lib\\site-packages\\ipykernel_launcher.py:81: RuntimeWarning: overflow encountered in double_scalars\n",
      "C:\\Users\\lenovo\\anaconda3\\lib\\site-packages\\ipykernel_launcher.py:8: RuntimeWarning: overflow encountered in exp\n",
      "  \n",
      "C:\\Users\\lenovo\\anaconda3\\lib\\site-packages\\ipykernel_launcher.py:11: RuntimeWarning: overflow encountered in exp\n",
      "  # This is added back by InteractiveShellApp.init_path()\n",
      "C:\\Users\\lenovo\\anaconda3\\lib\\site-packages\\ipykernel_launcher.py:20: RuntimeWarning: overflow encountered in exp\n",
      "C:\\Users\\lenovo\\anaconda3\\lib\\site-packages\\ipykernel_launcher.py:23: RuntimeWarning: overflow encountered in exp\n",
      "C:\\Users\\lenovo\\anaconda3\\lib\\site-packages\\ipykernel_launcher.py:26: RuntimeWarning: invalid value encountered in double_scalars\n",
      "C:\\Users\\lenovo\\anaconda3\\lib\\site-packages\\ipykernel_launcher.py:98: RuntimeWarning: overflow encountered in exp\n",
      "C:\\Users\\lenovo\\anaconda3\\lib\\site-packages\\ipykernel_launcher.py:104: RuntimeWarning: invalid value encountered in double_scalars\n",
      "C:\\Users\\lenovo\\anaconda3\\lib\\site-packages\\ipykernel_launcher.py:74: RuntimeWarning: overflow encountered in exp\n",
      "C:\\Users\\lenovo\\anaconda3\\lib\\site-packages\\ipykernel_launcher.py:71: RuntimeWarning: overflow encountered in exp\n",
      "C:\\Users\\lenovo\\anaconda3\\lib\\site-packages\\ipykernel_launcher.py:51: RuntimeWarning: overflow encountered in exp\n",
      "C:\\Users\\lenovo\\anaconda3\\lib\\site-packages\\ipykernel_launcher.py:48: RuntimeWarning: overflow encountered in exp\n",
      "C:\\Users\\lenovo\\anaconda3\\lib\\site-packages\\ipykernel_launcher.py:59: RuntimeWarning: overflow encountered in exp\n",
      "C:\\Users\\lenovo\\anaconda3\\lib\\site-packages\\ipykernel_launcher.py:33: RuntimeWarning: overflow encountered in exp\n",
      "C:\\Users\\lenovo\\anaconda3\\lib\\site-packages\\ipykernel_launcher.py:37: RuntimeWarning: overflow encountered in exp\n",
      "C:\\Users\\lenovo\\anaconda3\\lib\\site-packages\\ipykernel_launcher.py:90: RuntimeWarning: overflow encountered in exp\n",
      "C:\\Users\\lenovo\\anaconda3\\lib\\site-packages\\scipy\\integrate\\_ivp\\rk.py:110: RuntimeWarning: overflow encountered in true_divide\n",
      "  return norm(self._estimate_error(K, h) / scale)\n"
     ]
    }
   ],
   "source": [
    "sol=solve_ivp(OB_ODE2,tspan , X0_)"
   ]
  },
  {
   "cell_type": "code",
   "execution_count": 46,
   "metadata": {},
   "outputs": [
    {
     "data": {
      "image/png": "[encoded data removed]",
      "text/plain": [
       "<Figure size 432x288 with 1 Axes>"
      ]
     },
     "metadata": {
      "needs_background": "light"
     },
     "output_type": "display_data"
    }
   ],
   "source": [
    "#plot result\n",
    "fig=plt.figure()\n",
    "plt.plot(sol.t[1000:30000],sol.y[0][1000:30000],label='observer output')\n",
    "plt.plot(sol.t[1000:30000],sol.y[111][1000:30000],label= 'neuron output')\n",
    "plt.legend()\n",
    "plt.ylabel('voltage')\n",
    "plt.xlabel('time')\n",
    "fig.savefig('single_redundant_neuron_bursting.jpg')"
   ]
  },
  {
   "cell_type": "code",
   "execution_count": 47,
   "metadata": {},
   "outputs": [
    {
     "data": {
      "image/png": "[encoded data removed]",
      "text/plain": [
       "<Figure size 432x288 with 1 Axes>"
      ]
     },
     "metadata": {
      "needs_background": "light"
     },
     "output_type": "display_data"
    }
   ],
   "source": [
    "fig=plt.figure()\n",
    "plt.plot(sol.t[1000:30000],sol.y[111][1000:30000],label= 'neuron output')\n",
    "plt.legend()\n",
    "plt.ylabel('voltage')\n",
    "plt.xlabel('time')\n",
    "fig.savefig('single_neuron_bursting.jpg')"
   ]
  },
  {
   "cell_type": "code",
   "execution_count": 48,
   "metadata": {},
   "outputs": [
    {
     "name": "stderr",
     "output_type": "stream",
     "text": [
      "C:\\Users\\lenovo\\anaconda3\\lib\\site-packages\\ipykernel_launcher.py:9: UserWarning: Creating legend with loc=\"best\" can be slow with large amounts of data.\n",
      "  if __name__ == '__main__':\n",
      "C:\\Users\\lenovo\\anaconda3\\lib\\site-packages\\IPython\\core\\pylabtools.py:132: UserWarning: Creating legend with loc=\"best\" can be slow with large amounts of data.\n",
      "  fig.canvas.print_figure(bytes_io, **kw)\n"
     ]
    },
    {
     "data": {
      "image/png": "[encoded data removed]",
      "text/plain": [
       "<Figure size 432x288 with 1 Axes>"
      ]
     },
     "metadata": {
      "needs_background": "light"
     },
     "output_type": "display_data"
    },
    {
     "name": "stdout",
     "output_type": "stream",
     "text": [
      "[120.54505348557247 0.1020016703154796 2.008573776075665\n",
      " -0.00422069338986486 80.3568917532826 0.06623457663535114\n",
      " 0.10094835214750744 0.4017358181156302 2.008137656135146]\n"
     ]
    }
   ],
   "source": [
    "#plot parameters\n",
    "fig=plt.figure()\n",
    "labels=[ 'Na','H','t','A','K','Kir','leak','L','KCa']\n",
    "for i in range(num_Theta):\n",
    "    plt.plot(sol.t,sol.y[12+i],label=labels[i])\n",
    "plt.legend()\n",
    "plt.ylabel('parameter value')\n",
    "plt.xlabel('time')\n",
    "fig.savefig('single_redundant_neuron_bursting_parameter.jpg')\n",
    "plt.show()\n",
    "print(sol.y[12:12+num_Theta,-1])"
   ]
  },
  {
   "cell_type": "code",
   "execution_count": 30,
   "metadata": {},
   "outputs": [
    {
     "data": {
      "image/png": "[encoded data removed]",
      "text/plain": [
       "<Figure size 432x288 with 1 Axes>"
      ]
     },
     "metadata": {
      "needs_background": "light"
     },
     "output_type": "display_data"
    }
   ],
   "source": [
    "plt.figure()\n",
    "for i in range(30):\n",
    "    plt.plot(sol.t,sol.y[29+i])\n",
    "plt.show()"
   ]
  },
  {
   "cell_type": "code",
   "execution_count": 31,
   "metadata": {},
   "outputs": [
    {
     "data": {
      "text/plain": [
       "[<matplotlib.lines.Line2D at 0x218662ede48>]"
      ]
     },
     "execution_count": 31,
     "metadata": {},
     "output_type": "execute_result"
    },
    {
     "data": {
      "image/png": "[encoded data removed]",
      "text/plain": [
       "<Figure size 432x288 with 1 Axes>"
      ]
     },
     "metadata": {
      "needs_background": "light"
     },
     "output_type": "display_data"
    }
   ],
   "source": [
    "plt.plot(sol.t,sol.y[22])"
   ]
  },
  {
   "cell_type": "code",
   "execution_count": 248,
   "metadata": {},
   "outputs": [
    {
     "name": "stdout",
     "output_type": "stream",
     "text": [
      "[50.0, 0.0, 0.0, 0.0, 70.0, 0.0, 0.1, 0.0, 0.0]\n",
      "123\n",
      "9\n"
     ]
    }
   ],
   "source": [
    "#Test observer\n",
    "## Simulation of the model in current-clamp mode\n",
    "\n",
    "## Definition of reversal potential values. \n",
    "VNa = 45.; # Sodium reversal potential\n",
    "VCa = 120.; # Calcium reversal potential\n",
    "VK = -90.; # Potassium reversal potential\n",
    "VH= -43.; # Reversal potential for the H-current (permeable to both sodium and potassium ions)\n",
    "Vleak = -55.; # Reversal potential of leak channels\n",
    "\n",
    "## Definition of membrane capacitance and maximal conductance values. \n",
    "C=0.1; # Membrane capacitance\n",
    "gLeak=0.1; # Leak current maximal conductance\n",
    "\n",
    "gNa=120.; # Sodium current maximal conductance 120\n",
    "gKd=30; # Delayed-rectifier potassium current maximal conductance 80\n",
    "gT=0; # T-type calcium current maximal conductance 2.\n",
    "gH=0; # H-current maximal conductance 0.1\n",
    "gL=0; # L-type calcium current maximal conductance 0.4\n",
    "gKCa=0; # Calcium-activated potassium current maximal conductance 2.\n",
    "gA=0.; # A-type potassium current maximal conductance\n",
    "gKir=0.; # Inward-rectifier potassium current maximal conductance\n",
    "\n",
    "## Definition of simulation time.\n",
    "Tfinal=1000.0\n",
    "tspan=[0.0,Tfinal]\n",
    "\n",
    "## Input current defition\n",
    "# Constant current\n",
    "Iapp=0\n",
    "\n",
    "# Current pulses\n",
    "I1=2.5# Amplitude of first pulse\n",
    "ti1=0 # Starting time of first pulse\n",
    "tf1=200 # Ending time of first pulse\n",
    "I2=-2.5 # Amplitude of second pulse\n",
    "ti2=200 # Starting time of second pulse\n",
    "tf2=600 # Ending time of first pulse\n",
    "\n",
    "# Sinusoidal input\n",
    "Ain=0# Amplitude\n",
    "Win=0.5 # Frequency\n",
    "\n",
    "#Hyperparameters\n",
    "gamma=10\n",
    "variable_mask=np.array([1,0,0,0,1,0,0,0,0])\n",
    "mask=np.array([1,0,0,0,1,0,0,0,0]) #freeze variable by setting 0 in the mask\n",
    "gamma_mask=mask*gamma\n",
    "variable_alpha=np.array([0.2,0,0,0,0.1,0,0,0,0])\n",
    "alpha=np.outer(variable_alpha,variable_alpha)\n",
    "\n",
    "# Input noise\n",
    "NoiseIN=0. # Amplitude\n",
    "TauNoise=2.0 # Cut-off frequency\n",
    "\n",
    "## Current-clamp experiment\n",
    "# Parameter vector for simulations\n",
    "p=[Iapp,I1,I2,ti1,tf1,ti2,tf2,gT,gKd,gH,gNa,gA,gKir,gLeak,gL,gKCa,C,NoiseIN,TauNoise,Ain,Win]\n",
    "\n",
    "# Initial conditions\n",
    "V0= -70.\n",
    "x0 = [V0,mNa_inf(V0),hNa_inf(V0),mH_inf(V0),mt_inf(V0),ht_inf(V0) ,mA_inf(V0), hA_inf(V0), mKd_inf(V0), mL_inf(V0), -10*gL*mL_inf(V0)*(V0-VCa), 0.0]\n",
    "\n",
    "\"\"\"\n",
    "du2=1/tau_mNa(V)*(-mNa+mNa_inf(V)) \n",
    "    du3=1/tau_hNa(V)*(-hNa+hNa_inf(V))\n",
    "    du4=1/tau_mH(V)*(-mH+mH_inf(V))\n",
    "    du5=1/tau_mt(V)*(-mt+mt_inf(V))\n",
    "    du6=1/tau_ht(V)*(-ht+ht_inf(V))\n",
    "    du7=1/tau_mA(V)*(-mA+mA_inf(V))\n",
    "    du8=1/tau_hA(V)*(-hA+hA_inf(V))\n",
    "    du9=1/tau_mKd(V)*(-mKd+mKd_inf(V))\n",
    "    du10=1/tau_mL(V)*(-mL+mL_inf(V))\n",
    "    du11=(-0.1*(gL*mL*(V-VCa))-0.01*Ca)/4 \n",
    "\"\"\"\n",
    "'''[ 'Na','H','t','A','K','Kir','leak','L','KCa']\n",
    "    120,0.1,2,0,80,0,0.1,0.4,2\n",
    "[1.20078309e+02 9.99935030e-02 2.00543802e+00 3.67723634e-06\n",
    " 8.01004533e+01 0.00000000e+00 1.00000000e-01 3.99355255e-01\n",
    " 2.00000000e+00]\n",
    " [1.19244440e+02 1.07155203e-01 1.97335159e+00 9.41065469e-04\n",
    " 7.94144652e+01 0.00000000e+00 9.92878415e-02 4.02652110e-01\n",
    " 2.00000000e+00]\n",
    " [ 1.19013827e+02  1.08252336e-01  1.97016712e+00 -1.99602367e-03\n",
    "  7.92679611e+01  6.14319636e-03  9.91735126e-02  4.02071713e-01\n",
    "  2.00000000e+00]\n",
    "  random result:without kca\n",
    "  [ 1.17175982e+02  1.04500391e-01  1.92046277e+00 -5.58087699e-03\n",
    "  7.79309064e+01  1.20699524e-02  9.95532125e-02  4.04948400e-01\n",
    "  2.00000000e+00]\n",
    "  random result:\n",
    "  [ 1.19999126e+02  1.00004794e-01  1.99996145e+00 -2.65651809e-07\n",
    "  7.99992936e+01 -3.46322090e-07  9.99991554e-02  4.00004375e-01\n",
    "  2.00000076e+00]\n",
    "  [ 1.19999422e+02  1.00005059e-01  1.99997393e+00 -2.91592737e-07\n",
    "  7.99995340e+01 -5.14970360e-07  9.99991061e-02  4.00003699e-01\n",
    "  2.00000085e+00]\n",
    " \n",
    "'''\n",
    "Theta0=(np.array([50,0,0,0,70,0,0.1,0,0])).tolist()\n",
    "#Theta0= np.random.rand(9)*100\n",
    "#Theta0[7]=0.4\n",
    "print(Theta0)\n",
    "A0=(np.ones(num_Theta)*0.1).tolist()*variable_mask\n",
    "P0=np.diag(np.diag(np.outer(A0,A0))).flatten().tolist()\n",
    "#P0[-1]=0\n",
    "X0_=[*x0,*Theta0,*A0,*P0,*x0]\n",
    "print(len(X0_))\n",
    "print(len(Theta0))"
   ]
  },
  {
   "cell_type": "code",
   "execution_count": 249,
   "metadata": {},
   "outputs": [
    {
     "name": "stderr",
     "output_type": "stream",
     "text": [
      "C:\\Users\\lenovo\\anaconda3\\lib\\site-packages\\ipykernel_launcher.py:66: RuntimeWarning: overflow encountered in exp\n",
      "C:\\Users\\lenovo\\anaconda3\\lib\\site-packages\\ipykernel_launcher.py:101: RuntimeWarning: overflow encountered in exp\n",
      "C:\\Users\\lenovo\\anaconda3\\lib\\site-packages\\ipykernel_launcher.py:81: RuntimeWarning: divide by zero encountered in double_scalars\n",
      "C:\\Users\\lenovo\\anaconda3\\lib\\site-packages\\ipykernel_launcher.py:74: RuntimeWarning: overflow encountered in exp\n",
      "C:\\Users\\lenovo\\anaconda3\\lib\\site-packages\\ipykernel_launcher.py:77: RuntimeWarning: overflow encountered in exp\n",
      "C:\\Users\\lenovo\\anaconda3\\lib\\site-packages\\ipykernel_launcher.py:51: RuntimeWarning: overflow encountered in exp\n",
      "C:\\Users\\lenovo\\anaconda3\\lib\\site-packages\\ipykernel_launcher.py:54: RuntimeWarning: overflow encountered in exp\n",
      "C:\\Users\\lenovo\\anaconda3\\lib\\site-packages\\ipykernel_launcher.py:81: RuntimeWarning: overflow encountered in double_scalars\n",
      "C:\\Users\\lenovo\\anaconda3\\lib\\site-packages\\ipykernel_launcher.py:8: RuntimeWarning: overflow encountered in exp\n",
      "  \n",
      "C:\\Users\\lenovo\\anaconda3\\lib\\site-packages\\ipykernel_launcher.py:11: RuntimeWarning: overflow encountered in exp\n",
      "  # This is added back by InteractiveShellApp.init_path()\n",
      "C:\\Users\\lenovo\\anaconda3\\lib\\site-packages\\ipykernel_launcher.py:20: RuntimeWarning: overflow encountered in exp\n",
      "C:\\Users\\lenovo\\anaconda3\\lib\\site-packages\\ipykernel_launcher.py:23: RuntimeWarning: overflow encountered in exp\n",
      "C:\\Users\\lenovo\\anaconda3\\lib\\site-packages\\ipykernel_launcher.py:26: RuntimeWarning: invalid value encountered in double_scalars\n",
      "C:\\Users\\lenovo\\anaconda3\\lib\\site-packages\\ipykernel_launcher.py:98: RuntimeWarning: overflow encountered in exp\n",
      "C:\\Users\\lenovo\\anaconda3\\lib\\site-packages\\ipykernel_launcher.py:104: RuntimeWarning: invalid value encountered in double_scalars\n",
      "C:\\Users\\lenovo\\anaconda3\\lib\\site-packages\\ipykernel_launcher.py:71: RuntimeWarning: overflow encountered in exp\n",
      "C:\\Users\\lenovo\\anaconda3\\lib\\site-packages\\ipykernel_launcher.py:48: RuntimeWarning: overflow encountered in exp\n",
      "C:\\Users\\lenovo\\anaconda3\\lib\\site-packages\\ipykernel_launcher.py:59: RuntimeWarning: overflow encountered in exp\n",
      "C:\\Users\\lenovo\\anaconda3\\lib\\site-packages\\ipykernel_launcher.py:33: RuntimeWarning: overflow encountered in exp\n",
      "C:\\Users\\lenovo\\anaconda3\\lib\\site-packages\\ipykernel_launcher.py:37: RuntimeWarning: overflow encountered in exp\n",
      "C:\\Users\\lenovo\\anaconda3\\lib\\site-packages\\ipykernel_launcher.py:90: RuntimeWarning: overflow encountered in exp\n",
      "C:\\Users\\lenovo\\anaconda3\\lib\\site-packages\\ipykernel_launcher.py:81: RuntimeWarning: invalid value encountered in multiply\n",
      "C:\\Users\\lenovo\\anaconda3\\lib\\site-packages\\scipy\\integrate\\_ivp\\rk.py:110: RuntimeWarning: overflow encountered in true_divide\n",
      "  return norm(self._estimate_error(K, h) / scale)\n",
      "C:\\Users\\lenovo\\anaconda3\\lib\\site-packages\\ipykernel_launcher.py:81: RuntimeWarning: invalid value encountered in double_scalars\n",
      "C:\\Users\\lenovo\\anaconda3\\lib\\site-packages\\numpy\\core\\numeric.py:906: RuntimeWarning: overflow encountered in multiply\n",
      "  return multiply(a.ravel()[:, newaxis], b.ravel()[newaxis, :], out)\n"
     ]
    }
   ],
   "source": [
    "sol=solve_ivp(OB_ODE2,tspan , X0_)"
   ]
  },
  {
   "cell_type": "code",
   "execution_count": 250,
   "metadata": {},
   "outputs": [
    {
     "data": {
      "text/plain": [
       "[<matplotlib.lines.Line2D at 0x260e3122cc8>]"
      ]
     },
     "execution_count": 250,
     "metadata": {},
     "output_type": "execute_result"
    },
    {
     "data": {
      "image/png": "[encoded data removed]",
      "text/plain": [
       "<Figure size 432x288 with 1 Axes>"
      ]
     },
     "metadata": {
      "needs_background": "light"
     },
     "output_type": "display_data"
    }
   ],
   "source": [
    "#plot result\n",
    "plt.plot(sol.t,sol.y[0])\n",
    "plt.plot(sol.t,sol.y[111])"
   ]
  },
  {
   "cell_type": "code",
   "execution_count": 251,
   "metadata": {},
   "outputs": [
    {
     "data": {
      "image/png": "[encoded data removed]",
      "text/plain": [
       "<Figure size 432x288 with 1 Axes>"
      ]
     },
     "metadata": {
      "needs_background": "light"
     },
     "output_type": "display_data"
    },
    {
     "name": "stdout",
     "output_type": "stream",
     "text": [
      "[1.2e+02 0.0e+00 0.0e+00 0.0e+00 3.0e+01 0.0e+00 1.0e-01 0.0e+00 0.0e+00]\n"
     ]
    }
   ],
   "source": [
    "#plot parameters\n",
    "labels=[ 'Na','H','t','A','K','Kir','leak','L','KCa']\n",
    "plt.figure()\n",
    "for i in range(num_Theta):\n",
    "    plt.plot(sol.t,sol.y[12+i],label=labels[i])\n",
    "plt.legend()\n",
    "plt.show()\n",
    "print(sol.y[12:12+num_Theta,-1])"
   ]
  },
  {
   "cell_type": "code",
   "execution_count": 258,
   "metadata": {},
   "outputs": [
    {
     "name": "stdout",
     "output_type": "stream",
     "text": [
      "[50.0, 0.0, 0.0, 0.0, 70.0, 0.0, 0.1, 0.0, 0.0]\n",
      "123\n",
      "9\n"
     ]
    }
   ],
   "source": [
    "#Test observer\n",
    "## Simulation of the model in current-clamp mode\n",
    "\n",
    "## Definition of reversal potential values. \n",
    "VNa = 45.; # Sodium reversal potential\n",
    "VCa = 120.; # Calcium reversal potential\n",
    "VK = -90.; # Potassium reversal potential\n",
    "VH= -43.; # Reversal potential for the H-current (permeable to both sodium and potassium ions)\n",
    "Vleak = -55.; # Reversal potential of leak channels\n",
    "\n",
    "## Definition of membrane capacitance and maximal conductance values. \n",
    "C=0.1; # Membrane capacitance\n",
    "gLeak=0.1; # Leak current maximal conductance\n",
    "\n",
    "gNa=120.; # Sodium current maximal conductance 120\n",
    "gKd=30; # Delayed-rectifier potassium current maximal conductance 80\n",
    "gT=0; # T-type calcium current maximal conductance 2.\n",
    "gH=0; # H-current maximal conductance 0.1\n",
    "gL=0; # L-type calcium current maximal conductance 0.4\n",
    "gKCa=0; # Calcium-activated potassium current maximal conductance 2.\n",
    "gA=0.; # A-type potassium current maximal conductance\n",
    "gKir=0.; # Inward-rectifier potassium current maximal conductance\n",
    "\n",
    "## Definition of simulation time.\n",
    "Tfinal=1000.0\n",
    "tspan=[0.0,Tfinal]\n",
    "\n",
    "## Input current defition\n",
    "# Constant current\n",
    "Iapp=0\n",
    "\n",
    "# Current pulses\n",
    "I1=2.5# Amplitude of first pulse\n",
    "ti1=0 # Starting time of first pulse\n",
    "tf1=200 # Ending time of first pulse\n",
    "I2=-2.5 # Amplitude of second pulse\n",
    "ti2=200 # Starting time of second pulse\n",
    "tf2=600 # Ending time of first pulse\n",
    "\n",
    "# Sinusoidal input\n",
    "Ain=0# Amplitude\n",
    "Win=0.5 # Frequency\n",
    "\n",
    "#Hyperparameters\n",
    "gamma=10\n",
    "variable_mask=np.array([1,0,0,0,1,0,0,0,0])\n",
    "mask=np.array([1,0,0,0,1,0,0,0,0]) #freeze variable by setting 0 in the mask\n",
    "gamma_mask=mask*gamma\n",
    "variable_alpha=np.array([0.1,0,0,0,0.1,0,0,0,0])\n",
    "alpha=np.outer(variable_alpha,variable_alpha)\n",
    "\n",
    "# Input noise\n",
    "NoiseIN=0. # Amplitude\n",
    "TauNoise=2.0 # Cut-off frequency\n",
    "\n",
    "## Current-clamp experiment\n",
    "# Parameter vector for simulations\n",
    "p=[Iapp,I1,I2,ti1,tf1,ti2,tf2,gT,gKd,gH,gNa,gA,gKir,gLeak,gL,gKCa,C,NoiseIN,TauNoise,Ain,Win]\n",
    "\n",
    "# Initial conditions\n",
    "V0= -70.\n",
    "x0 = [V0,mNa_inf(V0),hNa_inf(V0),mH_inf(V0),mt_inf(V0),ht_inf(V0) ,mA_inf(V0), hA_inf(V0), mKd_inf(V0), mL_inf(V0), -10*gL*mL_inf(V0)*(V0-VCa), 0.0]\n",
    "\n",
    "\"\"\"\n",
    "du2=1/tau_mNa(V)*(-mNa+mNa_inf(V)) \n",
    "    du3=1/tau_hNa(V)*(-hNa+hNa_inf(V))\n",
    "    du4=1/tau_mH(V)*(-mH+mH_inf(V))\n",
    "    du5=1/tau_mt(V)*(-mt+mt_inf(V))\n",
    "    du6=1/tau_ht(V)*(-ht+ht_inf(V))\n",
    "    du7=1/tau_mA(V)*(-mA+mA_inf(V))\n",
    "    du8=1/tau_hA(V)*(-hA+hA_inf(V))\n",
    "    du9=1/tau_mKd(V)*(-mKd+mKd_inf(V))\n",
    "    du10=1/tau_mL(V)*(-mL+mL_inf(V))\n",
    "    du11=(-0.1*(gL*mL*(V-VCa))-0.01*Ca)/4 \n",
    "\"\"\"\n",
    "'''[ 'Na','H','t','A','K','Kir','leak','L','KCa']\n",
    "    120,0.1,2,0,80,0,0.1,0.4,2\n",
    "[1.20078309e+02 9.99935030e-02 2.00543802e+00 3.67723634e-06\n",
    " 8.01004533e+01 0.00000000e+00 1.00000000e-01 3.99355255e-01\n",
    " 2.00000000e+00]\n",
    " [1.19244440e+02 1.07155203e-01 1.97335159e+00 9.41065469e-04\n",
    " 7.94144652e+01 0.00000000e+00 9.92878415e-02 4.02652110e-01\n",
    " 2.00000000e+00]\n",
    " [ 1.19013827e+02  1.08252336e-01  1.97016712e+00 -1.99602367e-03\n",
    "  7.92679611e+01  6.14319636e-03  9.91735126e-02  4.02071713e-01\n",
    "  2.00000000e+00]\n",
    "  random result:without kca\n",
    "  [ 1.17175982e+02  1.04500391e-01  1.92046277e+00 -5.58087699e-03\n",
    "  7.79309064e+01  1.20699524e-02  9.95532125e-02  4.04948400e-01\n",
    "  2.00000000e+00]\n",
    "  random result:\n",
    "  [ 1.19999126e+02  1.00004794e-01  1.99996145e+00 -2.65651809e-07\n",
    "  7.99992936e+01 -3.46322090e-07  9.99991554e-02  4.00004375e-01\n",
    "  2.00000076e+00]\n",
    "  [ 1.19999422e+02  1.00005059e-01  1.99997393e+00 -2.91592737e-07\n",
    "  7.99995340e+01 -5.14970360e-07  9.99991061e-02  4.00003699e-01\n",
    "  2.00000085e+00]\n",
    " \n",
    "'''\n",
    "Theta0=(np.array([50,0,0,0,70,0,0.1,0,0])).tolist()\n",
    "#Theta0= np.random.rand(9)*100\n",
    "#Theta0[7]=0.4\n",
    "print(Theta0)\n",
    "A0=(np.ones(num_Theta)*0.1).tolist()*variable_mask\n",
    "P0=np.diag(np.diag(np.outer(A0,A0))).flatten().tolist()\n",
    "#P0[-1]=0\n",
    "X0_=[*x0,*Theta0,*A0,*P0,*x0]\n",
    "print(len(X0_))\n",
    "print(len(Theta0))"
   ]
  },
  {
   "cell_type": "code",
   "execution_count": 259,
   "metadata": {},
   "outputs": [
    {
     "name": "stderr",
     "output_type": "stream",
     "text": [
      "C:\\Users\\lenovo\\anaconda3\\lib\\site-packages\\ipykernel_launcher.py:66: RuntimeWarning: overflow encountered in exp\n",
      "C:\\Users\\lenovo\\anaconda3\\lib\\site-packages\\ipykernel_launcher.py:101: RuntimeWarning: overflow encountered in exp\n",
      "C:\\Users\\lenovo\\anaconda3\\lib\\site-packages\\ipykernel_launcher.py:81: RuntimeWarning: divide by zero encountered in double_scalars\n",
      "C:\\Users\\lenovo\\anaconda3\\lib\\site-packages\\ipykernel_launcher.py:74: RuntimeWarning: overflow encountered in exp\n",
      "C:\\Users\\lenovo\\anaconda3\\lib\\site-packages\\ipykernel_launcher.py:77: RuntimeWarning: overflow encountered in exp\n",
      "C:\\Users\\lenovo\\anaconda3\\lib\\site-packages\\ipykernel_launcher.py:51: RuntimeWarning: overflow encountered in exp\n",
      "C:\\Users\\lenovo\\anaconda3\\lib\\site-packages\\ipykernel_launcher.py:54: RuntimeWarning: overflow encountered in exp\n",
      "C:\\Users\\lenovo\\anaconda3\\lib\\site-packages\\ipykernel_launcher.py:81: RuntimeWarning: overflow encountered in double_scalars\n",
      "C:\\Users\\lenovo\\anaconda3\\lib\\site-packages\\ipykernel_launcher.py:8: RuntimeWarning: overflow encountered in exp\n",
      "  \n",
      "C:\\Users\\lenovo\\anaconda3\\lib\\site-packages\\ipykernel_launcher.py:11: RuntimeWarning: overflow encountered in exp\n",
      "  # This is added back by InteractiveShellApp.init_path()\n",
      "C:\\Users\\lenovo\\anaconda3\\lib\\site-packages\\ipykernel_launcher.py:20: RuntimeWarning: overflow encountered in exp\n",
      "C:\\Users\\lenovo\\anaconda3\\lib\\site-packages\\ipykernel_launcher.py:23: RuntimeWarning: overflow encountered in exp\n",
      "C:\\Users\\lenovo\\anaconda3\\lib\\site-packages\\ipykernel_launcher.py:26: RuntimeWarning: invalid value encountered in double_scalars\n",
      "C:\\Users\\lenovo\\anaconda3\\lib\\site-packages\\ipykernel_launcher.py:98: RuntimeWarning: overflow encountered in exp\n",
      "C:\\Users\\lenovo\\anaconda3\\lib\\site-packages\\ipykernel_launcher.py:104: RuntimeWarning: invalid value encountered in double_scalars\n",
      "C:\\Users\\lenovo\\anaconda3\\lib\\site-packages\\ipykernel_launcher.py:71: RuntimeWarning: overflow encountered in exp\n",
      "C:\\Users\\lenovo\\anaconda3\\lib\\site-packages\\ipykernel_launcher.py:48: RuntimeWarning: overflow encountered in exp\n",
      "C:\\Users\\lenovo\\anaconda3\\lib\\site-packages\\ipykernel_launcher.py:59: RuntimeWarning: overflow encountered in exp\n",
      "C:\\Users\\lenovo\\anaconda3\\lib\\site-packages\\ipykernel_launcher.py:33: RuntimeWarning: overflow encountered in exp\n",
      "C:\\Users\\lenovo\\anaconda3\\lib\\site-packages\\ipykernel_launcher.py:37: RuntimeWarning: overflow encountered in exp\n",
      "C:\\Users\\lenovo\\anaconda3\\lib\\site-packages\\ipykernel_launcher.py:90: RuntimeWarning: overflow encountered in exp\n",
      "C:\\Users\\lenovo\\anaconda3\\lib\\site-packages\\ipykernel_launcher.py:81: RuntimeWarning: invalid value encountered in multiply\n",
      "C:\\Users\\lenovo\\anaconda3\\lib\\site-packages\\scipy\\integrate\\_ivp\\rk.py:110: RuntimeWarning: overflow encountered in true_divide\n",
      "  return norm(self._estimate_error(K, h) / scale)\n"
     ]
    }
   ],
   "source": [
    "sol=solve_ivp(OB_ODE2,tspan , X0_)"
   ]
  },
  {
   "cell_type": "code",
   "execution_count": 260,
   "metadata": {},
   "outputs": [
    {
     "data": {
      "text/plain": [
       "[<matplotlib.lines.Line2D at 0x260e2f8c648>]"
      ]
     },
     "execution_count": 260,
     "metadata": {},
     "output_type": "execute_result"
    },
    {
     "data": {
      "image/png": "[encoded data removed]",
      "text/plain": [
       "<Figure size 432x288 with 1 Axes>"
      ]
     },
     "metadata": {
      "needs_background": "light"
     },
     "output_type": "display_data"
    }
   ],
   "source": [
    "#plot result\n",
    "plt.plot(sol.t,sol.y[0])\n",
    "plt.plot(sol.t,sol.y[111])"
   ]
  },
  {
   "cell_type": "code",
   "execution_count": 261,
   "metadata": {},
   "outputs": [
    {
     "data": {
      "image/png": "[encoded data removed]",
      "text/plain": [
       "<Figure size 432x288 with 1 Axes>"
      ]
     },
     "metadata": {
      "needs_background": "light"
     },
     "output_type": "display_data"
    },
    {
     "name": "stdout",
     "output_type": "stream",
     "text": [
      "[1.2e+02 0.0e+00 0.0e+00 0.0e+00 3.0e+01 0.0e+00 1.0e-01 0.0e+00 0.0e+00]\n"
     ]
    }
   ],
   "source": [
    "#plot parameters\n",
    "labels=[ 'Na','H','t','A','K','Kir','leak','L','KCa']\n",
    "plt.figure()\n",
    "for i in range(num_Theta):\n",
    "    plt.plot(sol.t,sol.y[12+i],label=labels[i])\n",
    "plt.legend()\n",
    "plt.show()\n",
    "print(sol.y[12:12+num_Theta,-1])"
   ]
  },
  {
   "cell_type": "code",
   "execution_count": 40,
   "metadata": {},
   "outputs": [],
   "source": [
    "#Test real model\n",
    "## Simulation of the model in current-clamp mode\n",
    "\n",
    "## Definition of reversal potential values. \n",
    "VNa = 45; # Sodium reversal potential 45\n",
    "VCa = 120.; # Calcium reversal potential\n",
    "VK = -90.; # Potassium reversal potential -90\n",
    "VH= -43.; # Reversal potential for the H-current (permeable to both sodium and potassium ions) -43\n",
    "Vleak = -55.; # Reversal potential of leak channels\n",
    "\n",
    "## Definition of membrane capacitance and maximal conductance values. \n",
    "C=0.1; # Membrane capacitance\n",
    "\n",
    "\n",
    "'''[ 'Na','H','t','A','K','Kir','leak','L','KCa']'''\n",
    "\n",
    "'''[ 1.25128422e+02 -1.13945166e-01  9.71732068e-02  3.18964257e-02\n",
    "  8.38095276e+01 -3.26635388e+00  6.06809185e-02  4.00000000e-01\n",
    "  2.04578308e+00]'''\n",
    "\n",
    "gNa,gH,gT,gA,gKd,gKir,gLeak,gL,gKCa= [119.24612860804135, 0.09985499949599043, 1.9884439882057001,\n",
    " 0.005870119376420689, 79.5131999205488, -0.05374846682702915,\n",
    " 0.09838071998888964, 0.39782764837776863, 1.9852908522290464]\n",
    "#[65.2047134,  0., 0.,0.,16.3129626,  0, 0.1,0.,0.,]\n",
    "\n",
    "## Definition of simulation time.\n",
    "Tfinal=2000.0\n",
    "tspan=[0.0,Tfinal]\n",
    "\n",
    "## Input current defition\n",
    "# Constant current\n",
    "Iapp=2.5\n",
    "\n",
    "# Current pulses\n",
    "I1=0. # Amplitude of first pulse\n",
    "ti1=100 # Starting time of first pulse\n",
    "tf1=103 # Ending time of first pulse\n",
    "I2=0. # Amplitude of second pulse\n",
    "ti2=200 # Starting time of second pulse\n",
    "tf2=203 # Ending time of first pulse\n",
    "\n",
    "# Sinusoidal input\n",
    "Ain=0.0 # Amplitude\n",
    "Win=0.0 # Frequency\n",
    "\n",
    "# Input noise\n",
    "NoiseIN=0. # Amplitude\n",
    "TauNoise=2.0 # Cut-off frequency\n",
    "\n",
    "## Current-clamp experiment\n",
    "# Parameter vector for simulations\n",
    "p=[Iapp,I1,I2,ti1,tf1,ti2,tf2,gT,gKd,gH,gNa,gA,gKir,gLeak,gL,gKCa,C,NoiseIN,TauNoise,Ain,Win]\n",
    "\n",
    "# Initial conditions\n",
    "V0= -60.\n",
    "x0 = [V0,mNa_inf(V0),hNa_inf(V0),mH_inf(V0),mt_inf(V0),ht_inf(V0) ,mA_inf(V0), hA_inf(V0), mKd_inf(V0), mL_inf(V0), -10*gL*mL_inf(V0)*(V0-VCa), 0.0]"
   ]
  },
  {
   "cell_type": "code",
   "execution_count": 41,
   "metadata": {},
   "outputs": [
    {
     "name": "stderr",
     "output_type": "stream",
     "text": [
      "<ipython-input-12-3e07cfd35867>:1: NumbaWarning: \u001b[1m\n",
      "Compilation is falling back to object mode WITH looplifting enabled because Function \"HM_ODE\" failed type inference due to: \u001b[1mUntyped global name 'mKir_inf':\u001b[0m \u001b[1m\u001b[1mcannot determine Numba type of <class 'function'>\u001b[0m\n",
      "\u001b[1m\n",
      "File \"<ipython-input-12-3e07cfd35867>\", line 42:\u001b[0m\n",
      "\u001b[1mdef HM_ODE(t,u):\n",
      "    <source elided>\n",
      "                gKir*mKir_inf(V)*(V-VK) - gLeak*(V-Vleak)- gL*mL*(V-VCa) - gKCa*(Ca/(15.0+Ca))**4*(V-VK) +\n",
      "\u001b[1m                Iapp + I1*pulse(t,ti1,tf1) + I2*pulse(t,ti2,tf2) + noise + Ain*sin(2*pi*Win*t)) # Voltage equation\n",
      "\u001b[0m                \u001b[1m^\u001b[0m\u001b[0m\n",
      "\u001b[0m\u001b[0m\n",
      "  @jit\n",
      "C:\\Users\\lenovo\\anaconda3\\lib\\site-packages\\numba\\object_mode_passes.py:178: NumbaWarning: \u001b[1mFunction \"HM_ODE\" was compiled in object mode without forceobj=True.\n",
      "\u001b[1m\n",
      "File \"<ipython-input-12-3e07cfd35867>\", line 2:\u001b[0m\n",
      "\u001b[1m@jit\n",
      "\u001b[1mdef HM_ODE(t,u):\n",
      "\u001b[0m\u001b[1m^\u001b[0m\u001b[0m\n",
      "\u001b[0m\n",
      "  state.func_ir.loc))\n",
      "C:\\Users\\lenovo\\anaconda3\\lib\\site-packages\\numba\\object_mode_passes.py:188: NumbaDeprecationWarning: \u001b[1m\n",
      "Fall-back from the nopython compilation path to the object mode compilation path has been detected, this is deprecated behaviour.\n",
      "\n",
      "For more information visit http://numba.pydata.org/numba-doc/latest/reference/deprecation.html#deprecation-of-object-mode-fall-back-behaviour-when-using-jit\n",
      "\u001b[1m\n",
      "File \"<ipython-input-12-3e07cfd35867>\", line 2:\u001b[0m\n",
      "\u001b[1m@jit\n",
      "\u001b[1mdef HM_ODE(t,u):\n",
      "\u001b[0m\u001b[1m^\u001b[0m\u001b[0m\n",
      "\u001b[0m\n",
      "  state.func_ir.loc))\n",
      "C:\\Users\\lenovo\\anaconda3\\lib\\site-packages\\ipykernel_launcher.py:71: RuntimeWarning: overflow encountered in exp\n",
      "C:\\Users\\lenovo\\anaconda3\\lib\\site-packages\\ipykernel_launcher.py:90: RuntimeWarning: overflow encountered in exp\n",
      "C:\\Users\\lenovo\\anaconda3\\lib\\site-packages\\ipykernel_launcher.py:66: RuntimeWarning: overflow encountered in exp\n",
      "C:\\Users\\lenovo\\anaconda3\\lib\\site-packages\\ipykernel_launcher.py:101: RuntimeWarning: overflow encountered in exp\n",
      "C:\\Users\\lenovo\\anaconda3\\lib\\site-packages\\scipy\\integrate\\_ivp\\base.py:21: RuntimeWarning: divide by zero encountered in double_scalars\n",
      "  return np.asarray(fun(t, y), dtype=dtype)\n",
      "C:\\Users\\lenovo\\anaconda3\\lib\\site-packages\\ipykernel_launcher.py:77: RuntimeWarning: overflow encountered in exp\n",
      "C:\\Users\\lenovo\\anaconda3\\lib\\site-packages\\ipykernel_launcher.py:54: RuntimeWarning: overflow encountered in exp\n",
      "C:\\Users\\lenovo\\anaconda3\\lib\\site-packages\\ipykernel_launcher.py:8: RuntimeWarning: overflow encountered in exp\n",
      "  \n",
      "C:\\Users\\lenovo\\anaconda3\\lib\\site-packages\\ipykernel_launcher.py:11: RuntimeWarning: overflow encountered in exp\n",
      "  # This is added back by InteractiveShellApp.init_path()\n",
      "C:\\Users\\lenovo\\anaconda3\\lib\\site-packages\\ipykernel_launcher.py:20: RuntimeWarning: overflow encountered in exp\n",
      "C:\\Users\\lenovo\\anaconda3\\lib\\site-packages\\ipykernel_launcher.py:23: RuntimeWarning: overflow encountered in exp\n",
      "C:\\Users\\lenovo\\anaconda3\\lib\\site-packages\\ipykernel_launcher.py:26: RuntimeWarning: invalid value encountered in double_scalars\n",
      "C:\\Users\\lenovo\\anaconda3\\lib\\site-packages\\ipykernel_launcher.py:98: RuntimeWarning: overflow encountered in exp\n",
      "C:\\Users\\lenovo\\anaconda3\\lib\\site-packages\\ipykernel_launcher.py:104: RuntimeWarning: invalid value encountered in double_scalars\n",
      "C:\\Users\\lenovo\\anaconda3\\lib\\site-packages\\ipykernel_launcher.py:74: RuntimeWarning: overflow encountered in exp\n",
      "C:\\Users\\lenovo\\anaconda3\\lib\\site-packages\\ipykernel_launcher.py:51: RuntimeWarning: overflow encountered in exp\n",
      "C:\\Users\\lenovo\\anaconda3\\lib\\site-packages\\ipykernel_launcher.py:48: RuntimeWarning: overflow encountered in exp\n",
      "C:\\Users\\lenovo\\anaconda3\\lib\\site-packages\\ipykernel_launcher.py:59: RuntimeWarning: overflow encountered in exp\n",
      "C:\\Users\\lenovo\\anaconda3\\lib\\site-packages\\ipykernel_launcher.py:33: RuntimeWarning: overflow encountered in exp\n",
      "C:\\Users\\lenovo\\anaconda3\\lib\\site-packages\\ipykernel_launcher.py:37: RuntimeWarning: overflow encountered in exp\n"
     ]
    }
   ],
   "source": [
    "sol=solve_ivp(HM_ODE ,tspan , x0)"
   ]
  },
  {
   "cell_type": "code",
   "execution_count": 42,
   "metadata": {},
   "outputs": [
    {
     "data": {
      "text/plain": [
       "[<matplotlib.lines.Line2D at 0x1d83edbcf88>]"
      ]
     },
     "execution_count": 42,
     "metadata": {},
     "output_type": "execute_result"
    },
    {
     "data": {
      "image/png": "[encoded data removed]",
      "text/plain": [
       "<Figure size 432x288 with 1 Axes>"
      ]
     },
     "metadata": {
      "needs_background": "light"
     },
     "output_type": "display_data"
    }
   ],
   "source": [
    "plt.plot(sol.t, sol.y[0])"
   ]
  },
  {
   "cell_type": "code",
   "execution_count": null,
   "metadata": {},
   "outputs": [],
   "source": []
  }
 ],
 "metadata": {
  "kernelspec": {
   "display_name": "Python 3 (ipykernel)",
   "language": "python",
   "name": "python3"
  },
  "language_info": {
   "codemirror_mode": {
    "name": "ipython",
    "version": 3
   },
   "file_extension": ".py",
   "mimetype": "text/x-python",
   "name": "python",
   "nbconvert_exporter": "python",
   "pygments_lexer": "ipython3",
   "version": "3.9.7"
  }
 },
 "nbformat": 4,
 "nbformat_minor": 4
}

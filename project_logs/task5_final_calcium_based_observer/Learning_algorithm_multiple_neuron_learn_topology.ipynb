{
 "cells": [
  {
   "cell_type": "code",
   "execution_count": 78,
   "metadata": {},
   "outputs": [],
   "source": [
    "import numpy as np\n",
    "import matplotlib.pyplot as plt\n",
    "import time\n",
    "from numba import jit,njit\n",
    "from scipy.integrate import solve_ivp\n",
    "from numba.typed import List\n",
    "exp=np.exp\n",
    "\n",
    "@jit\n",
    "def alpha_m (V):\n",
    "    return -0.025*(V+40.)/( exp(-(V+40)/10) - 1.0 )\n",
    "@jit\n",
    "def beta_m(V):\n",
    "    return exp(-(V+65)/18)\n",
    "@jit\n",
    "def mNa_inf(V):\n",
    "    return alpha_m(V) / (alpha_m(V) + beta_m(V))\n",
    "@jit\n",
    "def tau_mNa(V):\n",
    "    return 1 / (alpha_m(V) + beta_m(V))/5\n",
    "@jit\n",
    "def alpha_h(V):\n",
    "    return 0.0175*exp(-(V+65)/20)\n",
    "@jit\n",
    "def beta_h(V):\n",
    "    return 0.25/(1.0 + exp(-(V+35)/10) )\n",
    "@jit\n",
    "def hNa_inf(V):\n",
    "    return alpha_h(V) / (alpha_h(V) + beta_h(V))\n",
    "@jit\n",
    "def tau_hNa (V):\n",
    "    return 1 / (alpha_h(V) + beta_h(V))/5\n",
    "Kdshift=10.0\n",
    "@jit\n",
    "def alpha_mKd(V):\n",
    "    return 0.0025*(V+55.)/(1. - exp(-(V+55.)/10.))\n",
    "\n",
    "@jit\n",
    "def beta_mKd(V):\n",
    "    return 0.03125*exp(-(V+65.)/80.)\n",
    "\n",
    "@jit\n",
    "def mKd_inf (V):\n",
    "    return alpha_mKd(V-Kdshift) / (alpha_mKd(V-Kdshift) + beta_mKd(V-Kdshift))\n",
    "@jit\n",
    "def tau_mKd (V):\n",
    "    return 1 / (alpha_mKd(V-Kdshift) + beta_mKd(V-Kdshift))/5 \n",
    "\n",
    "@jit\n",
    "def mA_inf (V):\n",
    "    return 1/(1+exp(-(V+90)/8.5))\n",
    "@jit\n",
    "def tau_mA (V):\n",
    "    return 0.37 + 1/(exp((V+35.82)/19.697)+exp((V+79.69)/-12.7))/5\n",
    "@jit\n",
    "def hA_inf (V):\n",
    "    return 1/(1+exp((V+78)/6))\n",
    "\n",
    "@jit\n",
    "def tau_hA(V): # Inactivation time-constant\n",
    "    if (V < -63):\n",
    "        tau_hA = 1/(exp((V+46.05)/5)+exp((V+238.4)/-37.45))\n",
    "    else:\n",
    "        tau_hA = 19\n",
    "    return tau_hA/5\n",
    "\n",
    "@jit\n",
    "def mKir_inf (V):\n",
    "    return 1/(1+exp((V+97.9+10)/9.7))\n",
    "\n",
    "# T-type Ca-current (mt=activation variable, ht=inactivation variable)\n",
    "@jit\n",
    "def mt_inf (V):\n",
    "    return 1/(1+exp(-(V+57)/6.2)) # Activation function\n",
    "@jit\n",
    "def tau_mt (V):\n",
    "    return 0.612 + 1/(exp(-(V+131.6)/16.7)+exp((V+16.8)/18.2)) # Activation time-constant\n",
    "@jit\n",
    "def ht_inf(V):\n",
    "    return 1/(1+exp((V+81)/4.03))# Inactivation function\n",
    "@jit\n",
    "def tau_ht(V): # Inactivation time-constant\n",
    "    if (V < -80):\n",
    "        tau_ht = exp((V+467)/66.6)\n",
    "    else:\n",
    "        tau_ht = (exp(-(V+21.88)/10.2)+28)\n",
    "    return tau_ht\n",
    "\n",
    "\n",
    "# L-type Ca-current (mL=activation variable)\n",
    "@jit\n",
    "def mL_inf (V):\n",
    "    return 1/(1+exp(-(V+55.)/3)) # Activation function\n",
    "@jit\n",
    "def tau_mL(V):\n",
    "    return (72*exp(-(V+45.)**2/400)+6.)# Activation time-constant\n",
    "\n",
    "# H-current (mH=activation variable)\n",
    "@jit\n",
    "def alpha_mH (V):\n",
    "    return exp(-14.59-(0.086*V))\n",
    "@jit\n",
    "def beta_mH (V):\n",
    "    return exp(-1.87+(0.0701*V))\n",
    "@jit\n",
    "def mH_inf (V):\n",
    "    return  alpha_mH(V) /(alpha_mH(V) + beta_mH(V)) # Activation function\n",
    "@jit \n",
    "def tau_mH (V):\n",
    "    return 1/(alpha_mH(V) + beta_mH(V)) # Activation time-constant\n",
    "@jit \n",
    "def heaviside (t):\n",
    "    return (1+np.sign(t))/2\n",
    "@jit \n",
    "def pulse (t,ti,tf):\n",
    "    return heaviside(t-ti)-heaviside(t-tf)\n",
    "\n",
    "sin=np.sin\n",
    "pi=np.pi\n",
    "\n",
    "@jit \n",
    "def Syn_sigm(V):\n",
    "    rSyn = -45;\n",
    "    kSyn = 2;\n",
    "    return 1/(1+exp(-(V-rSyn)/kSyn))\n",
    "@jit \n",
    "def Syn_inf(V,a,b):\n",
    "    return a*Syn_sigm(V)/(a*Syn_sigm(V)+b)\n",
    " \n",
    "@jit \n",
    "def max_abs(a,b):\n",
    "    if abs(a)>abs(b):\n",
    "        return a\n",
    "    else:\n",
    "        return b\n",
    "    \n",
    "\n"
   ]
  },
  {
   "cell_type": "code",
   "execution_count": 79,
   "metadata": {},
   "outputs": [],
   "source": [
    "@jit\n",
    "def HM_ODE_element(t,u,p,V_pre):\n",
    "    # Parameters\n",
    "    min_num=1e-60\n",
    "    Iapp=p[0] # Amplitude of constant applied current\n",
    "    I1=p[1] # Amplitude of first step input\n",
    "    I2=p[2] # Amplitude of second step input\n",
    "    ti1=p[3] # Starting time of first step input\n",
    "    tf1=p[4] # Ending time of first step input\n",
    "    ti2=p[5] # Starting time of second step input\n",
    "    tf2=p[6] # Ending time of second step input\n",
    "    gT=p[7] # T-type calcium current maximal conductance\n",
    "    gKd=p[8]  # Delayed-rectifier potassium current maximal conductance\n",
    "    gH=p[9] # H-current maximal conductance\n",
    "    gNa=p[10] # Sodium current maximal conductance\n",
    "    gA=p[11] # A-type potassium current maximal conductance\n",
    "    gKir=p[12]  # Inward-rectifier potassium current maximal conductance\n",
    "    gLeak=p[13] # Leak current maximal conductance\n",
    "    gL=p[14] # L-type calcium current maximal conductance\n",
    "    gKCa=p[15] # Calcium-activated potassium current maximal conductance\n",
    "    gSyn=p[16:20] #synaptic conductance\n",
    "    a=p[20]\n",
    "    b=p[21]\n",
    "    C=p[22] # Membrane capacitance\n",
    "    taunoise=p[24] # Cutoff frequency for low-pass filtered Gaussian noise\n",
    "    Ain=p[25] # Amplitude of sinusoïdal inut\n",
    "    Win=p[26] # Frequency of  sinusoïdal inut\n",
    "\n",
    "    # Variables\n",
    "    V=u[0] # Membrane potential\n",
    "    mNa=u[1] # Sodium current activation\n",
    "    hNa=u[2] # Sodium current inactivation\n",
    "    mH=u[3] # H current activation\n",
    "    mt=u[4] # T-type calcium current activation\n",
    "    ht=u[5] # T-type calcium current inactivation\n",
    "    mA=u[6] # A-type potassium current activation\n",
    "    hA=u[7] # A-type potassium current inactivation\n",
    "    mKd=u[8] # Delayed-rectifier potassium current activation\n",
    "    mL=u[9] # L-type calcium current activation\n",
    "    Ca=u[10] # Intracellular calcium concentration\n",
    "    mSyn = u[11:15] # synapse\n",
    "    noise=u[15] # Input noise\n",
    "    \n",
    "\n",
    "    # ODEs\n",
    "    du1=1/C*(- gNa*mNa**3*hNa*(V-VNa) - gH*mH*(V-VH) - gT*mt**2*ht*(V-VCa) - gA*mA**4*hA*(V-VK) - gKd*mKd**4*(V-VK) -\n",
    "                gKir*mKir_inf(V)*(V-VK) - gLeak*(V-Vleak)- gL*mL*(V-VCa) - gKCa*(Ca/(15.0+Ca))**4*(V-VK) -\n",
    "                gSyn[0]*mSyn[0]*(V-VSyn) - gSyn[1]*mSyn[1]*(V-VSyn) - gSyn[2]*mSyn[2]*(V-VSyn)-gSyn[3]*mSyn[3]*(V-VSyn)\n",
    "             + Iapp + I1*pulse(t,ti1,tf1) + I2*pulse(t,ti2,tf2) + noise + Ain*sin(2*pi*Win*t)) # Voltage equation\n",
    "    \n",
    "    du2=1/max_abs(tau_mNa(V),min_num)*(-mNa+mNa_inf(V)) # gating equation\n",
    "    du3=1/max_abs(tau_hNa(V),min_num)*(-hNa+hNa_inf(V))\n",
    "    du4=1/max_abs(tau_mH(V),min_num)*(-mH+mH_inf(V))\n",
    "    du5=1/max_abs(tau_mt(V),min_num)*(-mt+mt_inf(V))\n",
    "    du6=1/max_abs(tau_ht(V),min_num)*(-ht+ht_inf(V))\n",
    "    du7=1/max_abs(tau_mA(V),min_num)*(-mA+mA_inf(V))\n",
    "    du8=1/max_abs(tau_hA(V),min_num)*(-hA+hA_inf(V))\n",
    "    du9=1/max_abs(tau_mKd(V),min_num)*(-mKd+mKd_inf(V))\n",
    "    du10=1/max_abs(tau_mL(V),min_num)*(-mL+mL_inf(V))\n",
    "    du11=(-0.1*(gL*mL*(V-VCa))-0.01*Ca)/4 # Variation of intracellular calcium concentration\n",
    "    du12=a*Syn_sigm(V_pre[0])*(1-mSyn[0])-b*mSyn[0]\n",
    "    du13=a*Syn_sigm(V_pre[1])*(1-mSyn[1])-b*mSyn[1]\n",
    "    du14=a*Syn_sigm(V_pre[2])*(1-mSyn[2])-b*mSyn[2]\n",
    "    du15=a*Syn_sigm(V_pre[3])*(1-mSyn[3])-b*mSyn[3]\n",
    "    du16=-noise/taunoise # Noise equation\n",
    "    \n",
    "    return [du1,du2,du3,du4,du5,du6,du7,du8,du9,du10,du11,du12,du13,du14,du15,du16]"
   ]
  },
  {
   "cell_type": "code",
   "execution_count": 127,
   "metadata": {},
   "outputs": [],
   "source": [
    "\n",
    "def  OB_ODE_element(t,u,p,V_pre):\n",
    "    \n",
    "    min_num=1e-60\n",
    "    #it=iter(u)\n",
    "    #dinamics,Theta,phi,P,u_sys=[[next(it) for _ in range(size)] for size in variable_size]\n",
    "    \n",
    "    V,mNa,hNa,mH,mt,ht,mA,hA,mKd,mL,Ca,mSyn_1,mSyn_2,mSyn_3,mSyn_4,noise=u[0:pos_dinamics]\n",
    "    \n",
    "    mSyn=[mSyn_1,mSyn_2,mSyn_3,mSyn_4]\n",
    "    \n",
    "    u_sys=u[pos_p:pos_u_sys]\n",
    "    P=u[pos_phi:pos_p].reshape(num_phi,num_phi)\n",
    "    Theta=u[pos_dinamics:pos_Theta]\n",
    "    #print(Theta)\n",
    "    phi=u[pos_Theta:pos_phi]\n",
    "    \n",
    "    obesV=u_sys[0]\n",
    "    \n",
    "    \n",
    "    Iapp=p[0] # Amplitude of constant applied current\n",
    "    I1=p[1] # Amplitude of first step input\n",
    "    I2=p[2] # Amplitude of second step input\n",
    "    ti1=p[3] # Starting time of first step input\n",
    "    tf1=p[4] # Ending time of first step input\n",
    "    ti2=p[5] # Starting time of second step input\n",
    "    tf2=p[6] # Ending time of second step input\n",
    "    gT=p[7] # T-type calcium current maximal conductance\n",
    "    gKd=p[8]  # Delayed-rectifier potassium current maximal conductance\n",
    "    gH=p[9] # H-current maximal conductance\n",
    "    gNa=p[10] # Sodium current maximal conductance\n",
    "    gA=p[11] # A-type potassium current maximal conductance\n",
    "    gKir=p[12]  # Inward-rectifier potassium current maximal conductance\n",
    "    gLeak=p[13] # Leak current maximal conductance\n",
    "    gL=p[14] # L-type calcium current maximal conductance\n",
    "    gKCa=p[15] # Calcium-activated potassium current maximal conductance\n",
    "    gSyn=p[16:20] #synaptic conductance\n",
    "    a=p[20]\n",
    "    b=p[21]\n",
    "    C=p[22] # Membrane capacitance\n",
    "    taunoise=p[24] # Cutoff frequency for low-pass filtered Gaussian noise\n",
    "    Ain=p[25] # Amplitude of sinusoïdal inut\n",
    "    Win=p[26] # Frequency of  sinusoïdal inut\n",
    "\n",
    "    \n",
    "    \n",
    "    PHI0= -mNa**3*hNa*(obesV-VNa) \n",
    "    PHI1= -mH*(obesV-VH)\n",
    "    PHI2= -mt**2*ht*(obesV-VCa)\n",
    "    PHI3= -mA**4*hA*(obesV-VK)\n",
    "    PHI4= - mKd**4*(obesV-VK)\n",
    "    PHI5= -mKir_inf(obesV)*(obesV-VK)\n",
    "    PHI6= -(obesV-Vleak)\n",
    "    PHI7= -mL*(obesV-VCa)\n",
    "    PHI8= -(Ca/(15.0+Ca))**4*(obesV-VK)\n",
    "    PHI9= -mSyn[0]*(obesV-VSyn)\n",
    "    PHI10= -mSyn[1]*(obesV-VSyn)\n",
    "    PHI11= -mSyn[2]*(obesV-VSyn)\n",
    "    PHI12= -mSyn[3]*(obesV-VSyn)\n",
    "    Current_in= Iapp + I1*pulse(t,ti1,tf1) + I2*pulse(t,ti2,tf2)+ Ain*sin(2*pi*Win*t)\n",
    "    \n",
    "    \n",
    "    PHI= np.array([PHI0,PHI1,PHI2,PHI3,PHI4,PHI5,PHI6,PHI7,PHI8,PHI9,PHI10,PHI11,PHI12])\n",
    "    \n",
    "    #ODEs\n",
    "    temp=gamma*(obesV-V)+gamma*np.dot(np.dot(phi,P),phi)*(obesV-V)# Voltage equation\n",
    "    temp2=1/C*(np.dot(PHI,Theta) + Current_in)\n",
    "    du1=temp+temp2\n",
    "    #####\n",
    "    du2=1/max_abs(tau_mNa(obesV),min_num)*(-mNa+mNa_inf(obesV)) # gating equation\n",
    "    du3=1/max_abs(tau_hNa(obesV),min_num)*(-hNa+hNa_inf(obesV))\n",
    "    du4=1/max_abs(tau_mH(obesV),min_num)*(-mH+mH_inf(obesV))\n",
    "    du5=1/max_abs(tau_mt(obesV),min_num)*(-mt+mt_inf(obesV))\n",
    "    du6=1/max_abs(tau_ht(obesV),min_num)*(-ht+ht_inf(obesV))\n",
    "    du7=1/max_abs(tau_mA(obesV),min_num)*(-mA+mA_inf(obesV))\n",
    "    du8=1/max_abs(tau_hA(obesV),min_num)*(-hA+hA_inf(obesV))\n",
    "    du9=1/max_abs(tau_mKd(obesV),min_num)*(-mKd+mKd_inf(obesV))\n",
    "    du10=1/max_abs(tau_mL(obesV),min_num)*(-mL+mL_inf(obesV))\n",
    "    du11=(-0.1*(gL*mL*(obesV-VCa))-0.01*Ca)/4 # Variation of intracellular calcium concentration\n",
    "    du12=a*Syn_sigm(V_pre[0])*(1-mSyn[0])-b*mSyn[0]\n",
    "    du13=a*Syn_sigm(V_pre[1])*(1-mSyn[1])-b*mSyn[1]\n",
    "    du14=a*Syn_sigm(V_pre[2])*(1-mSyn[2])-b*mSyn[2]\n",
    "    du15=a*Syn_sigm(V_pre[3])*(1-mSyn[3])-b*mSyn[3]\n",
    "    du16=-noise/taunoise # Noise equation\n",
    "    \n",
    "    du17=gamma_mask*np.dot(P,phi)*(obesV-V)\n",
    "    \n",
    "    du18=mask*(-gamma*phi+PHI)\n",
    "    #du14=(np.absolute(du14)>min_num)*du14\n",
    "    \n",
    "    du19=alpha*P-np.dot(np.dot(P,np.outer(phi,phi)),P)\n",
    "    \n",
    "    du20=HM_ODE_element(t,u_sys,p,V_pre)\n",
    "    \n",
    "    \n",
    "    return [du1,du2,du3,du4,du5,du6,du7,du8,du9,du10,du11,du12,du13,du14,du15,du16], du17 ,du18,du19.flatten(),du20\n",
    "\n"
   ]
  },
  {
   "cell_type": "code",
   "execution_count": 128,
   "metadata": {},
   "outputs": [],
   "source": [
    "def OB_ODE(t,u):\n",
    "    return OB_ODE2_element(t,u,p,0)"
   ]
  },
  {
   "cell_type": "code",
   "execution_count": 129,
   "metadata": {},
   "outputs": [],
   "source": [
    "@jit\n",
    "def HM_ODE(t,u):\n",
    "    return HM_ODE_element(t,u,p,0)"
   ]
  },
  {
   "cell_type": "code",
   "execution_count": 130,
   "metadata": {},
   "outputs": [],
   "source": [
    "def HCO(t,u):\n",
    "    v_pre1=List()\n",
    "    [v_pre1.append(x) for x in [u[num_u_sys],0.,0.,0.]]\n",
    "    neuron1= HM_ODE_element(t,np.array(u[0:num_u_sys]),p1,v_pre1)\n",
    "    v_pre2=List()\n",
    "    [v_pre2.append(x) for x in [u[0],0.,0.,0.]]\n",
    "    neuron2= HM_ODE_element(t,np.array(u[num_u_sys:]),p2,v_pre2)\n",
    "    return [*neuron1,*neuron2]"
   ]
  },
  {
   "cell_type": "code",
   "execution_count": 131,
   "metadata": {},
   "outputs": [],
   "source": [
    "def three_neurons(t,u):\n",
    "    neuron1= HM_ODE_element(t,u[:13],p1,u[13])\n",
    "    neuron2= HM_ODE_element(t,u[13:26],p2,u[26])\n",
    "    neuron3= HM_ODE_element(t,u[26:],p3,u[0])\n",
    "    return neuron1+neuron2+neuron3"
   ]
  },
  {
   "cell_type": "code",
   "execution_count": 132,
   "metadata": {},
   "outputs": [],
   "source": [
    "def three_neurons_OB(t,u):\n",
    "#     a,b,c,d,e= OB_ODE_element(t,np.array(u[:num_parameter]),p1,u[num_parameter+pos_p])\n",
    "#     neuron1=[*a,*b,*c,*d,*e]\n",
    "#     a,b,c,d,e= OB_ODE_element(t,np.array(u[num_parameter:num_parameter*2]),p2,u[num_parameter*2+pos_p])\n",
    "#     neuron2=[*a,*b,*c,*d,*e]\n",
    "#     a,b,c,d,e= OB_ODE_element(t,np.array(u[num_parameter*2:]),p2,u[pos_p])\n",
    "#     neuron3=[*a,*b,*c,*d,*e]\n",
    "    v_pre1=List()\n",
    "    [v_pre1.append(x) for x in [u[num_parameter+pos_p],u[num_parameter*2+pos_p],u[pos_p],0.]]\n",
    "    a,b,c,d,e= OB_ODE_element(t,np.array(u[:num_parameter]),p1,v_pre1)\n",
    "    neuron1=[*a,*b,*c,*d,*e]\n",
    "    v_pre2=List()\n",
    "    [v_pre2.append(x) for x in [u[num_parameter*2+pos_p],u[pos_p],u[num_parameter+pos_p],0.]]\n",
    "    a,b,c,d,e= OB_ODE_element(t,np.array(u[num_parameter:num_parameter*2]),p2,v_pre2)\n",
    "    neuron2=[*a,*b,*c,*d,*e]\n",
    "    v_pre3=List()\n",
    "    [v_pre3.append(x) for x in [u[pos_p],u[num_parameter+pos_p],u[num_parameter*2+pos_p],0.]]\n",
    "    a,b,c,d,e= OB_ODE_element(t,np.array(u[num_parameter*2:]),p3,v_pre3)\n",
    "    neuron3=[*a,*b,*c,*d,*e]\n",
    "    return [*neuron1,*neuron2,*neuron3]"
   ]
  },
  {
   "cell_type": "code",
   "execution_count": 133,
   "metadata": {},
   "outputs": [],
   "source": [
    "def five_neurons_OB(t,u):\n",
    "    v_pre1=List()\n",
    "    [v_pre1.append(x) for x in [u[num_parameter+pos_p],u[num_parameter*2+pos_p],u[num_parameter*3+pos_p],u[num_parameter*4+pos_p]]]\n",
    "    a,b,c,d,e= OB_ODE_element(t,np.array(u[:num_parameter]),p1,v_pre1)\n",
    "    neuron1=[*a,*b,*c,*d,*e]\n",
    "    v_pre2=List()\n",
    "    [v_pre2.append(x) for x in [u[num_parameter*2+pos_p],u[num_parameter*3+pos_p],u[pos_p],u[num_parameter*4+pos_p]]]\n",
    "    a,b,c,d,e= OB_ODE_element(t,np.array(u[num_parameter:]),p2,v_pre2)\n",
    "    neuron2=[*a,*b,*c,*d,*e]\n",
    "    v_pre3=List()\n",
    "    [v_pre3.append(x) for x in [u[num_parameter*3+pos_p],u[pos_p],u[num_parameter+pos_p],u[num_parameter*4+pos_p]]]\n",
    "    a,b,c,d,e= OB_ODE_element(t,np.array(u[num_parameter*2:]),p3,v_pre3)\n",
    "    neuron3=[*a,*b,*c,*d,*e]\n",
    "    \n",
    "    v_pre4=List()\n",
    "    [v_pre4.append(x) for x in [u[num_parameter*4+pos_p],u[num_parameter+pos_p],u[num_parameter*2+pos_p],u[pos_p]]]\n",
    "    a,b,c,d,e= OB_ODE_element(t,np.array(u[num_parameter*2:]),p4,v_pre4)\n",
    "    neuron4=[*a,*b,*c,*d,*e]\n",
    "    \n",
    "    v_pre5=List()\n",
    "    [v_pre5.append(x) for x in [u[pos_p],u[num_parameter+pos_p],u[num_parameter*2+pos_p],u[num_parameter*3+pos_p],]]\n",
    "    a,b,c,d,e= OB_ODE_element(t,np.array(u[num_parameter*2:]),p5,v_pre5)\n",
    "    neuron5=[*a,*b,*c,*d,*e]\n",
    "    \n",
    "    return [*neuron1,*neuron2,*neuron3,*neuron4,*neuron5]"
   ]
  },
  {
   "cell_type": "code",
   "execution_count": 87,
   "metadata": {},
   "outputs": [],
   "source": [
    "def four_neurons(t,u):\n",
    "    neuron1= HM_ODE_element(t,u[:13],p1,u[13])\n",
    "    neuron2= HM_ODE_element(t,u[13:26],p2,u[26])\n",
    "    neuron3= HM_ODE_element(t,u[26:39],p3,u[39])\n",
    "    neuron4= HM_ODE_element(t,u[39:],p4,u[0])\n",
    "    return neuron1+neuron2+neuron3+neuron4"
   ]
  },
  {
   "cell_type": "code",
   "execution_count": 88,
   "metadata": {},
   "outputs": [],
   "source": [
    "def five_neurons(t,u):\n",
    "    neuron1= HM_ODE_element(t,u[:13],p1,u[13])\n",
    "    neuron2= HM_ODE_element(t,u[13:26],p2,u[26])\n",
    "    neuron3= HM_ODE_element(t,u[26:39],p3,u[39])\n",
    "    neuron4= HM_ODE_element(t,u[39:52],p4,u[52])\n",
    "    neuron5= HM_ODE_element(t,u[52:],p5,u[0])\n",
    "    return neuron1+neuron2+neuron3+neuron4+neuron5"
   ]
  },
  {
   "cell_type": "code",
   "execution_count": 102,
   "metadata": {},
   "outputs": [],
   "source": [
    "def HCO_OB(t,u):\n",
    "    v_pre1=List()\n",
    "    [v_pre1.append(x) for x in [u[num_parameter+pos_p],0.,u[num_dinamics+num_Theta+num_phi+num_p],2.]]\n",
    "    a,b,c,d,e= OB_ODE_element(t,np.array(u[:num_parameter]),p1,v_pre1)\n",
    "    neuron1=[*a,*b,*c,*d,*e]\n",
    "    v_pre2=List()\n",
    "    [v_pre2.append(x) for x in [u[pos_p],0.,u[num_parameter+num_dinamics+num_Theta+num_phi+num_p],2.]]\n",
    "    a,b,c,d,e= OB_ODE_element(t,np.array(u[num_parameter:]),p2,v_pre2)\n",
    "    neuron2=[*a,*b,*c,*d,*e]\n",
    "    return [*neuron1,*neuron2]"
   ]
  },
  {
   "cell_type": "code",
   "execution_count": 90,
   "metadata": {},
   "outputs": [],
   "source": [
    "num_dinamics=13+3\n",
    "num_Theta=13\n",
    "num_phi=num_Theta\n",
    "num_p=num_Theta**2\n",
    "num_u_sys=13+3\n",
    "num_parameter=num_dinamics+num_Theta+num_phi+num_p+num_u_sys\n",
    "model_output=num_dinamics+num_Theta+num_phi+num_p+1\n",
    "variable_size=[num_dinamics,num_Theta,num_phi,num_p,num_u_sys]\n",
    "\n",
    "pos_dinamics=num_dinamics\n",
    "pos_Theta=pos_dinamics+num_Theta\n",
    "pos_phi=pos_Theta+num_phi\n",
    "pos_p=pos_phi+num_p\n",
    "pos_u_sys=pos_p+num_u_sys"
   ]
  },
  {
   "cell_type": "code",
   "execution_count": 91,
   "metadata": {},
   "outputs": [],
   "source": [
    "#Test real model\n",
    "## Simulation of the model in current-clamp mode\n",
    "\n",
    "## Definition of reversal potential values. \n",
    "VNa = 50.; # Sodium reversal potential 45\n",
    "VCa = 120.; # Calcium reversal potential\n",
    "VK = -80.; # Potassium reversal potential -90\n",
    "VH= -43.; # Reversal potential for the H-current (permeable to both sodium and potassium ions) -43\n",
    "Vleak = -49.; # Reversal potential of leak channels\n",
    "VSyn=-120.\n",
    "\n",
    "## Definition of membrane capacitance and maximal conductance values. \n",
    "C=0.1; # Membrane capacitance\n",
    "gLeak=0.1; # Leak current maximal conductance\n",
    "gNa=120.; # Sodium current maximal conductance\n",
    "gKd=30.; # Delayed-rectifier potassium current maximal conductance\n",
    "gA=0.; # A-type potassium current maximal conductance\n",
    "gKir=0.; # Inward-rectifier potassium current maximal conductance\n",
    "gT=2.; # T-type calcium current maximal conductance\n",
    "gH=0.1; # H-current maximal conductance\n",
    "gL=0.4; # L-type calcium current maximal conductance\n",
    "gKCa=2.; # Calcium-activated potassium current maximal conductance\n",
    "gSyn=4.0\n",
    "a=2.0\n",
    "b=0.1\n",
    "## Definition of simulation time.\n",
    "Tfinal=6000.0\n",
    "tspan=[0.0,Tfinal]\n",
    "\n",
    "## Input current defition\n",
    "# Constant current\n",
    "Iapp=-4.0\n",
    "\n",
    "# Current pulses\n",
    "I1=0. # Amplitude of first pulse\n",
    "ti1=0. # Starting time of first pulse\n",
    "tf1=100.0 # Ending time of first pulse\n",
    "I2=0. # Amplitude of second pulse\n",
    "ti2=50.0 # Starting time of second pulse\n",
    "tf2=150.0 # Ending time of first pulse\n",
    "\n",
    "# Sinusoidal input\n",
    "Ain=0.0 # Amplitude\n",
    "Win=0.5 # Frequency\n",
    "\n",
    "# Input noise\n",
    "NoiseIN=0.0 # Amplitude\n",
    "TauNoise=2.0 # Cut-off frequency\n",
    "\n",
    "## Current-clamp experiment\n",
    "# Parameter vector for simulations\n",
    "p=[Iapp,2.5,I2,ti1,tf1,ti2,tf2,gT,gKd,gH,gNa,gA,gKir,gLeak,gL,gKCa,gSyn,0,0,0,a,b,C,NoiseIN,TauNoise,Ain,Win]\n",
    "p1 = List()\n",
    "[p1.append(x) for x in p]\n",
    "p=[Iapp,I1,I2,ti1,tf1,ti2,tf2,gT,gKd,gH,gNa,gA,gKir,gLeak,gL,gKCa,gSyn,0,0,0,a,b,C,NoiseIN,TauNoise,Ain,Win]\n",
    "p2 = List()\n",
    "[p2.append(x) for x in p]\n",
    "# Initial conditions\n",
    "V0= -70.\n",
    "x0 = [V0,mNa_inf(V0),hNa_inf(V0),mH_inf(V0),mt_inf(V0),ht_inf(V0) ,mA_inf(V0), hA_inf(V0), mKd_inf(V0), \n",
    "      mL_inf(V0), -10*gL*mL_inf(V0)*(V0-VCa), Syn_inf(V0,a,b),0.,0.,0., 0.0]\n",
    "V0= -63.\n",
    "x1 = [V0,mNa_inf(V0),hNa_inf(V0),mH_inf(V0),mt_inf(V0),ht_inf(V0) ,mA_inf(V0), hA_inf(V0), mKd_inf(V0),\n",
    "      mL_inf(V0), -10*gL*mL_inf(V0)*(V0-VCa), Syn_inf(V0,a,b),0.,0.,0., 0.0]\n",
    "X0= [*x0,*x1]\n"
   ]
  },
  {
   "cell_type": "code",
   "execution_count": 92,
   "metadata": {},
   "outputs": [
    {
     "name": "stdout",
     "output_type": "stream",
     "text": [
      "Elapsed (with compilation) = 73.02046918869019\n"
     ]
    }
   ],
   "source": [
    "start = time.time()\n",
    "sol=solve_ivp(HCO ,tspan , X0)\n",
    "end = time.time()\n",
    "print(\"Elapsed (with compilation) = %s\" % (end - start))"
   ]
  },
  {
   "cell_type": "code",
   "execution_count": 93,
   "metadata": {},
   "outputs": [
    {
     "data": {
      "text/plain": [
       "[<matplotlib.lines.Line2D at 0x1f437bf0708>]"
      ]
     },
     "execution_count": 93,
     "metadata": {},
     "output_type": "execute_result"
    },
    {
     "data": {
      "image/png": "[encoded data removed]",
      "text/plain": [
       "<Figure size 432x288 with 1 Axes>"
      ]
     },
     "metadata": {
      "needs_background": "light"
     },
     "output_type": "display_data"
    }
   ],
   "source": [
    "plt.plot(sol.t, sol.y[16])\n",
    "plt.plot(sol.t, sol.y[0])"
   ]
  },
  {
   "cell_type": "code",
   "execution_count": 103,
   "metadata": {},
   "outputs": [
    {
     "name": "stdout",
     "output_type": "stream",
     "text": [
      "[64.15323556  4.92829411 67.96669987 53.28831734  9.09431451 13.77306273\n",
      " 38.0843115  82.08108369 87.86861002 75.00999156 35.99444816 40.55490172\n",
      "  0.        ]\n",
      "454\n",
      "13\n"
     ]
    }
   ],
   "source": [
    "#2 neurons\n",
    "## Simulation of the model in current-clamp mode\n",
    "\n",
    "## Definition of reversal potential values. \n",
    "VNa = 50.; # Sodium reversal potential 45\n",
    "VCa = 120.; # Calcium reversal potential\n",
    "VK = -80.; # Potassium reversal potential -90\n",
    "VH= -43.; # Reversal potential for the H-current (permeable to both sodium and potassium ions) -43\n",
    "Vleak = -49.; # Reversal potential of leak channels\n",
    "VSyn=-120.\n",
    "\n",
    "## Definition of membrane capacitance and maximal conductance values. \n",
    "C=0.1; # Membrane capacitance\n",
    "gLeak=0.1; # Leak current maximal conductance\n",
    "gNa=120.; # Sodium current maximal conductance\n",
    "gKd=30.; # Delayed-rectifier potassium current maximal conductance\n",
    "gA=0.; # A-type potassium current maximal conductance\n",
    "gKir=0.; # Inward-rectifier potassium current maximal conductance\n",
    "gT=2.; # T-type calcium current maximal conductance\n",
    "gH=0.1; # H-current maximal conductance\n",
    "gL=0.4; # L-type calcium current maximal conductance\n",
    "gKCa=2.; # Calcium-activated potassium current maximal conductance\n",
    "gSyn=4. # Synapse maximal conductance\n",
    "a=2.\n",
    "b=0.1\n",
    "## Definition of simulation time.\n",
    "Tfinal=6000.0\n",
    "tspan=[0.0,Tfinal]\n",
    "\n",
    "## Input current defition\n",
    "# Constant current\n",
    "Iapp=-4.\n",
    "\n",
    "# Current pulses\n",
    "I1=0. # Amplitude of first pulse\n",
    "ti1=0. # Starting time of first pulse\n",
    "tf1=100. # Ending time of first pulse\n",
    "I2=0. # Amplitude of second pulse\n",
    "ti2=50. # Starting time of second pulse\n",
    "tf2=150. # Ending time of first pulse\n",
    "\n",
    "# Sinusoidal input\n",
    "Ain=0. # Amplitude\n",
    "Win=0.5 # Frequency\n",
    "\n",
    "# Input noise\n",
    "NoiseIN=0.0 # Amplitude\n",
    "TauNoise=2.0 # Cut-off frequency\n",
    "\n",
    "#Hyperparameters\n",
    "gamma=10.\n",
    "variable_mask=np.array([1,1,1,1,1,1,1,1,1,1,1,1,0])\n",
    "mask=np.array([1,1,1,1,1,1,1,1,1,1,1,1,0]) #freeze variable by setting 0 in the mask\n",
    "gamma_mask=variable_mask*gamma\n",
    "variable_alpha=np.array([1,1,1,1,1,1,1,1,1,1,1,1,0])\n",
    "alpha=0.01\n",
    "\n",
    "## Current-clamp experiment\n",
    "# Parameter vector for simulations\n",
    "p=[Iapp,2.5,I2,ti1,tf1,ti2,tf2,gT,gKd,gH,gNa,gA,gKir,gLeak,gL,gKCa,gSyn,0.,0.,0.,a,b,C,NoiseIN,TauNoise,Ain,Win]\n",
    "p1 = List()\n",
    "[p1.append(x) for x in p]\n",
    "p=[Iapp,I1,I2,ti1,tf1,ti2,tf2,gT,gKd,gH,gNa,gA,gKir,gLeak,gL,gKCa,gSyn,0.,0.,0.,a,b,C,NoiseIN,TauNoise,Ain,Win]\n",
    "p2 = List()\n",
    "[p2.append(x) for x in p]\n",
    "# Initial conditions\n",
    "V0= -70.\n",
    "x0 = [V0,mNa_inf(V0),hNa_inf(V0),mH_inf(V0),mt_inf(V0),ht_inf(V0) ,mA_inf(V0), hA_inf(V0), mKd_inf(V0), \n",
    "      mL_inf(V0), -10*gL*mL_inf(V0)*(V0-VCa), Syn_inf(V0,a,b),Syn_inf(V0,a,b),Syn_inf(V0,a,b),Syn_inf(V0,a,b), 0.0]\n",
    "V0= -63.\n",
    "x1 = [V0,mNa_inf(V0),hNa_inf(V0),mH_inf(V0),mt_inf(V0),ht_inf(V0) ,mA_inf(V0), hA_inf(V0), mKd_inf(V0),\n",
    "      mL_inf(V0), -10*gL*mL_inf(V0)*(V0-VCa), Syn_inf(V0,a,b),Syn_inf(V0,a,b),Syn_inf(V0,a,b),Syn_inf(V0,a,b), 0.0]\n",
    "\n",
    "Theta0= np.random.rand(num_Theta)*100.\n",
    "Theta0[12:13]=[0.]\n",
    "#Theta0[7]=0.4\n",
    "print(Theta0)\n",
    "A0=(np.ones(num_Theta)*0.1).tolist()*variable_mask\n",
    "P0=np.diag(np.diag(np.outer(A0,A0))).flatten().tolist()\n",
    "#P0[-1]=0\n",
    "X0_=[*x0,*Theta0,*A0,*P0,*x0,*x1,*Theta0,*A0,*P0,*x1]\n",
    "print(len(X0_))\n",
    "print(len(Theta0))"
   ]
  },
  {
   "cell_type": "code",
   "execution_count": 104,
   "metadata": {},
   "outputs": [
    {
     "name": "stdout",
     "output_type": "stream",
     "text": [
      "Elapsed (with compilation) = 159.4039089679718\n"
     ]
    }
   ],
   "source": [
    "start = time.time()\n",
    "sol=solve_ivp(HCO_OB ,tspan , X0_)\n",
    "end = time.time()\n",
    "print(\"Elapsed (with compilation) = %s\" % (end - start))"
   ]
  },
  {
   "cell_type": "code",
   "execution_count": 105,
   "metadata": {},
   "outputs": [
    {
     "data": {
      "text/plain": [
       "[<matplotlib.lines.Line2D at 0x1f480254f48>]"
      ]
     },
     "execution_count": 105,
     "metadata": {},
     "output_type": "execute_result"
    },
    {
     "data": {
      "image/png": "[encoded data removed]",
      "text/plain": [
       "<Figure size 432x288 with 1 Axes>"
      ]
     },
     "metadata": {
      "needs_background": "light"
     },
     "output_type": "display_data"
    }
   ],
   "source": [
    "plt.plot(sol.t, sol.y[num_parameter+num_dinamics+num_Theta+num_phi+num_p])\n",
    "plt.plot(sol.t, sol.y[num_dinamics+num_Theta+num_phi+num_p])"
   ]
  },
  {
   "cell_type": "code",
   "execution_count": 106,
   "metadata": {},
   "outputs": [
    {
     "data": {
      "text/plain": [
       "[<matplotlib.lines.Line2D at 0x1f61bfe2688>]"
      ]
     },
     "execution_count": 106,
     "metadata": {},
     "output_type": "execute_result"
    },
    {
     "data": {
      "image/png": "[encoded data removed]",
      "text/plain": [
       "<Figure size 432x288 with 1 Axes>"
      ]
     },
     "metadata": {
      "needs_background": "light"
     },
     "output_type": "display_data"
    }
   ],
   "source": [
    "plt.plot(sol.t, sol.y[0])"
   ]
  },
  {
   "cell_type": "code",
   "execution_count": 107,
   "metadata": {},
   "outputs": [
    {
     "data": {
      "image/png": "[encoded data removed]",
      "text/plain": [
       "<Figure size 432x288 with 1 Axes>"
      ]
     },
     "metadata": {
      "needs_background": "light"
     },
     "output_type": "display_data"
    },
    {
     "name": "stdout",
     "output_type": "stream",
     "text": [
      "['Na', 'H', 't', 'A', 'K', 'Kir', 'leak', 'L', 'KCa', 'gSyn', 'gSyn2', 'gSyn3', 'gSyn4']\n",
      "[ 1.14293416e+02  9.75284869e-02  1.78016520e+00 -1.09429449e-01\n",
      "  2.88311008e+01 -1.52994548e-02  1.07302550e-01  3.81097507e-01\n",
      "  1.95816656e+00  3.93476595e+00  5.39879395e-03 -4.85706816e-02\n",
      "  0.00000000e+00]\n"
     ]
    }
   ],
   "source": [
    "#plot parameters\n",
    "labels=[ 'Na','H','t','A','K','Kir','leak','L','KCa','gSyn','gSyn2','gSyn3','gSyn4']\n",
    "plt.figure()\n",
    "for i in range(num_Theta):\n",
    "    plt.plot(sol.t,sol.y[16+i],label=labels[i])\n",
    "plt.legend()\n",
    "plt.show()\n",
    "print(labels)\n",
    "print(sol.y[16:16+num_Theta,-1])"
   ]
  },
  {
   "cell_type": "code",
   "execution_count": 134,
   "metadata": {},
   "outputs": [
    {
     "name": "stdout",
     "output_type": "stream",
     "text": [
      "[99.75464302 54.70784951 45.83293935 95.8741913  82.22038871 27.42932679\n",
      " 57.66749168 45.85008626 53.69916017 54.04953029 85.41496208  0.\n",
      "  0.        ]\n",
      "681\n",
      "13\n"
     ]
    }
   ],
   "source": [
    "#Test real model 3 neurons\n",
    "## Simulation of the model in current-clamp mode\n",
    "\n",
    "## Definition of reversal potential values. \n",
    "VNa = 50.; # Sodium reversal potential 45\n",
    "VCa = 120.; # Calcium reversal potential\n",
    "VK = -80.; # Potassium reversal potential -90\n",
    "VH= -43.; # Reversal potential for the H-current (permeable to both sodium and potassium ions) -43\n",
    "Vleak = -49.; # Reversal potential of leak channels\n",
    "VSyn=-120.\n",
    "\n",
    "## Definition of membrane capacitance and maximal conductance values. \n",
    "C=0.1; # Membrane capacitance\n",
    "gLeak=0.1; # Leak current maximal conductance\n",
    "gNa=120.; # Sodium current maximal conductance\n",
    "gKd=30.; # Delayed-rectifier potassium current maximal conductance\n",
    "gA=0.; # A-type potassium current maximal conductance\n",
    "gKir=0.; # Inward-rectifier potassium current maximal conductance\n",
    "gT=2.; # T-type calcium current maximal conductance\n",
    "gH=0.1; # H-current maximal conductance\n",
    "gL=0.4; # L-type calcium current maximal conductance\n",
    "gKCa=2.; # Calcium-activated potassium current maximal conductance\n",
    "gSyn=4.0\n",
    "a=2.0\n",
    "b=0.1\n",
    "## Definition of simulation time.\n",
    "Tfinal=6000.0\n",
    "tspan=[0.0,Tfinal]\n",
    "\n",
    "## Input current defition\n",
    "# Constant current\n",
    "Iapp=-4.0\n",
    "\n",
    "# Current pulses\n",
    "I1=0. # Amplitude of first pulse\n",
    "ti1=0. # Starting time of first pulse\n",
    "tf1=100.0 # Ending time of first pulse\n",
    "I2=0. # Amplitude of second pulse\n",
    "ti2=50.0 # Starting time of second pulse\n",
    "tf2=150.0 # Ending time of first pulse\n",
    "\n",
    "# Sinusoidal input\n",
    "Ain=0.0 # Amplitude\n",
    "Win=0.5 # Frequency\n",
    "\n",
    "# Input noise\n",
    "NoiseIN=0.0 # Amplitude\n",
    "TauNoise=2.0 # Cut-off frequency\n",
    "\n",
    "\n",
    "#Hyperparameters\n",
    "gamma=10.\n",
    "variable_mask=np.array([1,1,1,1,1,1,1,1,1,1,1,1,1])\n",
    "mask=np.array([1,1,1,1,1,1,1,1,1,1,1,1,1]) #freeze variable by setting 0 in the mask\n",
    "gamma_mask=variable_mask*gamma\n",
    "variable_alpha=np.array([1,1,1,1,1,1,1,1,1,1,1,1,1])\n",
    "alpha=0.00001\n",
    "\n",
    "## Current-clamp experiment\n",
    "# Parameter vector for simulations\n",
    "p=[Iapp,2.5,I2,ti1,tf1,ti2,tf2,gT,gKd,gH,gNa,gA,gKir,gLeak,gL,gKCa,gSyn,0.,0.,0.,a,b,C,NoiseIN,TauNoise,Ain,Win]\n",
    "p1 = List()\n",
    "[p1.append(x) for x in p]\n",
    "p=[Iapp,I1,I2,ti1,tf1,ti2,tf2,gT,gKd,gH,gNa,gA,gKir,gLeak,gL,gKCa,gSyn,0.,0.,0.,a,b,C,NoiseIN,TauNoise,Ain,Win]\n",
    "p2 = List()\n",
    "[p2.append(x) for x in p]\n",
    "p=[Iapp,I1,I2,ti1,tf1,ti2,tf2,gT,gKd,gH,gNa,gA,gKir,gLeak,gL,gKCa,gSyn,0.,0.,0.,a,b,C,NoiseIN,TauNoise,Ain,Win]\n",
    "p3 = List()\n",
    "[p3.append(x) for x in p]\n",
    "# Initial conditions\n",
    "V0= -70.\n",
    "x0 = [V0,mNa_inf(V0),hNa_inf(V0),mH_inf(V0),mt_inf(V0),ht_inf(V0) ,mA_inf(V0), hA_inf(V0), mKd_inf(V0), \n",
    "      mL_inf(V0), -10*gL*mL_inf(V0)*(V0-VCa), Syn_inf(V0,a,b),Syn_inf(V0,a,b),Syn_inf(V0,a,b),Syn_inf(V0,a,b), 0.0]\n",
    "V0= -63.\n",
    "x1 = [V0,mNa_inf(V0),hNa_inf(V0),mH_inf(V0),mt_inf(V0),ht_inf(V0) ,mA_inf(V0), hA_inf(V0), mKd_inf(V0),\n",
    "      mL_inf(V0), -10*gL*mL_inf(V0)*(V0-VCa), Syn_inf(V0,a,b),Syn_inf(V0,a,b),Syn_inf(V0,a,b),Syn_inf(V0,a,b), 0.0]\n",
    "V0= -60.\n",
    "x2 = [V0,mNa_inf(V0),hNa_inf(V0),mH_inf(V0),mt_inf(V0),ht_inf(V0) ,mA_inf(V0), hA_inf(V0), mKd_inf(V0),\n",
    "      mL_inf(V0), -10*gL*mL_inf(V0)*(V0-VCa), Syn_inf(V0,a,b),Syn_inf(V0,a,b),Syn_inf(V0,a,b),Syn_inf(V0,a,b), 0.0]\n",
    "\n",
    "V0= -100*np.random.rand(1)\n",
    "x0_ = [V0,mNa_inf(V0),hNa_inf(V0),mH_inf(V0),mt_inf(V0),ht_inf(V0) ,mA_inf(V0), hA_inf(V0), mKd_inf(V0),\n",
    "      mL_inf(V0), -10*gL*mL_inf(V0)*(V0-VCa), Syn_inf(V0,a,b),Syn_inf(V0,a,b),Syn_inf(V0,a,b),Syn_inf(V0,a,b), 0.0]\n",
    "V0= -100*np.random.rand(1)\n",
    "x1_ = [V0,mNa_inf(V0),hNa_inf(V0),mH_inf(V0),mt_inf(V0),ht_inf(V0) ,mA_inf(V0), hA_inf(V0), mKd_inf(V0),\n",
    "      mL_inf(V0), -10*gL*mL_inf(V0)*(V0-VCa), Syn_inf(V0,a,b),Syn_inf(V0,a,b),Syn_inf(V0,a,b),Syn_inf(V0,a,b), 0.0]\n",
    "V0= -100*np.random.rand(1)\n",
    "x2_ = [V0,mNa_inf(V0),hNa_inf(V0),mH_inf(V0),mt_inf(V0),ht_inf(V0) ,mA_inf(V0), hA_inf(V0), mKd_inf(V0),\n",
    "      mL_inf(V0), -10*gL*mL_inf(V0)*(V0-VCa), Syn_inf(V0,a,b),Syn_inf(V0,a,b),Syn_inf(V0,a,b),Syn_inf(V0,a,b), 0.0]\n",
    "\n",
    "\n",
    "Theta0= np.random.rand(num_Theta)*100.\n",
    "Theta0[11:13]=[0.,0.]\n",
    "#Theta0[7]=0.4\n",
    "print(Theta0)\n",
    "A0=(np.ones(num_Theta)*0.1).tolist()*variable_mask\n",
    "P0=np.diag(np.diag(np.outer(A0,A0))).flatten().tolist()\n",
    "#P0[-1]=0\n",
    "X0_=[*x0_,*Theta0,*A0,*P0,*x0,*x1_,*Theta0,*A0,*P0,*x1,*x2_,*Theta0,*A0,*P0,*x2]\n",
    "print(len(X0_))\n",
    "print(len(Theta0))\n"
   ]
  },
  {
   "cell_type": "code",
   "execution_count": 135,
   "metadata": {},
   "outputs": [
    {
     "name": "stdout",
     "output_type": "stream",
     "text": [
      "Elapsed (with compilation) = 811.3520250320435\n"
     ]
    }
   ],
   "source": [
    "start = time.time()\n",
    "sol=solve_ivp(three_neurons_OB ,tspan , X0_)\n",
    "end = time.time()\n",
    "print(\"Elapsed (with compilation) = %s\" % (end - start))"
   ]
  },
  {
   "cell_type": "code",
   "execution_count": 122,
   "metadata": {},
   "outputs": [
    {
     "data": {
      "text/plain": [
       "[<matplotlib.lines.Line2D at 0x1f61b7cf988>]"
      ]
     },
     "execution_count": 122,
     "metadata": {},
     "output_type": "execute_result"
    },
    {
     "data": {
      "image/png": "[encoded data removed]",
      "text/plain": [
       "<Figure size 432x288 with 1 Axes>"
      ]
     },
     "metadata": {
      "needs_background": "light"
     },
     "output_type": "display_data"
    }
   ],
   "source": [
    "plt.plot(sol.t, sol.y[pos_p])\n",
    "plt.plot(sol.t, sol.y[num_parameter+pos_p])\n",
    "plt.plot(sol.t, sol.y[num_parameter*2+pos_p])"
   ]
  },
  {
   "cell_type": "code",
   "execution_count": 123,
   "metadata": {},
   "outputs": [
    {
     "data": {
      "text/plain": [
       "[<matplotlib.lines.Line2D at 0x1f61b5bef88>]"
      ]
     },
     "execution_count": 123,
     "metadata": {},
     "output_type": "execute_result"
    },
    {
     "data": {
      "image/png": "[encoded data removed]",
      "text/plain": [
       "<Figure size 432x288 with 1 Axes>"
      ]
     },
     "metadata": {
      "needs_background": "light"
     },
     "output_type": "display_data"
    }
   ],
   "source": [
    "plt.plot(sol.t, sol.y[0])\n",
    "plt.plot(sol.t, sol.y[pos_p])"
   ]
  },
  {
   "cell_type": "code",
   "execution_count": 124,
   "metadata": {},
   "outputs": [
    {
     "data": {
      "text/plain": [
       "[<matplotlib.lines.Line2D at 0x1f60a6b1b88>]"
      ]
     },
     "execution_count": 124,
     "metadata": {},
     "output_type": "execute_result"
    },
    {
     "data": {
      "image/png": "[encoded data removed]",
      "text/plain": [
       "<Figure size 432x288 with 1 Axes>"
      ]
     },
     "metadata": {
      "needs_background": "light"
     },
     "output_type": "display_data"
    }
   ],
   "source": [
    "plt.plot(sol.t, sol.y[num_parameter])\n",
    "plt.plot(sol.t, sol.y[num_parameter+num_dinamics+num_Theta+num_phi+num_p])"
   ]
  },
  {
   "cell_type": "code",
   "execution_count": 63,
   "metadata": {},
   "outputs": [
    {
     "data": {
      "image/png": "[encoded data removed]",
      "text/plain": [
       "<Figure size 432x288 with 1 Axes>"
      ]
     },
     "metadata": {
      "needs_background": "light"
     },
     "output_type": "display_data"
    },
    {
     "name": "stdout",
     "output_type": "stream",
     "text": [
      "['Na', 'H', 't', 'A', 'K', 'Kir', 'leak', 'L', 'KCa', 'gSyn', 'gSyn2', 'gSyn3', 'gSyn4']\n",
      "[88.73672012431683 -0.8689470825232672 0.2409445867527965\n",
      " -11.289916700710368 22.625998258906115 6.66150064589697\n",
      " 0.2604185916685371 0.2044255844716766 3.5296567088827424\n",
      " 35.75443114099625 0.11663654943367965 -1.064077844862136\n",
      " -0.03100641029293845]\n"
     ]
    }
   ],
   "source": [
    "#plot parameters\n",
    "labels=[ 'Na','H','t','A','K','Kir','leak','L','KCa','gSyn','gSyn2','gSyn3','gSyn4']\n",
    "plt.figure()\n",
    "for i in range(num_Theta):\n",
    "    plt.plot(sol.t,sol.y[16+i],label=labels[i])\n",
    "plt.legend()\n",
    "plt.show()\n",
    "print(labels)\n",
    "print(sol.y[16:16+num_Theta,-1])"
   ]
  },
  {
   "cell_type": "code",
   "execution_count": 443,
   "metadata": {},
   "outputs": [
    {
     "name": "stderr",
     "output_type": "stream",
     "text": [
      "C:\\Users\\lenovo\\anaconda3\\lib\\site-packages\\IPython\\core\\pylabtools.py:132: UserWarning: Creating legend with loc=\"best\" can be slow with large amounts of data.\n",
      "  fig.canvas.print_figure(bytes_io, **kw)\n"
     ]
    },
    {
     "data": {
      "image/png": "[encoded data removed]",
      "text/plain": [
       "<Figure size 432x288 with 1 Axes>"
      ]
     },
     "metadata": {
      "needs_background": "light"
     },
     "output_type": "display_data"
    }
   ],
   "source": [
    "plt.plot(sol.t, sol.y[0],label='1')\n",
    "plt.plot(sol.t, sol.y[13],label='2')\n",
    "plt.plot(sol.t, sol.y[26],label='3')\n",
    "plt.legend()\n",
    "plt.show()"
   ]
  },
  {
   "cell_type": "code",
   "execution_count": null,
   "metadata": {},
   "outputs": [],
   "source": [
    "#Test real model 5 neurons\n",
    "## Simulation of the model in current-clamp mode\n",
    "\n",
    "## Definition of reversal potential values. \n",
    "VNa = 50.; # Sodium reversal potential 45\n",
    "VCa = 120.; # Calcium reversal potential\n",
    "VK = -80.; # Potassium reversal potential -90\n",
    "VH= -43.; # Reversal potential for the H-current (permeable to both sodium and potassium ions) -43\n",
    "Vleak = -49.; # Reversal potential of leak channels\n",
    "VSyn=-120.\n",
    "\n",
    "## Definition of membrane capacitance and maximal conductance values. \n",
    "C=0.1; # Membrane capacitance\n",
    "gLeak=0.1; # Leak current maximal conductance\n",
    "gNa=120.; # Sodium current maximal conductance\n",
    "gKd=30.; # Delayed-rectifier potassium current maximal conductance\n",
    "gA=0.; # A-type potassium current maximal conductance\n",
    "gKir=0.; # Inward-rectifier potassium current maximal conductance\n",
    "gT=2.; # T-type calcium current maximal conductance\n",
    "gH=0.1; # H-current maximal conductance\n",
    "gL=0.4; # L-type calcium current maximal conductance\n",
    "gKCa=2.; # Calcium-activated potassium current maximal conductance\n",
    "gSyn=4.0\n",
    "a=2.0\n",
    "b=0.1\n",
    "## Definition of simulation time.\n",
    "Tfinal=6000.0\n",
    "tspan=[0.0,Tfinal]\n",
    "\n",
    "## Input current defition\n",
    "# Constant current\n",
    "Iapp=-4.0\n",
    "\n",
    "# Current pulses\n",
    "I1=0. # Amplitude of first pulse\n",
    "ti1=0. # Starting time of first pulse\n",
    "tf1=100.0 # Ending time of first pulse\n",
    "I2=0. # Amplitude of second pulse\n",
    "ti2=50.0 # Starting time of second pulse\n",
    "tf2=150.0 # Ending time of first pulse\n",
    "\n",
    "# Sinusoidal input\n",
    "Ain=0.0 # Amplitude\n",
    "Win=0.5 # Frequency\n",
    "\n",
    "# Input noise\n",
    "NoiseIN=0.0 # Amplitude\n",
    "TauNoise=2.0 # Cut-off frequency\n",
    "\n",
    "\n",
    "#Hyperparameters\n",
    "gamma=10.\n",
    "variable_mask=np.array([1,1,1,1,1,1,1,1,1,1,1,1,1])\n",
    "mask=np.array([1,1,1,1,1,1,1,1,1,1,1,1,1]) #freeze variable by setting 0 in the mask\n",
    "gamma_mask=variable_mask*gamma\n",
    "variable_alpha=np.array([1,1,1,1,1,1,1,1,1,1,1,1,1])\n",
    "alpha=0.01\n",
    "\n",
    "## Current-clamp experiment\n",
    "# Parameter vector for simulations\n",
    "p=[Iapp,2.5,I2,ti1,tf1,ti2,tf2,gT,gKd,gH,gNa,gA,gKir,gLeak,gL,gKCa,gSyn,0.,0.,0.,a,b,C,NoiseIN,TauNoise,Ain,Win]\n",
    "p1 = List()\n",
    "[p1.append(x) for x in p]\n",
    "p=[Iapp,I1,I2,ti1,tf1,ti2,tf2,gT,gKd,gH,gNa,gA,gKir,gLeak,gL,gKCa,gSyn,0.,0.,0.,a,b,C,NoiseIN,TauNoise,Ain,Win]\n",
    "p2 = List()\n",
    "[p2.append(x) for x in p]\n",
    "p=[Iapp,I1,I2,ti1,tf1,ti2,tf2,gT,gKd,gH,gNa,gA,gKir,gLeak,gL,gKCa,gSyn,0.,0.,0.,a,b,C,NoiseIN,TauNoise,Ain,Win]\n",
    "p3 = List()\n",
    "[p3.append(x) for x in p]\n",
    "p4 = List()\n",
    "[p4.append(x) for x in p]\n",
    "p5 = List()\n",
    "[p5.append(x) for x in p]\n",
    "# Initial conditions\n",
    "V0= -70.\n",
    "x0 = [V0,mNa_inf(V0),hNa_inf(V0),mH_inf(V0),mt_inf(V0),ht_inf(V0) ,mA_inf(V0), hA_inf(V0), mKd_inf(V0), \n",
    "      mL_inf(V0), -10*gL*mL_inf(V0)*(V0-VCa), Syn_inf(V0,a,b),Syn_inf(V0,a,b),Syn_inf(V0,a,b),Syn_inf(V0,a,b), 0.0]\n",
    "V0= -63.\n",
    "x1 = [V0,mNa_inf(V0),hNa_inf(V0),mH_inf(V0),mt_inf(V0),ht_inf(V0) ,mA_inf(V0), hA_inf(V0), mKd_inf(V0),\n",
    "      mL_inf(V0), -10*gL*mL_inf(V0)*(V0-VCa), Syn_inf(V0,a,b),Syn_inf(V0,a,b),Syn_inf(V0,a,b),Syn_inf(V0,a,b), 0.0]\n",
    "V0= -60.\n",
    "x2 = [V0,mNa_inf(V0),hNa_inf(V0),mH_inf(V0),mt_inf(V0),ht_inf(V0) ,mA_inf(V0), hA_inf(V0), mKd_inf(V0),\n",
    "      mL_inf(V0), -10*gL*mL_inf(V0)*(V0-VCa), Syn_inf(V0,a,b),Syn_inf(V0,a,b),Syn_inf(V0,a,b),Syn_inf(V0,a,b), 0.0]\n",
    "V0= -70.\n",
    "x3 = [V0,mNa_inf(V0),hNa_inf(V0),mH_inf(V0),mt_inf(V0),ht_inf(V0) ,mA_inf(V0), hA_inf(V0), mKd_inf(V0), \n",
    "      mL_inf(V0), -10*gL*mL_inf(V0)*(V0-VCa), Syn_inf(V0,a,b),Syn_inf(V0,a,b),Syn_inf(V0,a,b),Syn_inf(V0,a,b), 0.0]\n",
    "V0= -63.\n",
    "x4 = [V0,mNa_inf(V0),hNa_inf(V0),mH_inf(V0),mt_inf(V0),ht_inf(V0) ,mA_inf(V0), hA_inf(V0), mKd_inf(V0),\n",
    "      mL_inf(V0), -10*gL*mL_inf(V0)*(V0-VCa), Syn_inf(V0,a,b),Syn_inf(V0,a,b),Syn_inf(V0,a,b),Syn_inf(V0,a,b), 0.0]\n",
    "\n",
    "\n",
    "V0= -100*np.random.rand(1)\n",
    "x0_ = [V0,mNa_inf(V0),hNa_inf(V0),mH_inf(V0),mt_inf(V0),ht_inf(V0) ,mA_inf(V0), hA_inf(V0), mKd_inf(V0),\n",
    "      mL_inf(V0), -10*gL*mL_inf(V0)*(V0-VCa), Syn_inf(V0,a,b),Syn_inf(V0,a,b),Syn_inf(V0,a,b),Syn_inf(V0,a,b), 0.0]\n",
    "V0= -100*np.random.rand(1)\n",
    "x1_ = [V0,mNa_inf(V0),hNa_inf(V0),mH_inf(V0),mt_inf(V0),ht_inf(V0) ,mA_inf(V0), hA_inf(V0), mKd_inf(V0),\n",
    "      mL_inf(V0), -10*gL*mL_inf(V0)*(V0-VCa), Syn_inf(V0,a,b),Syn_inf(V0,a,b),Syn_inf(V0,a,b),Syn_inf(V0,a,b), 0.0]\n",
    "V0= -100*np.random.rand(1)\n",
    "x2_ = [V0,mNa_inf(V0),hNa_inf(V0),mH_inf(V0),mt_inf(V0),ht_inf(V0) ,mA_inf(V0), hA_inf(V0), mKd_inf(V0),\n",
    "      mL_inf(V0), -10*gL*mL_inf(V0)*(V0-VCa), Syn_inf(V0,a,b),Syn_inf(V0,a,b),Syn_inf(V0,a,b),Syn_inf(V0,a,b), 0.0]\n",
    "V0= -100*np.random.rand(1)\n",
    "x3_ = [V0,mNa_inf(V0),hNa_inf(V0),mH_inf(V0),mt_inf(V0),ht_inf(V0) ,mA_inf(V0), hA_inf(V0), mKd_inf(V0),\n",
    "      mL_inf(V0), -10*gL*mL_inf(V0)*(V0-VCa), Syn_inf(V0,a,b),Syn_inf(V0,a,b),Syn_inf(V0,a,b),Syn_inf(V0,a,b), 0.0]\n",
    "V0= -100*np.random.rand(1)\n",
    "x4_ = [V0,mNa_inf(V0),hNa_inf(V0),mH_inf(V0),mt_inf(V0),ht_inf(V0) ,mA_inf(V0), hA_inf(V0), mKd_inf(V0),\n",
    "      mL_inf(V0), -10*gL*mL_inf(V0)*(V0-VCa), Syn_inf(V0,a,b),Syn_inf(V0,a,b),Syn_inf(V0,a,b),Syn_inf(V0,a,b), 0.0]\n",
    "\n",
    "\n",
    "\n",
    "Theta0= np.random.rand(num_Theta)*100.\n",
    "Theta0[11:13]=[0.,0.]\n",
    "#Theta0[7]=0.4\n",
    "print(Theta0)\n",
    "A0=(np.ones(num_Theta)*0.1).tolist()*variable_mask\n",
    "P0=np.diag(np.diag(np.outer(A0,A0))).flatten().tolist()\n",
    "#P0[-1]=0\n",
    "X0_=[*x0_,*Theta0,*A0,*P0,*x0,*x1_,*Theta0,*A0,*P0,*x1,\n",
    "     *x2_,*Theta0,*A0,*P0,*x2,\n",
    "     *x3_,*Theta0,*A0,*P0,*x3,\n",
    "     *x4_,*Theta0,*A0,*P0,*x4]\n",
    "print(len(X0_))\n",
    "print(len(Theta0))"
   ]
  }
 ],
 "metadata": {
  "kernelspec": {
   "display_name": "Python 3 (ipykernel)",
   "language": "python",
   "name": "python3"
  },
  "language_info": {
   "codemirror_mode": {
    "name": "ipython",
    "version": 3
   },
   "file_extension": ".py",
   "mimetype": "text/x-python",
   "name": "python",
   "nbconvert_exporter": "python",
   "pygments_lexer": "ipython3",
   "version": "3.9.7"
  }
 },
 "nbformat": 4,
 "nbformat_minor": 4
}

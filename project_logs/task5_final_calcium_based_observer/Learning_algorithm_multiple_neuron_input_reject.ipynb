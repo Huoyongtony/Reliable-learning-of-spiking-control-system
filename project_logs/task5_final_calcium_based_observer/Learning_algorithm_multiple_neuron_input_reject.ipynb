{
 "cells": [
  {
   "cell_type": "code",
   "execution_count": 2,
   "metadata": {},
   "outputs": [],
   "source": [
    "import numpy as np\n",
    "import matplotlib.pyplot as plt\n",
    "import time\n",
    "from numba import jit,njit\n",
    "from scipy.integrate import solve_ivp\n",
    "from numba.typed import List\n",
    "exp=np.exp\n",
    "\n",
    "@jit\n",
    "def alpha_m (V):\n",
    "    return -0.025*(V+40.)/( exp(-(V+40)/10) - 1.0 )\n",
    "@jit\n",
    "def beta_m(V):\n",
    "    return exp(-(V+65)/18)\n",
    "@jit\n",
    "def mNa_inf(V):\n",
    "    return alpha_m(V) / (alpha_m(V) + beta_m(V))\n",
    "@jit\n",
    "def tau_mNa(V):\n",
    "    return 1 / (alpha_m(V) + beta_m(V))/5\n",
    "@jit\n",
    "def alpha_h(V):\n",
    "    return 0.0175*exp(-(V+65)/20)\n",
    "@jit\n",
    "def beta_h(V):\n",
    "    return 0.25/(1.0 + exp(-(V+35)/10) )\n",
    "@jit\n",
    "def hNa_inf(V):\n",
    "    return alpha_h(V) / (alpha_h(V) + beta_h(V))\n",
    "@jit\n",
    "def tau_hNa (V):\n",
    "    return 1 / (alpha_h(V) + beta_h(V))/5\n",
    "Kdshift=10.0\n",
    "@jit\n",
    "def alpha_mKd(V):\n",
    "    return 0.0025*(V+55.)/(1. - exp(-(V+55.)/10.))\n",
    "\n",
    "@jit\n",
    "def beta_mKd(V):\n",
    "    return 0.03125*exp(-(V+65.)/80.)\n",
    "\n",
    "@jit\n",
    "def mKd_inf (V):\n",
    "    return alpha_mKd(V-Kdshift) / (alpha_mKd(V-Kdshift) + beta_mKd(V-Kdshift))\n",
    "@jit\n",
    "def tau_mKd (V):\n",
    "    return 1 / (alpha_mKd(V-Kdshift) + beta_mKd(V-Kdshift))/5 \n",
    "\n",
    "@jit\n",
    "def mA_inf (V):\n",
    "    return 1/(1+exp(-(V+90)/8.5))\n",
    "@jit\n",
    "def tau_mA (V):\n",
    "    return 0.37 + 1/(exp((V+35.82)/19.697)+exp((V+79.69)/-12.7))/5\n",
    "@jit\n",
    "def hA_inf (V):\n",
    "    return 1/(1+exp((V+78)/6))\n",
    "\n",
    "@jit\n",
    "def tau_hA(V): # Inactivation time-constant\n",
    "    if (V < -63):\n",
    "        tau_hA = 1/(exp((V+46.05)/5)+exp((V+238.4)/-37.45))\n",
    "    else:\n",
    "        tau_hA = 19\n",
    "    return tau_hA/5\n",
    "\n",
    "@jit\n",
    "def mKir_inf (V):\n",
    "    return 1/(1+exp((V+97.9+10)/9.7))\n",
    "\n",
    "# T-type Ca-current (mt=activation variable, ht=inactivation variable)\n",
    "@jit\n",
    "def mt_inf (V):\n",
    "    return 1/(1+exp(-(V+57)/6.2)) # Activation function\n",
    "@jit\n",
    "def tau_mt (V):\n",
    "    return 0.612 + 1/(exp(-(V+131.6)/16.7)+exp((V+16.8)/18.2)) # Activation time-constant\n",
    "@jit\n",
    "def ht_inf(V):\n",
    "    return 1/(1+exp((V+81)/4.03))# Inactivation function\n",
    "@jit\n",
    "def tau_ht(V): # Inactivation time-constant\n",
    "    if (V < -80):\n",
    "        tau_ht = exp((V+467)/66.6)\n",
    "    else:\n",
    "        tau_ht = (exp(-(V+21.88)/10.2)+28)\n",
    "    return tau_ht\n",
    "\n",
    "\n",
    "# L-type Ca-current (mL=activation variable)\n",
    "@jit\n",
    "def mL_inf (V):\n",
    "    return 1/(1+exp(-(V+55.)/3)) # Activation function\n",
    "@jit\n",
    "def tau_mL(V):\n",
    "    return (72*exp(-(V+45.)**2/400)+6.)# Activation time-constant\n",
    "\n",
    "# H-current (mH=activation variable)\n",
    "@jit\n",
    "def alpha_mH (V):\n",
    "    return exp(-14.59-(0.086*V))\n",
    "@jit\n",
    "def beta_mH (V):\n",
    "    return exp(-1.87+(0.0701*V))\n",
    "@jit\n",
    "def mH_inf (V):\n",
    "    return  alpha_mH(V) /(alpha_mH(V) + beta_mH(V)) # Activation function\n",
    "@jit \n",
    "def tau_mH (V):\n",
    "    return 1/(alpha_mH(V) + beta_mH(V)) # Activation time-constant\n",
    "@jit \n",
    "def heaviside (t):\n",
    "    return (1+np.sign(t))/2\n",
    "@jit \n",
    "def pulse (t,ti,tf):\n",
    "    return heaviside(t-ti)-heaviside(t-tf)\n",
    "\n",
    "sin=np.sin\n",
    "pi=np.pi\n",
    "\n",
    "@jit \n",
    "def Syn_sigm(V):\n",
    "    rSyn = -45;\n",
    "    kSyn = 2;\n",
    "    return 1/(1+exp(-(V-rSyn)/kSyn))\n",
    "@jit \n",
    "def Syn_inf(V,a,b):\n",
    "    return a*Syn_sigm(V)/(a*Syn_sigm(V)+b)\n",
    " \n",
    "@jit \n",
    "def max_abs(a,b):\n",
    "    if abs(a)>abs(b):\n",
    "        return a\n",
    "    else:\n",
    "        return b\n",
    "    \n",
    "\n"
   ]
  },
  {
   "cell_type": "code",
   "execution_count": 3,
   "metadata": {},
   "outputs": [],
   "source": [
    "@jit\n",
    "def HM_ODE_element(t,u,p,V_pre):\n",
    "    # Parameters\n",
    "    min_num=1e-60\n",
    "    Iapp=p[0] # Amplitude of constant applied current\n",
    "    I1=p[1] # Amplitude of first step input\n",
    "    I2=p[2] # Amplitude of second step input\n",
    "    ti1=p[3] # Starting time of first step input\n",
    "    tf1=p[4] # Ending time of first step input\n",
    "    ti2=p[5] # Starting time of second step input\n",
    "    tf2=p[6] # Ending time of second step input\n",
    "    gT=p[7] # T-type calcium current maximal conductance\n",
    "    gKd=p[8]  # Delayed-rectifier potassium current maximal conductance\n",
    "    gH=p[9] # H-current maximal conductance\n",
    "    gNa=p[10] # Sodium current maximal conductance\n",
    "    gA=p[11] # A-type potassium current maximal conductance\n",
    "    gKir=p[12]  # Inward-rectifier potassium current maximal conductance\n",
    "    gLeak=p[13] # Leak current maximal conductance\n",
    "    gL=p[14] # L-type calcium current maximal conductance\n",
    "    gKCa=p[15] # Calcium-activated potassium current maximal conductance\n",
    "    gSyn=p[16] #synaptic conductance\n",
    "    a=p[17]\n",
    "    b=p[18]\n",
    "    C=p[19] # Membrane capacitance\n",
    "    taunoise=p[21] # Cutoff frequency for low-pass filtered Gaussian noise\n",
    "    Ain=p[22] # Amplitude of sinusoïdal inut\n",
    "    Win=p[23] # Frequency of  sinusoïdal inut\n",
    "\n",
    "    # Variables\n",
    "    V=u[0] # Membrane potential\n",
    "    mNa=u[1] # Sodium current activation\n",
    "    hNa=u[2] # Sodium current inactivation\n",
    "    mH=u[3] # H current activation\n",
    "    mt=u[4] # T-type calcium current activation\n",
    "    ht=u[5] # T-type calcium current inactivation\n",
    "    mA=u[6] # A-type potassium current activation\n",
    "    hA=u[7] # A-type potassium current inactivation\n",
    "    mKd=u[8] # Delayed-rectifier potassium current activation\n",
    "    mL=u[9] # L-type calcium current activation\n",
    "    Ca=u[10] # Intracellular calcium concentration\n",
    "    mSyn = u[11] # synapse\n",
    "    noise=u[12] # Input noise\n",
    "    \n",
    "\n",
    "    # ODEs\n",
    "    du1=1/C*(- gNa*mNa**3*hNa*(V-VNa) - gH*mH*(V-VH) - gT*mt**2*ht*(V-VCa) - gA*mA**4*hA*(V-VK) - gKd*mKd**4*(V-VK) -\n",
    "                gKir*mKir_inf(V)*(V-VK) - gLeak*(V-Vleak)- gL*mL*(V-VCa) - gKCa*(Ca/(15.0+Ca))**4*(V-VK) -\n",
    "                gSyn*mSyn*(V-VSyn) + Iapp + I1*pulse(t,ti1,tf1) + I2*pulse(t,ti2,tf2) + noise + Ain*sin(2*pi*Win*t)) # Voltage equation\n",
    "    \n",
    "    du2=1/max_abs(tau_mNa(V),min_num)*(-mNa+mNa_inf(V)) # gating equation\n",
    "    du3=1/max_abs(tau_hNa(V),min_num)*(-hNa+hNa_inf(V))\n",
    "    du4=1/max_abs(tau_mH(V),min_num)*(-mH+mH_inf(V))\n",
    "    du5=1/max_abs(tau_mt(V),min_num)*(-mt+mt_inf(V))\n",
    "    du6=1/max_abs(tau_ht(V),min_num)*(-ht+ht_inf(V))\n",
    "    du7=1/max_abs(tau_mA(V),min_num)*(-mA+mA_inf(V))\n",
    "    du8=1/max_abs(tau_hA(V),min_num)*(-hA+hA_inf(V))\n",
    "    du9=1/max_abs(tau_mKd(V),min_num)*(-mKd+mKd_inf(V))\n",
    "    du10=1/max_abs(tau_mL(V),min_num)*(-mL+mL_inf(V))\n",
    "    du11=(-0.1*(gL*mL*(V-VCa))-0.01*Ca)/4 # Variation of intracellular calcium concentration\n",
    "    du12=a*Syn_sigm(V_pre)*(1-mSyn)-b*mSyn\n",
    "    du13=-noise/taunoise # Noise equation\n",
    "    \n",
    "    return [du1,du2,du3,du4,du5,du6,du7,du8,du9,du10,du11,du12,du13]"
   ]
  },
  {
   "cell_type": "code",
   "execution_count": 88,
   "metadata": {},
   "outputs": [],
   "source": [
    "@njit\n",
    "def  OB_ODE_element(t,u,p,V_pre,mask,gamma_mask,alpha,gamma):\n",
    "    \n",
    "    min_num=1e-60\n",
    "    #it=iter(u)\n",
    "    #dinamics,Theta,phi,P,u_sys=[[next(it) for _ in range(size)] for size in variable_size]\n",
    "    \n",
    "    V,mNa,hNa,mH,mt,ht,mA,hA,mKd,mL,Ca,mSyn,noise=u[0:pos_dinamics]\n",
    "    \n",
    "    u_sys=u[pos_p:pos_u_sys]\n",
    "    P=u[pos_phi:pos_p].reshape(num_phi,num_phi)\n",
    "    Theta=u[pos_dinamics:pos_Theta]\n",
    "    phi=u[pos_Theta:pos_phi]\n",
    "    \n",
    "    obesV=u_sys[0]\n",
    "    \n",
    "    \n",
    "    Iapp=p[0] # Amplitude of constant applied current\n",
    "    I1=p[1] # Amplitude of first step input\n",
    "    I2=p[2] # Amplitude of second step input\n",
    "    ti1=p[3] # Starting time of first step input\n",
    "    tf1=p[4] # Ending time of first step input\n",
    "    ti2=p[5] # Starting time of second step input\n",
    "    tf2=p[6] # Ending time of second step input\n",
    "    gT=p[7] # T-type calcium current maximal conductance\n",
    "    gKd=p[8]  # Delayed-rectifier potassium current maximal conductance\n",
    "    gH=p[9] # H-current maximal conductance\n",
    "    gNa=p[10] # Sodium current maximal conductance\n",
    "    gA=p[11] # A-type potassium current maximal conductance\n",
    "    gKir=p[12]  # Inward-rectifier potassium current maximal conductance\n",
    "    gLeak=p[13] # Leak current maximal conductance\n",
    "    gL=p[14] # L-type calcium current maximal conductance\n",
    "    gKCa=p[15] # Calcium-activated potassium current maximal conductance\n",
    "    gSyn=p[16] #synaptic conductance\n",
    "    a=p[17]\n",
    "    b=p[18]\n",
    "    C=p[19] # Membrane capacitance\n",
    "    taunoise=p[21] # Cutoff frequency for low-pass filtered Gaussian noise\n",
    "    Ain=p[22] # Amplitude of sinusoïdal inut\n",
    "    Win=p[23] # Frequency of  sinusoïdal inut\n",
    "\n",
    "    \n",
    "    \n",
    "    PHI0= -mNa**3*hNa*(obesV-VNa) \n",
    "    PHI1= -mH*(obesV-VH)\n",
    "    PHI2= -mt**2*ht*(obesV-VCa)\n",
    "    PHI3= -mA**4*hA*(obesV-VK)\n",
    "    PHI4= - mKd**4*(obesV-VK)\n",
    "    PHI5= -mKir_inf(obesV)*(obesV-VK)\n",
    "    PHI6= -(obesV-Vleak)\n",
    "    PHI7= -mL*(obesV-VCa)\n",
    "    PHI8= -(Ca/(15.0+Ca))**4*(obesV-VK)\n",
    "    PHI9= -mSyn*(obesV-VSyn)\n",
    "    Current_in= Iapp + I1*pulse(t,ti1,tf1) + I2*pulse(t,ti2,tf2)+ Ain*sin(2*pi*Win*t)\n",
    "    \n",
    "    \n",
    "    PHI= np.array([PHI0,PHI1,PHI2,PHI3,PHI4,PHI5,PHI6,PHI7,PHI8,PHI9])\n",
    "    \n",
    "    #ODEs\n",
    "    \n",
    "    du1=1/C*(np.dot(PHI,Theta) + Current_in)+ gamma*(obesV-V)+gamma*np.dot(np.dot(phi,P),phi)*(obesV-V)# Voltage equation\n",
    "    \n",
    "    du2=1/max_abs(tau_mNa(obesV),min_num)*(-mNa+mNa_inf(obesV)) # gating equation\n",
    "    du3=1/max_abs(tau_hNa(obesV),min_num)*(-hNa+hNa_inf(obesV))\n",
    "    du4=1/max_abs(tau_mH(obesV),min_num)*(-mH+mH_inf(obesV))\n",
    "    du5=1/max_abs(tau_mt(obesV),min_num)*(-mt+mt_inf(obesV))\n",
    "    du6=1/max_abs(tau_ht(obesV),min_num)*(-ht+ht_inf(obesV))\n",
    "    du7=1/max_abs(tau_mA(obesV),min_num)*(-mA+mA_inf(obesV))\n",
    "    du8=1/max_abs(tau_hA(obesV),min_num)*(-hA+hA_inf(obesV))\n",
    "    du9=1/max_abs(tau_mKd(obesV),min_num)*(-mKd+mKd_inf(obesV))\n",
    "    du10=1/max_abs(tau_mL(obesV),min_num)*(-mL+mL_inf(obesV))\n",
    "    du11=(-0.1*(gL*mL*(obesV-VCa))-0.01*Ca)/4 # Variation of intracellular calcium concentration\n",
    "    du12=a*Syn_sigm(V_pre)*(1-mSyn)-b*mSyn\n",
    "    du13=-noise/taunoise # Noise equation\n",
    "    \n",
    "    du14=gamma_mask*np.dot(P,phi)*(obesV-V)\n",
    "    \n",
    "    du15=mask*(-gamma*phi+PHI)\n",
    "    #du14=(np.absolute(du14)>min_num)*du14\n",
    "    \n",
    "    du16=alpha*P-np.dot(np.dot(P,np.outer(phi,phi)),P)\n",
    "    \n",
    "    du17=HM_ODE_element(t,u_sys,p,V_pre)\n",
    "    \n",
    "    du18=gamma*(obesV-V)+gamma*np.dot(np.dot(phi,P),phi)*(obesV-V)\n",
    "    \n",
    "    \n",
    "    return [du1,du2,du3,du4,du5,du6,du7,du8,du9,du10,du11,du12,du13], du14 ,du15,du16.flatten(),du17,du18\n",
    "\n"
   ]
  },
  {
   "cell_type": "code",
   "execution_count": 28,
   "metadata": {},
   "outputs": [],
   "source": [
    "def OB_ODE(t,u):\n",
    "    return OB_ODE2_element(t,u,p,0)"
   ]
  },
  {
   "cell_type": "code",
   "execution_count": 29,
   "metadata": {},
   "outputs": [],
   "source": [
    "@jit\n",
    "def HM_ODE(t,u):\n",
    "    return HM_ODE_element(t,u,p,0)"
   ]
  },
  {
   "cell_type": "code",
   "execution_count": 172,
   "metadata": {},
   "outputs": [],
   "source": [
    "def OB_ODE_Controller(t,u):\n",
    "    a,b,c,d,e,f=OB_ODE_element(t,np.array(u[0:num_parameter]),p,0,mask,gamma_mask,alpha,gamma)\n",
    "    v_out=u[num_dinamics+num_Theta+num_phi+num_p]-u[0]-0.9*u[-1]\n",
    "    return [*a,*b,*c,*d,*e,v_out]"
   ]
  },
  {
   "cell_type": "code",
   "execution_count": 250,
   "metadata": {},
   "outputs": [],
   "source": [
    "def OB_ODE_Controller2(t,u):\n",
    "    a,b,c,d,e,f=OB_ODE_element(t,np.array(u[0:num_parameter]),p,0,mask,gamma_mask,alpha,gamma)\n",
    "    \n",
    "    '''[ 'Na','H','t','A','K','Kir','leak','L','KCa']'''\n",
    "    gT=u[pos_dinamics+2] #T-type calcium current maximal conductance\n",
    "    gKd=u[pos_dinamics+4]  # Delayed-rectifier potassium current maximal conductance\n",
    "    gH=u[pos_dinamics+1] # H-current maximal conductance\n",
    "    gNa=u[pos_dinamics] # Sodium current maximal conductance\n",
    "    gA=u[pos_dinamics+3] # A-type potassium current maximal conductance\n",
    "    gKir=u[pos_dinamics+5]  # Inward-rectifier potassium current maximal conductance\n",
    "    gLeak=u[pos_dinamics+6] # Leak current maximal conductance\n",
    "    gL=u[pos_dinamics+7] # L-type calcium current maximal conductance\n",
    "    gKCa=u[pos_dinamics+8] # Calcium-activated potassium current maximal conductance\n",
    "    gSyn=u[pos_dinamics+9] #synaptic conductance\n",
    "    \n",
    "    smoothed_thetas=np.array([gT,gKd,gH,gNa,gA,gKir,gLeak,gL,gKCa,gSyn])\n",
    "    smoothed_thetas_=(-np.array(u[num_parameter:num_parameter+10])+smoothed_thetas)/5000 #[gT,gKd,gH,gNa,gA,gKir,gLeak,gL,gKCa,gSyn]\n",
    "    \n",
    "    gT,gKd,gH,gNa,gA,gKir,gLeak,gL,gKCa,gSyn = u[num_parameter:num_parameter+10]\n",
    "\n",
    "    \n",
    "    p2=[Iapp,I1,I2,ti1,tf1,ti2,tf2,gT,gKd,gH,gNa,gA,gKir,gLeak,gL,gKCa,gSyn,para_a,para_b,C,NoiseIN,TauNoise,Ain,Win]\n",
    "    \n",
    "    neuron1= HM_ODE_element(t,u[:13],p2,u[13])\n",
    "    \n",
    "    v_out=u[num_dinamics+num_Theta+num_phi+num_p]-neuron1[0]-0.9*u[-1]\n",
    "    \n",
    "    return [*a,*b,*c,*d,*e,*smoothed_thetas_,v_out]"
   ]
  },
  {
   "cell_type": "code",
   "execution_count": 251,
   "metadata": {},
   "outputs": [],
   "source": [
    "def HCO(t,u):\n",
    "    neuron1= HM_ODE_element(t,np.array(u[:13]),p1,u[13])\n",
    "    neuron2= HM_ODE_element(t,np.array(u[13:]),p2,u[0])\n",
    "    return [*neuron1,*neuron2]"
   ]
  },
  {
   "cell_type": "code",
   "execution_count": 8,
   "metadata": {},
   "outputs": [],
   "source": [
    "def three_neurons(t,u):\n",
    "    neuron1= HM_ODE_element(t,u[:13],p1,u[13])\n",
    "    neuron2= HM_ODE_element(t,u[13:26],p2,u[26])\n",
    "    neuron3= HM_ODE_element(t,u[26:],p3,u[0])\n",
    "    return neuron1+neuron2+neuron3"
   ]
  },
  {
   "cell_type": "code",
   "execution_count": 9,
   "metadata": {},
   "outputs": [],
   "source": [
    "def three_neurons_OB(t,u):\n",
    "    a,b,c,d,e= OB_ODE_element(t,np.array(u[:num_parameter]),p1,u[num_parameter+pos_p])\n",
    "    neuron1=[*a,*b,*c,*d,*e]\n",
    "    a,b,c,d,e= OB_ODE_element(t,np.array(u[num_parameter:num_parameter*2]),p2,u[num_parameter*2+pos_p])\n",
    "    neuron2=[*a,*b,*c,*d,*e]\n",
    "    a,b,c,d,e= OB_ODE_element(t,np.array(u[num_parameter*2:]),p2,u[pos_p])\n",
    "    neuron3=[*a,*b,*c,*d,*e]\n",
    "    return [*neuron1,*neuron2,*neuron3]"
   ]
  },
  {
   "cell_type": "code",
   "execution_count": 10,
   "metadata": {},
   "outputs": [],
   "source": [
    "def four_neurons(t,u):\n",
    "    neuron1= HM_ODE_element(t,u[:13],p1,u[13])\n",
    "    neuron2= HM_ODE_element(t,u[13:26],p2,u[26])\n",
    "    neuron3= HM_ODE_element(t,u[26:39],p3,u[39])\n",
    "    neuron4= HM_ODE_element(t,u[39:],p4,u[0])\n",
    "    return neuron1+neuron2+neuron3+neuron4"
   ]
  },
  {
   "cell_type": "code",
   "execution_count": 11,
   "metadata": {},
   "outputs": [],
   "source": [
    "def five_neurons(t,u):\n",
    "    neuron1= HM_ODE_element(t,u[:13],p1,u[13])\n",
    "    neuron2= HM_ODE_element(t,u[13:26],p2,u[26])\n",
    "    neuron3= HM_ODE_element(t,u[26:39],p3,u[39])\n",
    "    neuron4= HM_ODE_element(t,u[39:52],p4,u[52])\n",
    "    neuron5= HM_ODE_element(t,u[52:],p5,u[0])\n",
    "    return neuron1+neuron2+neuron3+neuron4+neuron5"
   ]
  },
  {
   "cell_type": "code",
   "execution_count": 12,
   "metadata": {},
   "outputs": [],
   "source": [
    "def HCO_OB(t,u):\n",
    "    a,b,c,d,e= OB_ODE_element(t,np.array(u[:num_parameter]),p1,u[num_parameter+num_dinamics+num_Theta+num_phi+num_p])\n",
    "    neuron1=[*a,*b,*c,*d,*e]\n",
    "    a,b,c,d,e= OB_ODE_element(t,np.array(u[num_parameter:]),p2,u[num_dinamics+num_Theta+num_phi+num_p])\n",
    "    neuron2=[*a,*b,*c,*d,*e]\n",
    "    return [*neuron1,*neuron2]"
   ]
  },
  {
   "cell_type": "code",
   "execution_count": 44,
   "metadata": {},
   "outputs": [],
   "source": [
    "num_dinamics=13\n",
    "num_Theta=10\n",
    "num_phi=num_Theta\n",
    "num_p=num_Theta**2\n",
    "num_u_sys=13\n",
    "num_parameter=num_dinamics+num_Theta+num_phi+num_p+num_u_sys\n",
    "model_output=num_dinamics+num_Theta+num_phi+num_p+1\n",
    "variable_size=[num_dinamics,num_Theta,num_phi,num_p,num_u_sys]\n",
    "\n",
    "pos_dinamics=num_dinamics\n",
    "pos_Theta=pos_dinamics+num_Theta\n",
    "pos_phi=pos_Theta+num_phi\n",
    "pos_p=pos_phi+num_p\n",
    "pos_u_sys=pos_p+num_u_sys"
   ]
  },
  {
   "cell_type": "code",
   "execution_count": 21,
   "metadata": {},
   "outputs": [],
   "source": [
    "#Test real model\n",
    "## Simulation of the model in current-clamp mode\n",
    "\n",
    "## Definition of reversal potential values. \n",
    "VNa = 45; # Sodium reversal potential 45\n",
    "VCa = 120.; # Calcium reversal potential\n",
    "VK = -90.; # Potassium reversal potential -90\n",
    "VH= -43.; # Reversal potential for the H-current (permeable to both sodium and potassium ions) -43\n",
    "Vleak = -55.; # Reversal potential of leak channels\n",
    "VSyn=-120.\n",
    "\n",
    "## Definition of membrane capacitance and maximal conductance values. \n",
    "C=0.1; # Membrane capacitance\n",
    "gLeak=0.1; # Leak current maximal conductance\n",
    "gNa=120.; # Sodium current maximal conductance\n",
    "gKd=80.; # Delayed-rectifier potassium current maximal conductance\n",
    "gA=0.; # A-type potassium current maximal conductance\n",
    "gKir=0.; # Inward-rectifier potassium current maximal conductance\n",
    "gT=2.; # T-type calcium current maximal conductance\n",
    "gH=0.1; # H-current maximal conductance\n",
    "gL=0.4; # L-type calcium current maximal conductance\n",
    "gKCa=2.; # Calcium-activated potassium current maximal conductance\n",
    "gSyn=0\n",
    "para_a=2.0\n",
    "para_b=0.1\n",
    "## Definition of simulation time.\n",
    "Tfinal=4000.0\n",
    "tspan=[0.0,Tfinal]\n",
    "\n",
    "## Input current defition\n",
    "# Constant current\n",
    "Iapp=0\n",
    "\n",
    "# Current pulses\n",
    "I1=0 # Amplitude of first pulse\n",
    "ti1=0 # Starting time of first pulse\n",
    "tf1=50 # Ending time of first pulse\n",
    "I2=0 # Amplitude of second pulse\n",
    "ti2=50 # Starting time of second pulse\n",
    "tf2=150 # Ending time of first pulse\n",
    "\n",
    "# Sinusoidal input\n",
    "Ain=2.5 # Amplitude\n",
    "Win=0.5 # Frequency\n",
    "\n",
    "# Input noise\n",
    "NoiseIN=0. # Amplitude\n",
    "TauNoise=2.0 # Cut-off frequency\n",
    "\n",
    "## Current-clamp experiment\n",
    "# Parameter vector for simulations\n",
    "p=[Iapp,I1,I2,ti1,tf1,ti2,tf2,gT,gKd,gH,gNa,gA,gKir,gLeak,gL,gKCa,gSyn,para_a,para_b,C,NoiseIN,TauNoise,Ain,Win]\n",
    "# Initial conditions\n",
    "V0= -60.\n",
    "x0 = [V0,mNa_inf(V0),hNa_inf(V0),mH_inf(V0),mt_inf(V0),ht_inf(V0) ,mA_inf(V0), hA_inf(V0), mKd_inf(V0), mL_inf(V0), -10*gL*mL_inf(V0)*(V0-VCa), Syn_inf(V0,a,b), 0.0]"
   ]
  },
  {
   "cell_type": "code",
   "execution_count": 22,
   "metadata": {},
   "outputs": [
    {
     "name": "stderr",
     "output_type": "stream",
     "text": [
      "C:\\Users\\lenovo\\anaconda3\\lib\\site-packages\\ipykernel_launcher.py:2: DeprecationWarning: time.clock has been deprecated in Python 3.3 and will be removed from Python 3.8: use time.perf_counter or time.process_time instead\n",
      "  \n"
     ]
    },
    {
     "name": "stdout",
     "output_type": "stream",
     "text": [
      "Time elapsed:  18.143891800000006\n"
     ]
    },
    {
     "name": "stderr",
     "output_type": "stream",
     "text": [
      "C:\\Users\\lenovo\\anaconda3\\lib\\site-packages\\ipykernel_launcher.py:4: DeprecationWarning: time.clock has been deprecated in Python 3.3 and will be removed from Python 3.8: use time.perf_counter or time.process_time instead\n",
      "  after removing the cwd from sys.path.\n"
     ]
    }
   ],
   "source": [
    "import time\n",
    "t0= time.clock()\n",
    "sol=solve_ivp(HM_ODE ,tspan , x0)\n",
    "t1 = time.clock() - t0\n",
    "print(\"Time elapsed: \", t1)"
   ]
  },
  {
   "cell_type": "code",
   "execution_count": 23,
   "metadata": {},
   "outputs": [
    {
     "data": {
      "text/plain": [
       "[<matplotlib.lines.Line2D at 0x23450c3df88>]"
      ]
     },
     "execution_count": 23,
     "metadata": {},
     "output_type": "execute_result"
    },
    {
     "data": {
      "image/png": "[encoded data removed]",
      "text/plain": [
       "<Figure size 432x288 with 1 Axes>"
      ]
     },
     "metadata": {
      "needs_background": "light"
     },
     "output_type": "display_data"
    }
   ],
   "source": [
    "\n",
    "plt.plot(sol.t, sol.y[0])"
   ]
  },
  {
   "cell_type": "code",
   "execution_count": 252,
   "metadata": {},
   "outputs": [
    {
     "name": "stdout",
     "output_type": "stream",
     "text": [
      "[31.02051343 24.31205734 49.75385075 16.89658235 22.54193546  0.27306325\n",
      " 26.36238241 38.70556272 32.7756108   8.2589447 ]\n",
      "157\n",
      "146\n",
      "[1 1 1 1 1 1 1 1 1 1]\n"
     ]
    }
   ],
   "source": [
    "#Test real model\n",
    "## Simulation of the model in current-clamp mode\n",
    "\n",
    "## Definition of reversal potential values. \n",
    "VNa = 45.; # Sodium reversal potential 45\n",
    "VCa = 120.; # Calcium reversal potential\n",
    "VK = -90.; # Potassium reversal potential -90\n",
    "VH= -43.; # Reversal potential for the H-current (permeable to both sodium and potassium ions) -43\n",
    "Vleak = -55.; # Reversal potential of leak channels\n",
    "VSyn=-120.\n",
    "\n",
    "## Definition of membrane capacitance and maximal conductance values. \n",
    "C=0.1; # Membrane capacitance\n",
    "gLeak=0.1; # Leak current maximal conductance\n",
    "gNa=120.; # Sodium current maximal conductance\n",
    "gKd=80.; # Delayed-rectifier potassium current maximal conductance\n",
    "gA=0.; # A-type potassium current maximal conductance\n",
    "gKir=0.; # Inward-rectifier potassium current maximal conductance\n",
    "gT=2.; # T-type calcium current maximal conductance\n",
    "gH=0.1; # H-current maximal conductance\n",
    "gL=0.4; # L-type calcium current maximal conductance\n",
    "gKCa=2.; # Calcium-activated potassium current maximal conductance\n",
    "gSyn=0.\n",
    "para_a=2.0\n",
    "para_b=0.1\n",
    "## Definition of simulation time.\n",
    "Tfinal=8000.0\n",
    "tspan=[0.0,Tfinal]\n",
    "\n",
    "## Input current defition\n",
    "# Constant current\n",
    "Iapp=0.\n",
    "\n",
    "# Current pulses\n",
    "I1=-5. # Amplitude of first pulse\n",
    "ti1=0. # Starting time of first pulse\n",
    "tf1=3000. # Ending time of first pulse\n",
    "I2=-2.5 # Amplitude of second pulse\n",
    "ti2=3000. # Starting time of second pulse\n",
    "tf2=8000. # Ending time of first pulse\n",
    "\n",
    "# Sinusoidal input\n",
    "Ain=0. # Amplitude\n",
    "Win=0.5 # Frequency\n",
    "\n",
    "# Input noise\n",
    "NoiseIN=0. # Amplitude\n",
    "TauNoise=2.0 # Cut-off frequency\n",
    "\n",
    "#Hyperparameters\n",
    "gamma=10\n",
    "variable_mask=np.array([1,1,1,1,1,1,1,1,1,1])\n",
    "mask=np.array([1,1,1,1,1,1,1,1,1,1])#freeze variable by setting 0 in the mask\n",
    "gamma_mask=mask*gamma\n",
    "variable_alpha=np.array([1,1,1,1,1,1,1,1,1,1])*0.1\n",
    "alpha=np.outer(variable_alpha,variable_alpha)\n",
    "\n",
    "## Current-clamp experiment\n",
    "# Parameter vector for simulations\n",
    "p=[Iapp,I1,I2,ti1,tf1,ti2,tf2,gT,gKd,gH,gNa,gA,gKir,gLeak,gL,gKCa,gSyn,a,b,C,NoiseIN,TauNoise,Ain,Win]\n",
    "# Initial conditions\n",
    "V0= -60.\n",
    "x0 = [V0,mNa_inf(V0),hNa_inf(V0),mH_inf(V0),mt_inf(V0),ht_inf(V0) ,mA_inf(V0), hA_inf(V0), mKd_inf(V0), mL_inf(V0), -10*gL*mL_inf(V0)*(V0-VCa), Syn_inf(V0,a,b), 0.0]\n",
    "Theta0= np.random.rand(num_Theta)*50\n",
    "#Theta0[7]=0.4\n",
    "print(Theta0)\n",
    "A0=(np.ones(num_Theta)*0.1).tolist()*variable_mask\n",
    "P0=np.diag(np.diag(np.outer(A0,A0))).flatten().tolist()\n",
    "#P0[-1]=0\n",
    "X0_=[*x0,*Theta0,*A0,*P0,*x0,*Theta0,0.]\n",
    "print(len(X0_))\n",
    "print(num_parameter)\n",
    "print(mask)"
   ]
  },
  {
   "cell_type": "code",
   "execution_count": 253,
   "metadata": {},
   "outputs": [
    {
     "name": "stderr",
     "output_type": "stream",
     "text": [
      "C:\\Users\\lenovo\\anaconda3\\lib\\site-packages\\ipykernel_launcher.py:2: DeprecationWarning: time.clock has been deprecated in Python 3.3 and will be removed from Python 3.8: use time.perf_counter or time.process_time instead\n",
      "  \n"
     ]
    },
    {
     "name": "stdout",
     "output_type": "stream",
     "text": [
      "Time elapsed:  72.18036930000017\n"
     ]
    },
    {
     "name": "stderr",
     "output_type": "stream",
     "text": [
      "C:\\Users\\lenovo\\anaconda3\\lib\\site-packages\\ipykernel_launcher.py:4: DeprecationWarning: time.clock has been deprecated in Python 3.3 and will be removed from Python 3.8: use time.perf_counter or time.process_time instead\n",
      "  after removing the cwd from sys.path.\n"
     ]
    }
   ],
   "source": [
    "import time\n",
    "t0= time.clock()\n",
    "sol=solve_ivp(OB_ODE_Controller2,tspan , X0_)\n",
    "t1 = time.clock() - t0\n",
    "print(\"Time elapsed: \", t1)"
   ]
  },
  {
   "cell_type": "code",
   "execution_count": 254,
   "metadata": {},
   "outputs": [
    {
     "data": {
      "text/plain": [
       "[<matplotlib.lines.Line2D at 0x2340c5e8f08>]"
      ]
     },
     "execution_count": 254,
     "metadata": {},
     "output_type": "execute_result"
    },
    {
     "data": {
      "image/png": "[encoded data removed]",
      "text/plain": [
       "<Figure size 432x288 with 1 Axes>"
      ]
     },
     "metadata": {
      "needs_background": "light"
     },
     "output_type": "display_data"
    }
   ],
   "source": [
    "plt.plot(sol.t[4000:], sol.y[-1][4000:])"
   ]
  },
  {
   "cell_type": "code",
   "execution_count": 255,
   "metadata": {},
   "outputs": [
    {
     "data": {
      "text/plain": [
       "[<matplotlib.lines.Line2D at 0x23411135388>]"
      ]
     },
     "execution_count": 255,
     "metadata": {},
     "output_type": "execute_result"
    },
    {
     "data": {
      "image/png": "[encoded data removed]",
      "text/plain": [
       "<Figure size 432x288 with 1 Axes>"
      ]
     },
     "metadata": {
      "needs_background": "light"
     },
     "output_type": "display_data"
    }
   ],
   "source": [
    "plt.plot(sol.t[4000:], sol.y[0][4000:])\n",
    "plt.plot(sol.t[4000:], sol.y[num_dinamics+num_Theta+num_phi+num_p][4000:])"
   ]
  },
  {
   "cell_type": "code",
   "execution_count": 256,
   "metadata": {},
   "outputs": [
    {
     "name": "stderr",
     "output_type": "stream",
     "text": [
      "C:\\Users\\lenovo\\anaconda3\\lib\\site-packages\\IPython\\core\\pylabtools.py:132: UserWarning: Creating legend with loc=\"best\" can be slow with large amounts of data.\n",
      "  fig.canvas.print_figure(bytes_io, **kw)\n"
     ]
    },
    {
     "data": {
      "image/png": "[encoded data removed]",
      "text/plain": [
       "<Figure size 432x288 with 1 Axes>"
      ]
     },
     "metadata": {
      "needs_background": "light"
     },
     "output_type": "display_data"
    },
    {
     "name": "stdout",
     "output_type": "stream",
     "text": [
      "['Na', 'H', 't', 'A', 'K', 'Kir', 'leak', 'L', 'KCa', 'gSyn']\n",
      "[ 1.19923415e+02  1.00247823e-01  1.99909688e+00 -3.16912826e-04\n",
      "  7.99498312e+01  7.30324863e-03  9.99920222e-02  3.99597207e-01\n",
      "  1.99733298e+00  5.53500464e-05]\n"
     ]
    }
   ],
   "source": [
    "#plot parameters\n",
    "labels=[ 'Na','H','t','A','K','Kir','leak','L','KCa','gSyn']\n",
    "plt.figure()\n",
    "for i in range(num_Theta):\n",
    "    plt.plot(sol.t,sol.y[13+i],label=labels[i])\n",
    "plt.legend()\n",
    "plt.show()\n",
    "print(labels)\n",
    "print(sol.y[13:13+num_Theta,-1])"
   ]
  },
  {
   "cell_type": "code",
   "execution_count": 257,
   "metadata": {},
   "outputs": [
    {
     "name": "stderr",
     "output_type": "stream",
     "text": [
      "C:\\Users\\lenovo\\anaconda3\\lib\\site-packages\\IPython\\core\\pylabtools.py:132: UserWarning: Creating legend with loc=\"best\" can be slow with large amounts of data.\n",
      "  fig.canvas.print_figure(bytes_io, **kw)\n"
     ]
    },
    {
     "data": {
      "image/png": "[encoded data removed]",
      "text/plain": [
       "<Figure size 432x288 with 1 Axes>"
      ]
     },
     "metadata": {
      "needs_background": "light"
     },
     "output_type": "display_data"
    },
    {
     "name": "stdout",
     "output_type": "stream",
     "text": [
      "['Na', 'H', 't', 'A', 'K', 'Kir', 'leak', 'L', 'KCa', 'gSyn']\n",
      "[15.64069119 59.29238697 10.93734335 84.55283737  5.92098923  0.51649786\n",
      "  5.60069654  9.8348345  15.02139995  2.30934683]\n"
     ]
    }
   ],
   "source": [
    "#plot parameters\n",
    "labels=[ 'Na','H','t','A','K','Kir','leak','L','KCa','gSyn']\n",
    "plt.figure()\n",
    "for i in range(num_Theta):\n",
    "    plt.plot(sol.t,sol.y[num_parameter+i],label=labels[i])\n",
    "plt.legend()\n",
    "plt.show()\n",
    "print(labels)\n",
    "print(sol.y[num_parameter:num_parameter+10,-1])"
   ]
  },
  {
   "cell_type": "code",
   "execution_count": null,
   "metadata": {},
   "outputs": [],
   "source": []
  }
 ],
 "metadata": {
  "kernelspec": {
   "display_name": "Python 3",
   "language": "python",
   "name": "python3"
  },
  "language_info": {
   "codemirror_mode": {
    "name": "ipython",
    "version": 3
   },
   "file_extension": ".py",
   "mimetype": "text/x-python",
   "name": "python",
   "nbconvert_exporter": "python",
   "pygments_lexer": "ipython3",
   "version": "3.7.6"
  }
 },
 "nbformat": 4,
 "nbformat_minor": 4
}
